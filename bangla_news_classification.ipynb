{
  "cells": [
    {
      "cell_type": "markdown",
      "metadata": {
        "id": "rQvuNjlMnKm6"
      },
      "source": [
        "## GPU check"
      ]
    },
    {
      "cell_type": "code",
      "execution_count": 1,
      "metadata": {
        "colab": {
          "base_uri": "https://localhost:8080/"
        },
        "id": "E_sQ7WOzxyOd",
        "outputId": "02baaf9d-1078-4c9a-a230-d2be3c9c0841"
      },
      "outputs": [
        {
          "output_type": "stream",
          "name": "stdout",
          "text": [
            "GPU 0: Tesla T4 (UUID: GPU-fe4e7606-0167-2128-a5ca-6730a23cf4aa)\n"
          ]
        }
      ],
      "source": [
        "!nvidia-smi -L\n"
      ]
    },
    {
      "cell_type": "code",
      "execution_count": 2,
      "metadata": {
        "colab": {
          "base_uri": "https://localhost:8080/"
        },
        "id": "qEJCsmB-08sB",
        "outputId": "4291d2db-8e34-44d8-dd79-7434fc00e0e7"
      },
      "outputs": [
        {
          "output_type": "stream",
          "name": "stdout",
          "text": [
            "Default GPU Device:/device:GPU:0\n"
          ]
        }
      ],
      "source": [
        "import tensorflow as tf \n",
        "\n",
        "if tf.test.gpu_device_name(): \n",
        "\n",
        "    print('Default GPU Device:{}'.format(tf.test.gpu_device_name()))\n",
        "\n",
        "else:\n",
        "\n",
        "   print(\"enable gpu from runtime\")"
      ]
    },
    {
      "cell_type": "markdown",
      "metadata": {
        "id": "GOaBnsaNnZ2w"
      },
      "source": [
        "## mounting gdrive "
      ]
    },
    {
      "cell_type": "code",
      "execution_count": 3,
      "metadata": {
        "colab": {
          "base_uri": "https://localhost:8080/"
        },
        "id": "l_Go_lw82ut1",
        "outputId": "a5740d97-c413-4440-e344-610a7e460576"
      },
      "outputs": [
        {
          "output_type": "stream",
          "name": "stdout",
          "text": [
            "Drive already mounted at /content/drive; to attempt to forcibly remount, call drive.mount(\"/content/drive\", force_remount=True).\n"
          ]
        }
      ],
      "source": [
        "from google.colab import drive\n",
        "drive.mount('/content/drive')"
      ]
    },
    {
      "cell_type": "markdown",
      "metadata": {
        "id": "p2NEtZtLnk5M"
      },
      "source": [
        "## Load dataset from kaggle"
      ]
    },
    {
      "cell_type": "code",
      "execution_count": 4,
      "metadata": {
        "id": "kO4s_QWix7sK"
      },
      "outputs": [],
      "source": [
        "!pip install opendatasets --upgrade --quiet"
      ]
    },
    {
      "cell_type": "code",
      "source": [
        "!wget https://raw.githubusercontent.com/afschowdhury/config-files/main/kaggle.json?token=GHSAT0AAAAAABUSKKM3ZFMQLIQLF7LPSYI4YUALKOA"
      ],
      "metadata": {
        "colab": {
          "base_uri": "https://localhost:8080/"
        },
        "id": "9JH9xfjsMXGd",
        "outputId": "774e14a0-0940-4c0d-e87e-8b649a0f1eb2"
      },
      "execution_count": 5,
      "outputs": [
        {
          "output_type": "stream",
          "name": "stdout",
          "text": [
            "--2022-05-15 03:45:25--  https://raw.githubusercontent.com/afschowdhury/config-files/main/kaggle.json?token=GHSAT0AAAAAABUSKKM3ZFMQLIQLF7LPSYI4YUALKOA\n",
            "Resolving raw.githubusercontent.com (raw.githubusercontent.com)... 185.199.111.133, 185.199.109.133, 185.199.110.133, ...\n",
            "Connecting to raw.githubusercontent.com (raw.githubusercontent.com)|185.199.111.133|:443... connected.\n",
            "HTTP request sent, awaiting response... 404 Not Found\n",
            "2022-05-15 03:45:25 ERROR 404: Not Found.\n",
            "\n"
          ]
        }
      ]
    },
    {
      "cell_type": "code",
      "execution_count": 6,
      "metadata": {
        "colab": {
          "base_uri": "https://localhost:8080/"
        },
        "id": "VUpXYHDMya2j",
        "outputId": "9ed4a80d-8c55-46b9-ef00-34927b0885d7"
      },
      "outputs": [
        {
          "output_type": "stream",
          "name": "stdout",
          "text": [
            "Skipping, found downloaded files in \"./bangla-newspaper-dataset\" (use force=True to force download)\n"
          ]
        }
      ],
      "source": [
        "dataset_url = \"https://www.kaggle.com/furcifer/bangla-newspaper-dataset?select=data_v2\"\n",
        "import opendatasets as od\n",
        "\n",
        "od.download(dataset_url)"
      ]
    },
    {
      "cell_type": "markdown",
      "metadata": {
        "id": "iuiKasOxpbW0"
      },
      "source": [
        "## Loading data from json file "
      ]
    },
    {
      "cell_type": "code",
      "execution_count": 7,
      "metadata": {
        "id": "xGK5Ohvp0y1A"
      },
      "outputs": [],
      "source": [
        "import json \n",
        "\n",
        "\n",
        "with open(\"bangla-newspaper-dataset/data_v2/data_v2.json\", encoding = \"utf-8\") as dt:\n",
        "  data = json.load(dt) "
      ]
    },
    {
      "cell_type": "markdown",
      "metadata": {
        "id": "LYOgjU9Pp-Mh"
      },
      "source": [
        "## Data Analysis"
      ]
    },
    {
      "cell_type": "code",
      "execution_count": 8,
      "metadata": {
        "colab": {
          "base_uri": "https://localhost:8080/"
        },
        "id": "A_5sBgN8-6Oz",
        "outputId": "a6a2ae91-b210-4ed1-be85-8fab7831fb3d"
      },
      "outputs": [
        {
          "output_type": "execute_result",
          "data": {
            "text/plain": [
              "list"
            ]
          },
          "metadata": {},
          "execution_count": 8
        }
      ],
      "source": [
        "type(data)"
      ]
    },
    {
      "cell_type": "code",
      "execution_count": 9,
      "metadata": {
        "colab": {
          "base_uri": "https://localhost:8080/"
        },
        "id": "OaF6NaLCOvCq",
        "outputId": "af12e3b3-e283-44d5-8db5-54d2b94e4c75"
      },
      "outputs": [
        {
          "output_type": "execute_result",
          "data": {
            "text/plain": [
              "dict"
            ]
          },
          "metadata": {},
          "execution_count": 9
        }
      ],
      "source": [
        "type(data[0])"
      ]
    },
    {
      "cell_type": "code",
      "execution_count": 10,
      "metadata": {
        "colab": {
          "base_uri": "https://localhost:8080/"
        },
        "id": "HiuAzvlR_25I",
        "outputId": "9f591e85-b322-402e-9e80-bb3902a0c542"
      },
      "outputs": [
        {
          "output_type": "execute_result",
          "data": {
            "text/plain": [
              "408471"
            ]
          },
          "metadata": {},
          "execution_count": 10
        }
      ],
      "source": [
        "len(data)"
      ]
    },
    {
      "cell_type": "code",
      "execution_count": 11,
      "metadata": {
        "colab": {
          "base_uri": "https://localhost:8080/"
        },
        "id": "j8kA2O0p_-5I",
        "outputId": "63877958-bf90-4a3f-ab42-75e290dda4ae"
      },
      "outputs": [
        {
          "output_type": "execute_result",
          "data": {
            "text/plain": [
              "dict_keys(['author', 'category', 'category_bn', 'published_date', 'modification_date', 'tag', 'comment_count', 'title', 'url', 'content'])"
            ]
          },
          "metadata": {},
          "execution_count": 11
        }
      ],
      "source": [
        "data[0].keys()"
      ]
    },
    {
      "cell_type": "code",
      "execution_count": 12,
      "metadata": {
        "colab": {
          "base_uri": "https://localhost:8080/"
        },
        "id": "THmv3Izd_40u",
        "outputId": "a1544463-cd3e-46b8-c72e-61e02c72f613"
      },
      "outputs": [
        {
          "output_type": "execute_result",
          "data": {
            "text/plain": [
              "{'author': 'গাজীপুর প্রতিনিধি',\n",
              " 'category': 'bangladesh',\n",
              " 'category_bn': 'বাংলাদেশ',\n",
              " 'comment_count': 0,\n",
              " 'content': 'গাজীপুরের কালিয়াকৈর উপজেলার তেলিরচালা এলাকায় আজ বৃহস্পতিবার রাতের টিফিন খেয়ে একটি পোশাক কারখানার ৫০০ শ্রমিক অসুস্থ হয়ে পড়েছেন। এ ঘটনায় বিক্ষোভ করেছেন ওই কারখানার শ্রমিকেরা।সফিপুর মডার্ন হাসপাতালের জরুরি বিভাগের চিকিত্সক আল আমিন প্রথম আলো ডটকমকে বলেন, খাদ্যে বিষক্রিয়ায় তাঁরা (শ্রমিকেরা) অসুস্থ হয়ে পড়েছেন। এতে আতঙ্কিত হওয়ার কিছু নেই। অসুস্থদের চিকিত্সা দেওয়া হয়েছে।কারখানার শ্রমিক ও পুলিশ সূত্রে জানা যায়, উপজেলার তেলিরচালা এলাকার সেজাদ সোয়েটার লিমিটেড কারখানার শ্রমিকদের আজ রাত সাড়ে সাতটার দিকে টিফিন দেওয়া হয়। টিফিনে ছিল ডিম, রুটি, পেটিস ও কলা। টিফিন খেয়ে শ্রমিকেরা যথারীতি কাজে যোগ দেন। ওই টিফিন খাওয়ার প্রায় এক ঘণ্টা পর রাত সাড়ে আটটার দিকে কয়েকজন শ্রমিকের বমি ও পেট ব্যথা শুরু হয়। এরপর ধীরে ধীরে পুরো কারখানার শ্রমিকেরা অসুস্থ হতে থাকে। অনেকেই কারখানার মেঝেতে ঢলে পড়ে। এতে পাঁচ শতাধিক শ্রমিক অসুস্থ হয়ে পড়ে।পরে কারখানা কর্তৃপক্ষ দ্রুত যানবাহনের ব্যবস্থা করে তাদের সফিপুর জেনারেল হাসপাতাল, সফিপুর মডার্ন হাসপাতাল, উপজেলা স্বাস্থ্য কমপ্লেক্সসহ বিভিন্ন ক্লিনিকে ভর্তি করে। বাসি পচা খাবার দেওয়ায় শ্রমিকরা ক্ষুব্ধ হয়ে কারখানার সামনে বিক্ষোভ করে। খবর পেয়ে পুলিশ গিয়ে শ্রমিকদের বুঝিয়ে ও খাবার সরবরাহ প্রতিষ্ঠানের বিরুদ্ধে ব্যবস্থা নেওয়ার আশ্বাস দিলে শ্রমিকেরা শান্ত হয়।সফিপুর জেনারেল হাসপাতালে ভর্তি শ্রমিক জাকির হোসেন ও আসমা আক্তার বলেন, টিফিন খাওয়ার সময় ডিম ও কেক থেকে দুর্গন্ধ বের হচ্ছিল। এ কারণে অনেকেই ওই খাবার খায়নি। তবে বেশির ভাগ শ্রমিকই ওই খাবার খেয়েছে।কারখানার সহকারী উত্পাদন কর্মকর্তা (এপিএম) বছির উদ্দিন বলেন, টিফিনগুলি যে ঠিকাদারি প্রতিষ্ঠান কারখানায় সরবরাহ করে তাদের বিরুদ্ধে ব্যবস্থা নেওয়া হবে।মৌচাক পুলিশ ফাঁড়ির উপ-পরিদর্শক (এসআই) সৈয়দ আজহারুল ইসলাম প্রথম আলো ডটকমকে বলেন, শ্রমিকদের বুঝিয়ে শান্ত করা হয়েছে। এ ছাড়া কারখানা কর্তৃপক্ষকে খাদ্য সরবরাহ প্রতিষ্ঠানের বিরুদ্ধে ব্যবস্থা নিতে বলা হয়েছে।',\n",
              " 'modification_date': '০৪ জুলাই ২০১৩, ২৩:২৭',\n",
              " 'published_date': '০৪ জুলাই ২০১৩, ২৩:২৬',\n",
              " 'tag': ['গাজীপুর'],\n",
              " 'title': 'কালিয়াকৈরে টিফিন খেয়ে ৫০০ শ্রমিক অসুস্থ, বিক্ষোভ',\n",
              " 'url': 'http://www.prothom-alo.com/bangladesh/article/19030'}"
            ]
          },
          "metadata": {},
          "execution_count": 12
        }
      ],
      "source": [
        "data[0]"
      ]
    },
    {
      "cell_type": "code",
      "execution_count": 13,
      "metadata": {
        "colab": {
          "base_uri": "https://localhost:8080/",
          "height": 109
        },
        "id": "uJG1AeQsBkLe",
        "outputId": "14aa00c9-8128-41bb-993d-2d58c771443b"
      },
      "outputs": [
        {
          "output_type": "execute_result",
          "data": {
            "text/plain": [
              "'গাজীপুরের কালিয়াকৈর উপজেলার তেলিরচালা এলাকায় আজ বৃহস্পতিবার রাতের টিফিন খেয়ে একটি পোশাক কারখানার ৫০০ শ্রমিক অসুস্থ হয়ে পড়েছেন। এ ঘটনায় বিক্ষোভ করেছেন ওই কারখানার শ্রমিকেরা।সফিপুর মডার্ন হাসপাতালের জরুরি বিভাগের চিকিত্সক আল আমিন প্রথম আলো ডটকমকে বলেন, খাদ্যে বিষক্রিয়ায় তাঁরা (শ্রমিকেরা) অসুস্থ হয়ে পড়েছেন। এতে আতঙ্কিত হওয়ার কিছু নেই। অসুস্থদের চিকিত্সা দেওয়া হয়েছে।কারখানার শ্রমিক ও পুলিশ সূত্রে জানা যায়, উপজেলার তেলিরচালা এলাকার সেজাদ সোয়েটার লিমিটেড কারখানার শ্রমিকদের আজ রাত সাড়ে সাতটার দিকে টিফিন দেওয়া হয়। টিফিনে ছিল ডিম, রুটি, পেটিস ও কলা। টিফিন খেয়ে শ্রমিকেরা যথারীতি কাজে যোগ দেন। ওই টিফিন খাওয়ার প্রায় এক ঘণ্টা পর রাত সাড়ে আটটার দিকে কয়েকজন শ্রমিকের বমি ও পেট ব্যথা শুরু হয়। এরপর ধীরে ধীরে পুরো কারখানার শ্রমিকেরা অসুস্থ হতে থাকে। অনেকেই কারখানার মেঝেতে ঢলে পড়ে। এতে পাঁচ শতাধিক শ্রমিক অসুস্থ হয়ে পড়ে।পরে কারখানা কর্তৃপক্ষ দ্রুত যানবাহনের ব্যবস্থা করে তাদের সফিপুর জেনারেল হাসপাতাল, সফিপুর মডার্ন হাসপাতাল, উপজেলা স্বাস্থ্য কমপ্লেক্সসহ বিভিন্ন ক্লিনিকে ভর্তি করে। বাসি পচা খাবার দেওয়ায় শ্রমিকরা ক্ষুব্ধ হয়ে কারখানার সামনে বিক্ষোভ করে। খবর পেয়ে পুলিশ গিয়ে শ্রমিকদের বুঝিয়ে ও খাবার সরবরাহ প্রতিষ্ঠানের বিরুদ্ধে ব্যবস্থা নেওয়ার আশ্বাস দিলে শ্রমিকেরা শান্ত হয়।সফিপুর জেনারেল হাসপাতালে ভর্তি শ্রমিক জাকির হোসেন ও আসমা আক্তার বলেন, টিফিন খাওয়ার সময় ডিম ও কেক থেকে দুর্গন্ধ বের হচ্ছিল। এ কারণে অনেকেই ওই খাবার খায়নি। তবে বেশির ভাগ শ্রমিকই ওই খাবার খেয়েছে।কারখানার সহকারী উত্পাদন কর্মকর্তা (এপিএম) বছির উদ্দিন বলেন, টিফিনগুলি যে ঠিকাদারি প্রতিষ্ঠান কারখানায় সরবরাহ করে তাদের বিরুদ্ধে ব্যবস্থা নেওয়া হবে।মৌচাক পুলিশ ফাঁড়ির উপ-পরিদর্শক (এসআই) সৈয়দ আজহারুল ইসলাম প্রথম আলো ডটকমকে বলেন, শ্রমিকদের বুঝিয়ে শান্ত করা হয়েছে। এ ছাড়া কারখানা কর্তৃপক্ষকে খাদ্য সরবরাহ প্রতিষ্ঠানের বিরুদ্ধে ব্যবস্থা নিতে বলা হয়েছে।'"
            ],
            "application/vnd.google.colaboratory.intrinsic+json": {
              "type": "string"
            }
          },
          "metadata": {},
          "execution_count": 13
        }
      ],
      "source": [
        "data[0]['content']"
      ]
    },
    {
      "cell_type": "code",
      "execution_count": 14,
      "metadata": {
        "colab": {
          "base_uri": "https://localhost:8080/"
        },
        "id": "x8erEC_8A3Wf",
        "outputId": "2fda404a-5b14-45dc-c689-1751ba4b0b52"
      },
      "outputs": [
        {
          "output_type": "execute_result",
          "data": {
            "text/plain": [
              "1752"
            ]
          },
          "metadata": {},
          "execution_count": 14
        }
      ],
      "source": [
        "len(data[0]['content'])"
      ]
    },
    {
      "cell_type": "code",
      "execution_count": 15,
      "metadata": {
        "colab": {
          "base_uri": "https://localhost:8080/"
        },
        "id": "_39JF77ZBZ4D",
        "outputId": "41831e01-ca8b-4d3e-ff6b-e2a8e61f44e0"
      },
      "outputs": [
        {
          "output_type": "execute_result",
          "data": {
            "text/plain": [
              "{'bangladesh',\n",
              " 'economy',\n",
              " 'education',\n",
              " 'entertainment',\n",
              " 'international',\n",
              " 'life-style',\n",
              " 'opinion',\n",
              " 'sports',\n",
              " 'technology'}"
            ]
          },
          "metadata": {},
          "execution_count": 15
        }
      ],
      "source": [
        "cat_set = set(a['category'] for a in data)\n",
        "cat_set"
      ]
    },
    {
      "cell_type": "code",
      "execution_count": 16,
      "metadata": {
        "colab": {
          "base_uri": "https://localhost:8080/"
        },
        "id": "k96QuScRBzbD",
        "outputId": "8fb7a333-73a2-4144-b69e-2015e35938a8"
      },
      "outputs": [
        {
          "output_type": "execute_result",
          "data": {
            "text/plain": [
              "9"
            ]
          },
          "metadata": {},
          "execution_count": 16
        }
      ],
      "source": [
        "len(cat_set)"
      ]
    },
    {
      "cell_type": "code",
      "execution_count": 17,
      "metadata": {
        "id": "qiz7dloKCOVx"
      },
      "outputs": [],
      "source": [
        "all_cat = [a['category']for a in data]"
      ]
    },
    {
      "cell_type": "code",
      "execution_count": 18,
      "metadata": {
        "colab": {
          "base_uri": "https://localhost:8080/"
        },
        "id": "IKnLbsj3B4B3",
        "outputId": "b2fe4edb-22c4-4bd9-9ea3-11ceecd849d7"
      },
      "outputs": [
        {
          "output_type": "execute_result",
          "data": {
            "text/plain": [
              "(True, 408471)"
            ]
          },
          "metadata": {},
          "execution_count": 18
        }
      ],
      "source": [
        "len(data)  == len(all_cat) , len(data)"
      ]
    },
    {
      "cell_type": "markdown",
      "metadata": {
        "id": "yl1R7yb3qshF"
      },
      "source": [
        "### Select categories with data more than 7000"
      ]
    },
    {
      "cell_type": "code",
      "execution_count": 19,
      "metadata": {
        "colab": {
          "base_uri": "https://localhost:8080/"
        },
        "id": "RzWdWxuYH5oY",
        "outputId": "fdbb9f83-b1a0-4319-f0d9-d516bb44605c"
      },
      "outputs": [
        {
          "output_type": "execute_result",
          "data": {
            "text/plain": [
              "[15699, 30466, 17245, 9721, 232504, 10852, 12116, 49012, 30856]"
            ]
          },
          "metadata": {},
          "execution_count": 19
        }
      ],
      "source": [
        "# data in each category \n",
        "cat_count = []\n",
        "\n",
        "for cat in (cat_set):\n",
        "  cat_count.append(all_cat.count(cat))\n",
        "cat_count"
      ]
    },
    {
      "cell_type": "code",
      "execution_count": 20,
      "metadata": {
        "id": "vMQmdrALhbM8",
        "colab": {
          "base_uri": "https://localhost:8080/"
        },
        "outputId": "ab2f9d64-2a12-4668-9baa-99faac312f1a"
      },
      "outputs": [
        {
          "output_type": "execute_result",
          "data": {
            "text/plain": [
              "[232504, 49012, 30856, 30466, 17245, 15699, 12116, 10852, 9721]"
            ]
          },
          "metadata": {},
          "execution_count": 20
        }
      ],
      "source": [
        "sorted(cat_count)[::-1]"
      ]
    },
    {
      "cell_type": "code",
      "execution_count": 21,
      "metadata": {
        "colab": {
          "base_uri": "https://localhost:8080/"
        },
        "id": "sFWJk2eriOmt",
        "outputId": "af8a8c88-ce21-4219-9671-8594bfc0f0ad"
      },
      "outputs": [
        {
          "output_type": "execute_result",
          "data": {
            "text/plain": [
              "{'bangladesh',\n",
              " 'economy',\n",
              " 'education',\n",
              " 'entertainment',\n",
              " 'international',\n",
              " 'life-style',\n",
              " 'opinion',\n",
              " 'sports',\n",
              " 'technology'}"
            ]
          },
          "metadata": {},
          "execution_count": 21
        }
      ],
      "source": [
        "cat_set"
      ]
    },
    {
      "cell_type": "code",
      "execution_count": 22,
      "metadata": {
        "colab": {
          "base_uri": "https://localhost:8080/"
        },
        "id": "iJNKLSEcimM4",
        "outputId": "e4e168fe-d800-4273-d360-051784a5e494"
      },
      "outputs": [
        {
          "output_type": "execute_result",
          "data": {
            "text/plain": [
              "[(15699, 'opinion'),\n",
              " (30466, 'entertainment'),\n",
              " (17245, 'economy'),\n",
              " (9721, 'education'),\n",
              " (232504, 'bangladesh'),\n",
              " (10852, 'life-style'),\n",
              " (12116, 'technology'),\n",
              " (49012, 'sports'),\n",
              " (30856, 'international')]"
            ]
          },
          "metadata": {},
          "execution_count": 22
        }
      ],
      "source": [
        "# bind category with their occurence\n",
        "z = zip(cat_count, cat_set)\n",
        "z = list(z)\n",
        "z"
      ]
    },
    {
      "cell_type": "code",
      "execution_count": 23,
      "metadata": {
        "colab": {
          "base_uri": "https://localhost:8080/",
          "height": 1000
        },
        "id": "J45IvJjuHPxL",
        "outputId": "f504a11b-183f-448f-a6b1-8246eda5db62"
      },
      "outputs": [
        {
          "output_type": "execute_result",
          "data": {
            "text/plain": [
              "<BarContainer object of 9 artists>"
            ]
          },
          "metadata": {},
          "execution_count": 23
        },
        {
          "output_type": "display_data",
          "data": {
            "text/plain": [
              "<Figure size 360x1440 with 1 Axes>"
            ],
            "image/png": "[encoded data removed]"
          },
          "metadata": {
            "needs_background": "light"
          }
        }
      ],
      "source": [
        "import matplotlib.pyplot as plt\n",
        "\n",
        "\n",
        "categories = {}\n",
        "for index, (x, y) in enumerate(z)  :\n",
        "  categories[y] = x\n",
        "\n",
        "fig , ax = plt.subplots(figsize=(5,20))\n",
        "\n",
        "# ax.bar(categories.keys(), categories.values())\n",
        "ax.barh(list(categories.keys()),list(categories.values()))"
      ]
    },
    {
      "cell_type": "code",
      "execution_count": 24,
      "metadata": {
        "colab": {
          "base_uri": "https://localhost:8080/"
        },
        "id": "hxRFviOljiWs",
        "outputId": "91a2dba9-b143-4ac5-8499-2857294b68af"
      },
      "outputs": [
        {
          "output_type": "execute_result",
          "data": {
            "text/plain": [
              "['opinion',\n",
              " 'entertainment',\n",
              " 'economy',\n",
              " 'education',\n",
              " 'life-style',\n",
              " 'technology',\n",
              " 'sports',\n",
              " 'international']"
            ]
          },
          "metadata": {},
          "execution_count": 24
        }
      ],
      "source": [
        "sel_cats = []\n",
        "\n",
        "for cat in cat_set :\n",
        "  if cat != \"bangladesh\":\n",
        "    sel_cats.append(cat)\n",
        "sel_cats"
      ]
    },
    {
      "cell_type": "code",
      "execution_count": 25,
      "metadata": {
        "colab": {
          "base_uri": "https://localhost:8080/"
        },
        "id": "0XXn7w0OjjTF",
        "outputId": "7b945707-0f39-4c0d-e973-e61cdc499b88"
      },
      "outputs": [
        {
          "output_type": "execute_result",
          "data": {
            "text/plain": [
              "(8, 9)"
            ]
          },
          "metadata": {},
          "execution_count": 25
        }
      ],
      "source": [
        "len(sel_cats) , len(cat_set)  # selected category vs total category "
      ]
    },
    {
      "cell_type": "code",
      "execution_count": 26,
      "metadata": {
        "id": "Gk5wxKYUjpGP"
      },
      "outputs": [],
      "source": [
        "# collect selected categories \n",
        "\n",
        "X_text = []\n",
        "y_label = []\n",
        "\n",
        "for i in data :\n",
        "  if i['category'] in sel_cats:\n",
        "    X_text.append(i['content'])\n",
        "    y_label.append(i['category'])"
      ]
    },
    {
      "cell_type": "code",
      "execution_count": 27,
      "metadata": {
        "colab": {
          "base_uri": "https://localhost:8080/",
          "height": 109
        },
        "id": "loUtH2RlkVCw",
        "outputId": "7488ff56-be73-47c4-fa14-2c4f6c6130fa"
      },
      "outputs": [
        {
          "output_type": "execute_result",
          "data": {
            "text/plain": [
              "'এবারের উইম্বলডনটা স্মরণীয় করে রাখার মিশনেই যেন নেমেছেন সাবিনা লিসিকি। চতুর্থ রাউন্ডের লড়াইয়ে সেরেনা উইলিয়ামসকে হারিয়ে শুরু করেছিলেন স্বপ্নযাত্রা। কোয়ার্টার ফাইনালে কাইয়া কানেপিকে হারাতে খুব একটা বেগ পেতে হয়নি। তবে সেমিফাইনালে কঠিন প্রতিপক্ষের মুখেই পড়তে হয়েছিল লিসিকিকে। র্যাঙ্কিংয়ের চার নম্বরে থাকা আগ্নিয়েস্কা রাদভানস্কাই ছিলেন আজকের ম্যাচের ফেবারিট। কিন্তু অঘটনের উইম্বলডনে উল্টোটাই ঘটবে, এটাই যেন স্বাভাবিক। হলোই তা-ই। উত্তেজনাপূর্ণ সেমিফাইনালে ৬-৪, ২-৬, ৯-৭ গেমের জয় দিয়ে লিসিকি প্রথমবারের মতো পা রাখলেন উইম্বলডনের ফাইনালে।প্রথম সেটে ৬-৪ গেমের জয় দিয়ে শুরুটা দারুণভাবে করেছিলেন জার্মান তারকা লিসিকি। দ্বিতীয় সেটে ঘুরে দাঁড়ান রাদভানস্কা। খেলায় সমতা ফেরান ২-৬ গেমের জয় দিয়ে। ফলাফল নির্ধারণী তৃতীয় সেটের শুরুতেও বেশ খানিকটা সময় এগিয়ে ছিলেন রাদভানস্কা। কিন্তু ৩-০ ব্যবধানে পিছিয়ে পড়ার পর যেন মরিয়া হয়ে ওঠেন লিসিকি। ঘুরে দাঁড়াতে থাকেন নাটকীয়ভাবে। দুই ঘণ্টা ১৮ মিনিটের শ্বাসরুদ্ধকর লড়াইয়ের পর শেষ হাসিটাও হেসেছেন ২৩ বছর বয়সী লিসিকি।উইম্বলডনের অপর সেমিফাইনালে মারিওন বারতোলি অনায়াসেই হারিয়েছেন বেলজিয়ামের কারস্টেন ফ্লিপকেনসকে। ৬-১, ৬-২ গেমের জয় দিয়ে ফাইনাল নিশ্চিত করেছেন বারতোলি।শিরোপা জয়ের চূড়ান্ত লড়াইয়ে আগামী শনিবার মুখোমুখি হবেন বারতোলি ও লিসিকি।— রয়টার্স'"
            ],
            "application/vnd.google.colaboratory.intrinsic+json": {
              "type": "string"
            }
          },
          "metadata": {},
          "execution_count": 27
        }
      ],
      "source": [
        "X_text[0]"
      ]
    },
    {
      "cell_type": "code",
      "execution_count": 28,
      "metadata": {
        "colab": {
          "base_uri": "https://localhost:8080/",
          "height": 36
        },
        "id": "QUp7ahOVkXse",
        "outputId": "8733baca-fe53-460d-f2cd-fcf5a016014e"
      },
      "outputs": [
        {
          "output_type": "execute_result",
          "data": {
            "text/plain": [
              "'sports'"
            ],
            "application/vnd.google.colaboratory.intrinsic+json": {
              "type": "string"
            }
          },
          "metadata": {},
          "execution_count": 28
        }
      ],
      "source": [
        "y_label[0]"
      ]
    },
    {
      "cell_type": "code",
      "execution_count": 29,
      "metadata": {
        "colab": {
          "base_uri": "https://localhost:8080/"
        },
        "id": "BJpnHtNdkc45",
        "outputId": "64e57b73-5f6b-476d-cbd6-ca1220fccd70"
      },
      "outputs": [
        {
          "output_type": "execute_result",
          "data": {
            "text/plain": [
              "(True, 175967)"
            ]
          },
          "metadata": {},
          "execution_count": 29
        }
      ],
      "source": [
        "len(X_text) == len(y_label) , len(y_label)"
      ]
    },
    {
      "cell_type": "code",
      "execution_count": 30,
      "metadata": {
        "colab": {
          "base_uri": "https://localhost:8080/"
        },
        "id": "Fpdxfnabkt9K",
        "outputId": "a78b0768-131a-4392-b610-f889bc67ca82"
      },
      "outputs": [
        {
          "output_type": "execute_result",
          "data": {
            "text/plain": [
              "{'economy',\n",
              " 'education',\n",
              " 'entertainment',\n",
              " 'international',\n",
              " 'life-style',\n",
              " 'opinion',\n",
              " 'sports',\n",
              " 'technology'}"
            ]
          },
          "metadata": {},
          "execution_count": 30
        }
      ],
      "source": [
        "\n",
        "set(y_label)"
      ]
    },
    {
      "cell_type": "code",
      "execution_count": 31,
      "metadata": {
        "colab": {
          "base_uri": "https://localhost:8080/"
        },
        "id": "4m1IcNWNk3pT",
        "outputId": "2d8c147f-48d0-4a93-bbc3-8652df20f764"
      },
      "outputs": [
        {
          "output_type": "execute_result",
          "data": {
            "text/plain": [
              "['economy',\n",
              " 'education',\n",
              " 'entertainment',\n",
              " 'international',\n",
              " 'life-style',\n",
              " 'opinion',\n",
              " 'sports',\n",
              " 'technology']"
            ]
          },
          "metadata": {},
          "execution_count": 31
        }
      ],
      "source": [
        "sorted(sel_cats)"
      ]
    },
    {
      "cell_type": "code",
      "execution_count": 32,
      "metadata": {
        "colab": {
          "base_uri": "https://localhost:8080/"
        },
        "id": "fniWMm04k6T4",
        "outputId": "53ab61f1-a756-43e4-8331-be7f9bb8224b"
      },
      "outputs": [
        {
          "output_type": "execute_result",
          "data": {
            "text/plain": [
              "True"
            ]
          },
          "metadata": {},
          "execution_count": 32
        }
      ],
      "source": [
        "len(set(y_label)) == len(sel_cats)"
      ]
    },
    {
      "cell_type": "markdown",
      "metadata": {
        "id": "hHytrpLKk_YQ"
      },
      "source": [
        "## Convert the categorical labels to numeric \n"
      ]
    },
    {
      "cell_type": "code",
      "execution_count": 33,
      "metadata": {
        "id": "mKV0h0dfsaic"
      },
      "outputs": [],
      "source": [
        "\n",
        "from sklearn.preprocessing import LabelEncoder\n",
        "encoder = LabelEncoder()\n",
        "\n",
        "class_labels = encoder.fit_transform(y_label)"
      ]
    },
    {
      "cell_type": "code",
      "execution_count": 34,
      "metadata": {
        "colab": {
          "base_uri": "https://localhost:8080/"
        },
        "id": "jcLDdyx1lZf-",
        "outputId": "c7eadfa2-2871-46f1-95ab-f02e7bc27334"
      },
      "outputs": [
        {
          "output_type": "execute_result",
          "data": {
            "text/plain": [
              "True"
            ]
          },
          "metadata": {},
          "execution_count": 34
        }
      ],
      "source": [
        "len(class_labels) == len(y_label)"
      ]
    },
    {
      "cell_type": "code",
      "execution_count": 35,
      "metadata": {
        "colab": {
          "base_uri": "https://localhost:8080/"
        },
        "id": "X0jfKXGAnoLh",
        "outputId": "bcbc3b77-ea77-409a-b584-ea207e950d7d"
      },
      "outputs": [
        {
          "output_type": "execute_result",
          "data": {
            "text/plain": [
              "{0, 1, 2, 3, 4, 5, 6, 7}"
            ]
          },
          "metadata": {},
          "execution_count": 35
        }
      ],
      "source": [
        "set(class_labels)"
      ]
    },
    {
      "cell_type": "code",
      "execution_count": 36,
      "metadata": {
        "colab": {
          "base_uri": "https://localhost:8080/"
        },
        "id": "8URY302Yl9Od",
        "outputId": "19b766d2-49f2-49fc-f61f-7840043275f0"
      },
      "outputs": [
        {
          "output_type": "execute_result",
          "data": {
            "text/plain": [
              "array(['economy', 'education', 'entertainment', 'international',\n",
              "       'life-style', 'opinion', 'sports', 'technology'], dtype='<U13')"
            ]
          },
          "metadata": {},
          "execution_count": 36
        }
      ],
      "source": [
        "encoder.inverse_transform(list(set(class_labels)))"
      ]
    },
    {
      "cell_type": "code",
      "execution_count": 37,
      "metadata": {
        "colab": {
          "base_uri": "https://localhost:8080/"
        },
        "id": "bMiV_giUnzKA",
        "outputId": "c2c867d6-d1ad-4244-e222-7a4c0434215e"
      },
      "outputs": [
        {
          "output_type": "execute_result",
          "data": {
            "text/plain": [
              "[(0, 'economy'),\n",
              " (1, 'education'),\n",
              " (2, 'entertainment'),\n",
              " (3, 'international'),\n",
              " (4, 'life-style'),\n",
              " (5, 'opinion'),\n",
              " (6, 'sports'),\n",
              " (7, 'technology')]"
            ]
          },
          "metadata": {},
          "execution_count": 37
        }
      ],
      "source": [
        "\n",
        "list(zip(set(class_labels), list(encoder.inverse_transform(list(set(class_labels))))))"
      ]
    },
    {
      "cell_type": "code",
      "execution_count": 38,
      "metadata": {
        "colab": {
          "base_uri": "https://localhost:8080/"
        },
        "id": "uDEgO-dOoTQf",
        "outputId": "08831e41-f759-420a-f8ad-b1918f47bd43"
      },
      "outputs": [
        {
          "output_type": "execute_result",
          "data": {
            "text/plain": [
              "numpy.ndarray"
            ]
          },
          "metadata": {},
          "execution_count": 38
        }
      ],
      "source": [
        "type(class_labels) "
      ]
    },
    {
      "cell_type": "code",
      "execution_count": 39,
      "metadata": {
        "colab": {
          "base_uri": "https://localhost:8080/"
        },
        "id": "6kXMWALyokqV",
        "outputId": "61e57622-6d37-412e-ed84-2d04dcaf0d41"
      },
      "outputs": [
        {
          "output_type": "execute_result",
          "data": {
            "text/plain": [
              "(175967,)"
            ]
          },
          "metadata": {},
          "execution_count": 39
        }
      ],
      "source": [
        "class_labels.shape"
      ]
    },
    {
      "cell_type": "code",
      "execution_count": 40,
      "metadata": {
        "colab": {
          "base_uri": "https://localhost:8080/"
        },
        "id": "EqpNq3iCooMu",
        "outputId": "9c146260-f205-4ad8-cb1d-6a2b5365b41e"
      },
      "outputs": [
        {
          "output_type": "execute_result",
          "data": {
            "text/plain": [
              "(175967, 1)"
            ]
          },
          "metadata": {},
          "execution_count": 40
        }
      ],
      "source": [
        "import numpy as np\n",
        "np.shape(np.reshape(class_labels, newshape=(class_labels.shape[0], 1)))"
      ]
    },
    {
      "cell_type": "code",
      "execution_count": 41,
      "metadata": {
        "id": "dshKIoIppXmd"
      },
      "outputs": [],
      "source": [
        "# apply one hot encoding to the class label for binary encoding\n",
        "from sklearn.preprocessing import OneHotEncoder\n",
        "encoder = OneHotEncoder(sparse = False)\n",
        "\n",
        "class_labels = class_labels.reshape((class_labels.shape[0],1))\n",
        "y_ohe = encoder.fit_transform(class_labels)"
      ]
    },
    {
      "cell_type": "code",
      "execution_count": 42,
      "metadata": {
        "colab": {
          "base_uri": "https://localhost:8080/"
        },
        "id": "kHC4LTyQ5fNU",
        "outputId": "f12e2ee6-5812-45a8-f66b-74f76c87f48d"
      },
      "outputs": [
        {
          "output_type": "execute_result",
          "data": {
            "text/plain": [
              "(175967, 8)"
            ]
          },
          "metadata": {},
          "execution_count": 42
        }
      ],
      "source": [
        "\n",
        "y_ohe.shape"
      ]
    },
    {
      "cell_type": "code",
      "execution_count": 43,
      "metadata": {
        "colab": {
          "base_uri": "https://localhost:8080/"
        },
        "id": "T6eiXEqO5hjQ",
        "outputId": "bad6e49e-24ed-4827-89ef-34b37193491b"
      },
      "outputs": [
        {
          "output_type": "execute_result",
          "data": {
            "text/plain": [
              "array([0., 0., 0., 0., 0., 0., 0., 1.])"
            ]
          },
          "metadata": {},
          "execution_count": 43
        }
      ],
      "source": [
        "y_ohe[1]"
      ]
    },
    {
      "cell_type": "code",
      "execution_count": 44,
      "metadata": {
        "colab": {
          "base_uri": "https://localhost:8080/"
        },
        "id": "r8osnsFn5mQV",
        "outputId": "4a6559a8-f2ab-4364-d63b-e291723433e9"
      },
      "outputs": [
        {
          "output_type": "execute_result",
          "data": {
            "text/plain": [
              "array([7])"
            ]
          },
          "metadata": {},
          "execution_count": 44
        }
      ],
      "source": [
        "class_labels[1]"
      ]
    },
    {
      "cell_type": "markdown",
      "metadata": {
        "id": "PSRNU4qO6S0r"
      },
      "source": [
        "## tokenize the texts input to convert tokens to numeric\n"
      ]
    },
    {
      "cell_type": "code",
      "execution_count": 45,
      "metadata": {
        "colab": {
          "base_uri": "https://localhost:8080/",
          "height": 109
        },
        "id": "lTEbqAb-66hV",
        "outputId": "881a15ba-a0aa-420e-facf-774e785e8550"
      },
      "outputs": [
        {
          "output_type": "execute_result",
          "data": {
            "text/plain": [
              "'এবারের উইম্বলডনটা স্মরণীয় করে রাখার মিশনেই যেন নেমেছেন সাবিনা লিসিকি। চতুর্থ রাউন্ডের লড়াইয়ে সেরেনা উইলিয়ামসকে হারিয়ে শুরু করেছিলেন স্বপ্নযাত্রা। কোয়ার্টার ফাইনালে কাইয়া কানেপিকে হারাতে খুব একটা বেগ পেতে হয়নি। তবে সেমিফাইনালে কঠিন প্রতিপক্ষের মুখেই পড়তে হয়েছিল লিসিকিকে। র্যাঙ্কিংয়ের চার নম্বরে থাকা আগ্নিয়েস্কা রাদভানস্কাই ছিলেন আজকের ম্যাচের ফেবারিট। কিন্তু অঘটনের উইম্বলডনে উল্টোটাই ঘটবে, এটাই যেন স্বাভাবিক। হলোই তা-ই। উত্তেজনাপূর্ণ সেমিফাইনালে ৬-৪, ২-৬, ৯-৭ গেমের জয় দিয়ে লিসিকি প্রথমবারের মতো পা রাখলেন উইম্বলডনের ফাইনালে।প্রথম সেটে ৬-৪ গেমের জয় দিয়ে শুরুটা দারুণভাবে করেছিলেন জার্মান তারকা লিসিকি। দ্বিতীয় সেটে ঘুরে দাঁড়ান রাদভানস্কা। খেলায় সমতা ফেরান ২-৬ গেমের জয় দিয়ে। ফলাফল নির্ধারণী তৃতীয় সেটের শুরুতেও বেশ খানিকটা সময় এগিয়ে ছিলেন রাদভানস্কা। কিন্তু ৩-০ ব্যবধানে পিছিয়ে পড়ার পর যেন মরিয়া হয়ে ওঠেন লিসিকি। ঘুরে দাঁড়াতে থাকেন নাটকীয়ভাবে। দুই ঘণ্টা ১৮ মিনিটের শ্বাসরুদ্ধকর লড়াইয়ের পর শেষ হাসিটাও হেসেছেন ২৩ বছর বয়সী লিসিকি।উইম্বলডনের অপর সেমিফাইনালে মারিওন বারতোলি অনায়াসেই হারিয়েছেন বেলজিয়ামের কারস্টেন ফ্লিপকেনসকে। ৬-১, ৬-২ গেমের জয় দিয়ে ফাইনাল নিশ্চিত করেছেন বারতোলি।শিরোপা জয়ের চূড়ান্ত লড়াইয়ে আগামী শনিবার মুখোমুখি হবেন বারতোলি ও লিসিকি।— রয়টার্স'"
            ],
            "application/vnd.google.colaboratory.intrinsic+json": {
              "type": "string"
            }
          },
          "metadata": {},
          "execution_count": 45
        }
      ],
      "source": [
        "X_text[0]"
      ]
    },
    {
      "cell_type": "code",
      "execution_count": 46,
      "metadata": {
        "id": "PxM1dbb-62lk"
      },
      "outputs": [],
      "source": [
        "from tensorflow.keras.preprocessing.text import Tokenizer\n",
        "\n",
        "tokenizer = Tokenizer()\n",
        "tokenizer.fit_on_texts(X_text) # Only words known by the tokenizer will be taken into account\n",
        "X_token = tokenizer.texts_to_sequences(X_text) # Transforms each text in texts to a sequence of integers\n"
      ]
    },
    {
      "cell_type": "code",
      "execution_count": 47,
      "metadata": {
        "colab": {
          "base_uri": "https://localhost:8080/"
        },
        "id": "MRVVC5VR8JV4",
        "outputId": "12be9a7c-8aa3-42a2-87ad-bea7df960dbb"
      },
      "outputs": [
        {
          "output_type": "execute_result",
          "data": {
            "text/plain": [
              "dict"
            ]
          },
          "metadata": {},
          "execution_count": 47
        }
      ],
      "source": [
        "type(tokenizer.word_index)"
      ]
    },
    {
      "cell_type": "code",
      "execution_count": 48,
      "metadata": {
        "colab": {
          "base_uri": "https://localhost:8080/"
        },
        "id": "2KYoJkRB9tES",
        "outputId": "393c564d-5cbc-47de-ff89-7beb8bdd95ea"
      },
      "outputs": [
        {
          "output_type": "stream",
          "name": "stdout",
          "text": [
            "ও\n",
            "এই\n",
            "করে\n",
            "থেকে\n",
            "এ\n",
            "না\n",
            "করা\n",
            "জন্য\n",
            "সঙ্গে\n",
            "আর\n",
            "করতে\n"
          ]
        }
      ],
      "source": [
        "for index, token  in enumerate(tokenizer.word_index):\n",
        "  print(token)\n",
        "  if index == 10:\n",
        "    break\n"
      ]
    },
    {
      "cell_type": "code",
      "execution_count": 49,
      "metadata": {
        "colab": {
          "base_uri": "https://localhost:8080/"
        },
        "id": "GbFDkT_j8INV",
        "outputId": "759d120a-a1b5-4d78-8a83-aeb3a105fd72"
      },
      "outputs": [
        {
          "output_type": "execute_result",
          "data": {
            "text/plain": [
              "1627184"
            ]
          },
          "metadata": {},
          "execution_count": 49
        }
      ],
      "source": [
        "\n",
        "\n",
        "vocab_size = len(tokenizer.word_index)+1 \n",
        "vocab_size"
      ]
    },
    {
      "cell_type": "code",
      "execution_count": 50,
      "metadata": {
        "colab": {
          "base_uri": "https://localhost:8080/"
        },
        "id": "-OasTnc271KB",
        "outputId": "f8e1a87d-601d-4c83-93b2-253843db926c"
      },
      "outputs": [
        {
          "output_type": "execute_result",
          "data": {
            "text/plain": [
              "[[66, 160, 28629]]"
            ]
          },
          "metadata": {},
          "execution_count": 50
        }
      ],
      "source": [
        "tokenizer.texts_to_sequences([\"আমার নাম ফয়সাল\"])"
      ]
    },
    {
      "cell_type": "code",
      "execution_count": 51,
      "metadata": {
        "colab": {
          "base_uri": "https://localhost:8080/"
        },
        "id": "tAZPyEosAE48",
        "outputId": "fb5101a8-c9b6-471e-f8db-885ae0e27153"
      },
      "outputs": [
        {
          "output_type": "stream",
          "name": "stdout",
          "text": [
            "বিচ্ছেদের এক বছর পরও কেটি হোমসকে ভুলতে পারছেন না ‘মিশন ইমপসিবল’ তারকা টম ক্রুজ। আর তাই তো সম্প্রতি তিনি সাবেক স্ত্রীকে আবেগঘন এক চিঠি লিখেছেন পুনর্মিলনের আশাবাদ ব্যক্ত করে।এ প্রসঙ্গে ঘনিষ্ঠ সূত্রের বরাতে কনট্যাক্টমিউজিক জানিয়েছে, কেটির বিচ্ছেদের আবেদনের পরিপ্রেক্ষিতে গত বছরের জুলাইয়ে পাঁচ বছরের দাম্পত্যের ইতি টানার চূড়ান্ত সিদ্ধান্ত নিয়েছিলেন কেটি ও ক্রুজ। দেখতে দেখতে বছর ঘুরে আবার জুলাই মাস এসে গেছে। কেটিকে কোনোভাবেই মন থেকে মুছে ফেলতে পারছেন না ক্রুজ। তিনি উপলব্ধি করেছেন, আজীবন কেটিকে ভালোবেসে যাওয়া ছাড়া তাঁর সামনে আর কোনো পথ খোলা নেই।হঠাৎ করেই গত বছর ক্রুজের ৫০তম জন্মদিনের কয়েকদিন আগে তাঁকে ছেড়ে চলে যান কেটি। ওই ঘটনায় কেবল ক্রুজই অবাক হননি, অবাক হয়েছিল পুরো বিশ্ব। শুরুতে কেটির ওপর ক্ষুব্ধ হলেও দিনের পর দিন ক্রুজ ভেবেছেন কেন তাঁকে ছেড়ে চলে গেলেন কেটি। শেষ পর্যন্ত কেটির সেই কঠিন সিদ্ধান্ত নেওয়ার পেছনের কারণ অনুধাবন করতে পেরেছেন ক্রুজ।কেটির ওপর থেকে রাগ ও অভিমান পুরোপুরি সরাতে দীর্ঘ সময় লেগেছে ক্রুজের। গত মার্চে তাঁদের পুনর্মিলনের চেষ্টা করেছিলেন মধ্যস্থতাকারীরা। কিন্তু কোনো লাভ হয়নি। সেই থেকে কথা বন্ধ রয়েছে সাবেক এ তারকা দম্পতির মধ্যে।কিন্তু ক্রুজ যেকোনো উপায়ে কেটিকে ফিরে পাওয়ার জন্য দৃঢ়প্রতিজ্ঞ। কেটি তাঁর জীবনে ফিরে না এলেও অন্তত বন্ধুত্বপূর্ণ সম্পর্ক বজায় রাখবেন—এমনটাই প্রত্যাশা তাঁর। একমাত্র মেয়ে সাত বছর বয়সী সুরির মুখের দিকে তাকিয়ে সব ভুলে আবার ফিরে আশার কথা জানিয়েই সম্প্রতি কেটিকে চিঠি লিখেছেন ক্রুজ।\n",
            "[5197, 14, 41, 645, 13064, 102114, 7052, 1656, 6, 30787, 119589, 547, 4357, 28405, 10, 97, 96, 383, 19, 233, 6161, 19137, 14, 1752, 808, 54822, 9150, 3980, 28576, 930, 2587, 5214, 7594, 531383, 2622, 55586, 5197, 3476, 2071, 54, 126, 20924, 272, 126, 37785, 6251, 12519, 2608, 274, 12693, 13064, 1, 28405, 318, 318, 41, 905, 137, 678, 402, 351, 282, 110002, 3160, 755, 4, 2772, 1813, 1656, 6, 28405, 19, 3814, 88, 5269, 110002, 10167, 2976, 657, 13, 242, 10, 27, 714, 1924, 171342, 613, 54, 41, 16763, 13932, 6036, 78910, 43, 139, 2549, 236, 662, 75334, 67, 4829, 591, 148011, 1927, 6466, 1927, 2552, 445, 13877, 1119, 55586, 102, 3192, 249, 295, 24, 81, 7985, 14946, 207, 139, 2549, 236, 1206, 75334, 57, 91, 55586, 36, 548, 274, 2507, 3370, 118, 7952, 11, 3954, 531384, 102, 4, 4261, 1, 9949, 1480, 12390, 840, 439, 3894, 208125, 54, 3809, 79, 54822, 219, 466, 355685, 16, 27, 1079, 2876, 36, 4, 33, 316, 1593, 233, 5, 547, 6588, 187258, 7985, 491, 17323, 110002, 331, 3161, 8, 110003, 13064, 13, 1038, 331, 6, 5330, 540, 11857, 506, 11277, 355686, 1836, 1420, 876, 6551, 680, 41, 3365, 69436, 3309, 215, 13370, 50, 1415, 137, 331, 2517, 33, 77106, 383, 110002, 1752, 808, 28405]\n"
          ]
        }
      ],
      "source": [
        "print(X_text[5])\n",
        "print(X_token[5])"
      ]
    },
    {
      "cell_type": "code",
      "execution_count": 52,
      "metadata": {
        "colab": {
          "base_uri": "https://localhost:8080/"
        },
        "id": "s8ek1D-JAo-D",
        "outputId": "c10c4829-108e-470a-830d-0da7cd0afb3e"
      },
      "outputs": [
        {
          "output_type": "execute_result",
          "data": {
            "text/plain": [
              "(1350, 212)"
            ]
          },
          "metadata": {},
          "execution_count": 52
        }
      ],
      "source": [
        "len(X_text[5]) , len(X_token[5]) "
      ]
    },
    {
      "cell_type": "code",
      "execution_count": 53,
      "metadata": {
        "colab": {
          "base_uri": "https://localhost:8080/"
        },
        "id": "dXQtBEIZDC4s",
        "outputId": "b7b10586-1799-4cad-e9c5-69a1d4d39f0a"
      },
      "outputs": [
        {
          "output_type": "stream",
          "name": "stdout",
          "text": [
            "আ\n",
            "ম\n",
            "া\n",
            "র\n",
            " \n",
            "ন\n",
            "া\n",
            "ম\n",
            " \n",
            "ফ\n",
            "য\n",
            "়\n",
            "স\n",
            "া\n",
            "ল\n"
          ]
        }
      ],
      "source": [
        "for i in \"আমার নাম ফয়সাল\":\n",
        "  print(i)"
      ]
    },
    {
      "cell_type": "code",
      "execution_count": 54,
      "metadata": {
        "colab": {
          "base_uri": "https://localhost:8080/"
        },
        "id": "8Xnv0rc1DLJ7",
        "outputId": "7832b560-6e33-4b3a-8336-9d8113ecb14e"
      },
      "outputs": [
        {
          "output_type": "execute_result",
          "data": {
            "text/plain": [
              "15"
            ]
          },
          "metadata": {},
          "execution_count": 54
        }
      ],
      "source": [
        "\n",
        "\n",
        "\n",
        "\n",
        "len(\"আমার নাম ফয়সাল\")"
      ]
    },
    {
      "cell_type": "code",
      "execution_count": 55,
      "metadata": {
        "colab": {
          "base_uri": "https://localhost:8080/"
        },
        "id": "VT4yBZgxK2V5",
        "outputId": "4eab667e-aa07-40a2-e77f-3bcd460b3ce6"
      },
      "outputs": [
        {
          "output_type": "stream",
          "name": "stdout",
          "text": [
            "28629\n"
          ]
        }
      ],
      "source": [
        "if \"ফয়সাল\" in tokenizer.word_index:\n",
        "  print(tokenizer.word_index[\"ফয়সাল\"])"
      ]
    },
    {
      "cell_type": "code",
      "execution_count": 56,
      "metadata": {
        "colab": {
          "base_uri": "https://localhost:8080/"
        },
        "id": "GdbPmwrXAywg",
        "outputId": "9bb10708-d4b9-430e-94b9-624a273eeefc"
      },
      "outputs": [
        {
          "output_type": "execute_result",
          "data": {
            "text/plain": [
              "['বিচ্ছেদের এক বছর পরও কেটি হোমসকে ভুলতে পারছেন না ‘মিশন ইমপসিবল’ তারকা টম ক্রুজ। আর তাই তো সম্প্রতি তিনি সাবেক স্ত্রীকে আবেগঘন এক চিঠি লিখেছেন পুনর্মিলনের আশাবাদ ব্যক্ত করে।এ প্রসঙ্গে ঘনিষ্ঠ সূত্রের বরাতে কনট্যাক্টমিউজিক জানিয়েছে কেটির বিচ্ছেদের আবেদনের পরিপ্রেক্ষিতে গত বছরের জুলাইয়ে পাঁচ বছরের দাম্পত্যের ইতি টানার চূড়ান্ত সিদ্ধান্ত নিয়েছিলেন কেটি ও ক্রুজ। দেখতে দেখতে বছর ঘুরে আবার জুলাই মাস এসে গেছে। কেটিকে কোনোভাবেই মন থেকে মুছে ফেলতে পারছেন না ক্রুজ। তিনি উপলব্ধি করেছেন আজীবন কেটিকে ভালোবেসে যাওয়া ছাড়া তাঁর সামনে আর কোনো পথ খোলা নেই।হঠাৎ করেই গত বছর ক্রুজের ৫০তম জন্মদিনের কয়েকদিন আগে তাঁকে ছেড়ে চলে যান কেটি। ওই ঘটনায় কেবল ক্রুজই অবাক হননি অবাক হয়েছিল পুরো বিশ্ব। শুরুতে কেটির ওপর ক্ষুব্ধ হলেও দিনের পর দিন ক্রুজ ভেবেছেন কেন তাঁকে ছেড়ে চলে গেলেন কেটি। শেষ পর্যন্ত কেটির সেই কঠিন সিদ্ধান্ত নেওয়ার পেছনের কারণ অনুধাবন করতে পেরেছেন ক্রুজ।কেটির ওপর থেকে রাগ ও অভিমান পুরোপুরি সরাতে দীর্ঘ সময় লেগেছে ক্রুজের। গত মার্চে তাঁদের পুনর্মিলনের চেষ্টা করেছিলেন মধ্যস্থতাকারীরা। কিন্তু কোনো লাভ হয়নি। সেই থেকে কথা বন্ধ রয়েছে সাবেক এ তারকা দম্পতির মধ্যে।কিন্তু ক্রুজ যেকোনো উপায়ে কেটিকে ফিরে পাওয়ার জন্য দৃঢ়প্রতিজ্ঞ। কেটি তাঁর জীবনে ফিরে না এলেও অন্তত বন্ধুত্বপূর্ণ সম্পর্ক বজায় রাখবেন—এমনটাই প্রত্যাশা তাঁর। একমাত্র মেয়ে সাত বছর বয়সী সুরির মুখের দিকে তাকিয়ে সব ভুলে আবার ফিরে আশার কথা জানিয়েই সম্প্রতি কেটিকে চিঠি লিখেছেন ক্রুজ।']"
            ]
          },
          "metadata": {},
          "execution_count": 56
        }
      ],
      "source": [
        "\n",
        "\n",
        "\n",
        "\n",
        "\n",
        "tokenizer.sequences_to_texts([X_token[5]])"
      ]
    },
    {
      "cell_type": "markdown",
      "metadata": {
        "id": "KK7r6CJWBDZI"
      },
      "source": [
        "## pad the sequences\n"
      ]
    },
    {
      "cell_type": "code",
      "execution_count": 57,
      "metadata": {
        "id": "BAlhJWH3CGer"
      },
      "outputs": [],
      "source": [
        "\n",
        "\n",
        "\n",
        "from tensorflow.keras.preprocessing.sequence import pad_sequences\n",
        "\n",
        "maxlen = 300\n",
        "\n",
        "X_pad = pad_sequences(X_token, padding = \"post\", maxlen = maxlen)\n",
        "\n"
      ]
    },
    {
      "cell_type": "code",
      "execution_count": 58,
      "metadata": {
        "colab": {
          "base_uri": "https://localhost:8080/"
        },
        "id": "tcVLX6ldvqUf",
        "outputId": "2fe11a90-339f-42a6-9e21-b295d35eaeab"
      },
      "outputs": [
        {
          "output_type": "execute_result",
          "data": {
            "text/plain": [
              "numpy.ndarray"
            ]
          },
          "metadata": {},
          "execution_count": 58
        }
      ],
      "source": [
        "type(X_pad)"
      ]
    },
    {
      "cell_type": "code",
      "execution_count": 59,
      "metadata": {
        "colab": {
          "base_uri": "https://localhost:8080/"
        },
        "id": "RbSm-KRCM53-",
        "outputId": "30a14390-56c0-43e4-b311-9c19e61af585"
      },
      "outputs": [
        {
          "output_type": "execute_result",
          "data": {
            "text/plain": [
              "(175967, 300)"
            ]
          },
          "metadata": {},
          "execution_count": 59
        }
      ],
      "source": [
        "X_pad.shape"
      ]
    },
    {
      "cell_type": "code",
      "execution_count": 60,
      "metadata": {
        "colab": {
          "base_uri": "https://localhost:8080/"
        },
        "id": "KQyMMlM9SWsv",
        "outputId": "4bd1be4c-cbcc-4193-b91b-6de51d7f1ba7"
      },
      "outputs": [
        {
          "output_type": "execute_result",
          "data": {
            "text/plain": [
              "(175967, 8)"
            ]
          },
          "metadata": {},
          "execution_count": 60
        }
      ],
      "source": [
        "y_ohe.shape"
      ]
    },
    {
      "cell_type": "code",
      "execution_count": 61,
      "metadata": {
        "colab": {
          "base_uri": "https://localhost:8080/"
        },
        "id": "ipRvExXQQCI9",
        "outputId": "6646c24d-fe1d-41f6-b39a-10b1e96b9bfa"
      },
      "outputs": [
        {
          "output_type": "execute_result",
          "data": {
            "text/plain": [
              "1627184"
            ]
          },
          "metadata": {},
          "execution_count": 61
        }
      ],
      "source": [
        "vocab_size"
      ]
    },
    {
      "cell_type": "code",
      "execution_count": 62,
      "metadata": {
        "colab": {
          "base_uri": "https://localhost:8080/"
        },
        "id": "p2rkMPgGSUtM",
        "outputId": "ea29c2cd-1119-4c7e-ba26-1a2ad0899b83"
      },
      "outputs": [
        {
          "output_type": "execute_result",
          "data": {
            "text/plain": [
              "300"
            ]
          },
          "metadata": {},
          "execution_count": 62
        }
      ],
      "source": [
        "maxlen"
      ]
    },
    {
      "cell_type": "code",
      "execution_count": 63,
      "metadata": {
        "colab": {
          "base_uri": "https://localhost:8080/"
        },
        "id": "SY0XvXqBSeBN",
        "outputId": "0ebad3de-9543-48e4-bbbe-2dcf22e4cb7b"
      },
      "outputs": [
        {
          "output_type": "execute_result",
          "data": {
            "text/plain": [
              "array([   599, 171336,  17280,      3,    595,  92603,    179,   8765,\n",
              "         8146, 131791,    940,   8294,   8295,   7830, 102112,   3547,\n",
              "           46,    466,  98611,   8615,    763, 236869, 280924,   3041,\n",
              "          107,     68,   8906,    366,   2876,     26,   2112,    548,\n",
              "         1907,   9000,   3088,   2552, 280925,  69433,    206,   2664,\n",
              "          208,  89902, 355676,    148,   1088,    335,  17450,     16,\n",
              "        16978,  21599,  45122,   5730,    814,    179,   3599,  41734,\n",
              "           28,   7272,  25246,   2112,    216,    184,     99,    216,\n",
              "          287,    264,  10949,   3220,    469, 125257,   1248,     89,\n",
              "          833,   5625,  13931, 355677,   4782,    216,    184,  10949,\n",
              "         3220,    469,   2364,   6350,    466,   2174,    547, 131791,\n",
              "         1677,   4782,    905,  39646, 105773,   9191,   4779,   8440,\n",
              "           99,    216,  10949,   3220,  10130,   1606,  10272,   3190,\n",
              "        11309,  29577,    134,   2755,    439,   2371,    148, 105773,\n",
              "           16,    136,    414,   1407,   6411,   4312,     24,    179,\n",
              "        21129,    343,   4814, 131791,    905,  10457,   1243, 355678,\n",
              "           37,    800,    458,   2093,  19807,  12941,     24,     57,\n",
              "       119587,  53432,    456,     41,   3365, 531348,   2963,   2112,\n",
              "        87357,  64696,  60717,  21682,  35159,  21448, 531349,    216,\n",
              "           76,    216,     99,  10949,   3220,    469,   1727,    270,\n",
              "           88, 531350,   3791,   2608,   8295,    279,    658,   1027,\n",
              "         1447,  64696,      1, 531351,  11084,      0,      0,      0,\n",
              "            0,      0,      0,      0,      0,      0,      0,      0,\n",
              "            0,      0,      0,      0,      0,      0,      0,      0,\n",
              "            0,      0,      0,      0,      0,      0,      0,      0,\n",
              "            0,      0,      0,      0,      0,      0,      0,      0,\n",
              "            0,      0,      0,      0,      0,      0,      0,      0,\n",
              "            0,      0,      0,      0,      0,      0,      0,      0,\n",
              "            0,      0,      0,      0,      0,      0,      0,      0,\n",
              "            0,      0,      0,      0,      0,      0,      0,      0,\n",
              "            0,      0,      0,      0,      0,      0,      0,      0,\n",
              "            0,      0,      0,      0,      0,      0,      0,      0,\n",
              "            0,      0,      0,      0,      0,      0,      0,      0,\n",
              "            0,      0,      0,      0,      0,      0,      0,      0,\n",
              "            0,      0,      0,      0,      0,      0,      0,      0,\n",
              "            0,      0,      0,      0,      0,      0,      0,      0,\n",
              "            0,      0,      0,      0,      0,      0,      0,      0,\n",
              "            0,      0,      0,      0], dtype=int32)"
            ]
          },
          "metadata": {},
          "execution_count": 63
        }
      ],
      "source": [
        "X_pad[0]"
      ]
    },
    {
      "cell_type": "code",
      "execution_count": 64,
      "metadata": {
        "colab": {
          "base_uri": "https://localhost:8080/"
        },
        "id": "8wywXTOpSl7x",
        "outputId": "a37dfa52-9d87-4d08-f798-d18e9bbd4b47"
      },
      "outputs": [
        {
          "output_type": "execute_result",
          "data": {
            "text/plain": [
              "(173, 300)"
            ]
          },
          "metadata": {},
          "execution_count": 64
        }
      ],
      "source": [
        "len(X_token[0]) , len(X_pad[0])"
      ]
    },
    {
      "cell_type": "code",
      "execution_count": 65,
      "metadata": {
        "id": "v0TV93VISyoy"
      },
      "outputs": [],
      "source": [
        "unique, counts = np.unique(X_pad[0] , return_counts=True)\n",
        "padded_zeros = dict(zip(unique, counts))[0]"
      ]
    },
    {
      "cell_type": "code",
      "execution_count": 66,
      "metadata": {
        "colab": {
          "base_uri": "https://localhost:8080/"
        },
        "id": "X3lE7g9qTl-8",
        "outputId": "8f486481-b6a2-4aab-8b78-22cb555b74ce"
      },
      "outputs": [
        {
          "output_type": "execute_result",
          "data": {
            "text/plain": [
              "(True, 127)"
            ]
          },
          "metadata": {},
          "execution_count": 66
        }
      ],
      "source": [
        "len(X_pad[0]) - len(X_token[0])  == padded_zeros , padded_zeros"
      ]
    },
    {
      "cell_type": "markdown",
      "source": [
        "## Bag Of Words"
      ],
      "metadata": {
        "id": "qKfiqZzgayiR"
      }
    },
    {
      "cell_type": "code",
      "source": [
        "# running this cell may crash the runtime due to ram overloading !!!"
      ],
      "metadata": {
        "id": "bpvlxCSid_84"
      },
      "execution_count": 67,
      "outputs": []
    },
    {
      "cell_type": "code",
      "source": [
        "# from collections import Counter\n",
        "# from tqdm.notebook import tqdm_notebook\n",
        "# word_ls = []\n",
        "\n",
        "# for sen in tqdm_notebook(X_text):\n",
        "#     word_ls.extend(sen.split())"
      ],
      "metadata": {
        "id": "yJL6NTbc_BdC"
      },
      "execution_count": 68,
      "outputs": []
    },
    {
      "cell_type": "code",
      "source": [
        "# len(word_ls)"
      ],
      "metadata": {
        "id": "s1H2d73a_O0K"
      },
      "execution_count": 69,
      "outputs": []
    },
    {
      "cell_type": "code",
      "source": [
        "# Counter = Counter(word_ls)\n",
        "# most_occured_20 = Counter.most_common(20)\n",
        "# most_occured_20"
      ],
      "metadata": {
        "id": "aAG_8Svi_ZjM"
      },
      "execution_count": 70,
      "outputs": []
    },
    {
      "cell_type": "code",
      "source": [
        "# most_occured_50 = Counter.most_common(50)\n",
        "# most_occured_50"
      ],
      "metadata": {
        "id": "9OXuFRgabHMz"
      },
      "execution_count": 71,
      "outputs": []
    },
    {
      "cell_type": "markdown",
      "metadata": {
        "id": "v82mn4YX1_f3"
      },
      "source": [
        "## Divide dataset into train and test set "
      ]
    },
    {
      "cell_type": "code",
      "execution_count": 72,
      "metadata": {
        "colab": {
          "base_uri": "https://localhost:8080/"
        },
        "id": "WNCTDv_hW-o8",
        "outputId": "9f9ff5f5-65fa-4054-ac1b-2b8d880db55f"
      },
      "outputs": [
        {
          "output_type": "execute_result",
          "data": {
            "text/plain": [
              "2"
            ]
          },
          "metadata": {},
          "execution_count": 72
        }
      ],
      "source": [
        "from sklearn.model_selection import StratifiedShuffleSplit\n",
        "\n",
        "sss = StratifiedShuffleSplit(n_splits = 2, test_size=0.3, random_state=25)\n",
        "sss.get_n_splits(X_pad, y_ohe)\n"
      ]
    },
    {
      "cell_type": "code",
      "execution_count": 73,
      "metadata": {
        "id": "t1Fn6u3MiD2e"
      },
      "outputs": [],
      "source": [
        "for train_index, test_index in sss.split(X_pad, y_ohe):\n",
        "    X_train, X_test = X_pad[train_index], X_pad[test_index]\n",
        "    y_train, y_test = y_ohe[train_index], y_ohe[test_index]"
      ]
    },
    {
      "cell_type": "markdown",
      "metadata": {
        "id": "Ta5_ddMV22fy"
      },
      "source": [
        "# Define and Train the model"
      ]
    },
    {
      "cell_type": "code",
      "execution_count": 74,
      "metadata": {
        "id": "pLesbWKe9XOi"
      },
      "outputs": [],
      "source": [
        "# import layers \n",
        "from tensorflow.keras import Sequential\n",
        "from tensorflow.keras.layers import Embedding, Bidirectional, Dense , LSTM , GRU\n",
        "\n",
        "# embedding dimension\n",
        "embedding_dim = 16\n",
        "\n",
        "# epochs\n",
        "\n",
        "epochs = 100\n",
        "\n",
        "# batch size \n",
        "\n",
        "batch_size = 32"
      ]
    },
    {
      "cell_type": "markdown",
      "metadata": {
        "id": "XalacUCMu69d"
      },
      "source": [
        "## Bidirectional LSTM"
      ]
    },
    {
      "cell_type": "code",
      "execution_count": 75,
      "metadata": {
        "id": "nz1KTGoLUPDn",
        "colab": {
          "base_uri": "https://localhost:8080/"
        },
        "outputId": "edd2267b-eab7-4718-d274-6bdbf0515a18"
      },
      "outputs": [
        {
          "output_type": "stream",
          "name": "stdout",
          "text": [
            "Model: \"bidirectional_lstm\"\n",
            "_________________________________________________________________\n",
            " Layer (type)                Output Shape              Param #   \n",
            "=================================================================\n",
            " embedding (Embedding)       (None, 300, 16)           26034944  \n",
            "                                                                 \n",
            " bidirectional (Bidirectiona  (None, 300, 256)         148480    \n",
            " l)                                                              \n",
            "                                                                 \n",
            " bidirectional_1 (Bidirectio  (None, 256)              394240    \n",
            " nal)                                                            \n",
            "                                                                 \n",
            " dense (Dense)               (None, 8)                 2056      \n",
            "                                                                 \n",
            "=================================================================\n",
            "Total params: 26,579,720\n",
            "Trainable params: 26,579,720\n",
            "Non-trainable params: 0\n",
            "_________________________________________________________________\n"
          ]
        }
      ],
      "source": [
        "model_bi_directional_lstm = Sequential(name = \"bidirectional_lstm\")\n",
        "model_bi_directional_lstm.add(Embedding(\n",
        "    input_dim = vocab_size,\n",
        "    output_dim = embedding_dim, \n",
        "    input_length= maxlen\n",
        "))\n",
        "\n",
        "model_bi_directional_lstm.add(Bidirectional(LSTM(128, return_sequences = True)))\n",
        "model_bi_directional_lstm.add(Bidirectional(LSTM(128)))\n",
        "model_bi_directional_lstm.add(Dense(8,activation = 'softmax'))\n",
        "model_bi_directional_lstm.compile(optimizer = \"adam\",\n",
        "              loss = \"categorical_crossentropy\",\n",
        "              metrics = ['accuracy'])\n",
        "model_bi_directional_lstm.summary()\n"
      ]
    },
    {
      "cell_type": "code",
      "source": [
        "vocab_size * 16   == 26034944"
      ],
      "metadata": {
        "colab": {
          "base_uri": "https://localhost:8080/"
        },
        "id": "uU6W4HNwL2M4",
        "outputId": "67de0b90-5257-40fd-be71-be3cb8f016de"
      },
      "execution_count": 76,
      "outputs": [
        {
          "output_type": "execute_result",
          "data": {
            "text/plain": [
              "True"
            ]
          },
          "metadata": {},
          "execution_count": 76
        }
      ]
    },
    {
      "cell_type": "code",
      "source": [
        "y_train.shape , X_train.shape"
      ],
      "metadata": {
        "colab": {
          "base_uri": "https://localhost:8080/"
        },
        "id": "ujqGr_geMFOQ",
        "outputId": "4bce5230-07ee-4a6a-9e97-a53b8f067ac9"
      },
      "execution_count": 77,
      "outputs": [
        {
          "output_type": "execute_result",
          "data": {
            "text/plain": [
              "((123176, 8), (123176, 300))"
            ]
          },
          "metadata": {},
          "execution_count": 77
        }
      ]
    },
    {
      "cell_type": "markdown",
      "source": [
        "### setup tensorboard "
      ],
      "metadata": {
        "id": "rc85j5_mOTEJ"
      }
    },
    {
      "cell_type": "code",
      "source": [
        "# may full the google drive and raise google drive error"
      ],
      "metadata": {
        "id": "_iBrKQ6HRzyu"
      },
      "execution_count": null,
      "outputs": []
    },
    {
      "cell_type": "code",
      "source": [
        "\n",
        "# import datetime\n",
        "# SAVE_DIR = \"drive/MyDrive/DL_models/bangla-news-rnn/model_logs\"\n",
        "# def create_tensorboard_callback(dir_name, experiment_name):\n",
        "  \n",
        "#   log_dir = dir_name + \"/\" + experiment_name + \"/tensorboard/\" + datetime.datetime.now().strftime(\"%Y%m%d-%H%M%S\")\n",
        "#   tensorboard_callback = tf.keras.callbacks.TensorBoard(\n",
        "#       log_dir=log_dir\n",
        "#   )\n",
        "#   print(f\"Saving TensorBoard log files to: {log_dir}\")\n",
        "#   return tensorboard_callback\n"
      ],
      "metadata": {
        "id": "7TJU8j11MTKc"
      },
      "execution_count": 78,
      "outputs": []
    },
    {
      "cell_type": "markdown",
      "source": [
        "### setup backup callback \n"
      ],
      "metadata": {
        "id": "ycW94r6kOHrY"
      }
    },
    {
      "cell_type": "code",
      "source": [
        "import tensorflow as tf\n",
        "bi_lstm_backup_callback = tf.keras.callbacks.BackupAndRestore(\n",
        "backup_dir=\"drive/MyDrive/DL_models/bangla-news-rnn/model_logs/BI-LSTM_MODEL/backup\")"
      ],
      "metadata": {
        "id": "3qCHNyE2OYah"
      },
      "execution_count": 79,
      "outputs": []
    },
    {
      "cell_type": "code",
      "source": [
        "bi_lstm_history = model_bi_directional_lstm.fit(X_train, y_train,\n",
        "                    epochs=epochs,\n",
        "                    verbose=1,\n",
        "                    validation_split=0.2,\n",
        "                    batch_size=batch_size ,\n",
        "                    # callbacks = [create_tensorboard_callback(SAVE_DIR,\"BI-LSTM_MODEL\"),\n",
        "                    #              bi_lstm_backup_callback])\n",
        "                    callbacks = [bi_lstm_backup_callback])"
      ],
      "metadata": {
        "colab": {
          "base_uri": "https://localhost:8080/"
        },
        "id": "zdhnjCoROrf9",
        "outputId": "8111b6ce-8b2f-45fc-a0de-1b6a42301d2a"
      },
      "execution_count": null,
      "outputs": [
        {
          "output_type": "stream",
          "name": "stdout",
          "text": [
            "Epoch 50/100\n",
            "3080/3080 [==============================] - 262s 85ms/step - loss: 4.9471e-04 - accuracy: 0.9998 - val_loss: 0.4389 - val_accuracy: 0.9474\n",
            "Epoch 51/100\n",
            "3080/3080 [==============================] - 261s 85ms/step - loss: 5.9558e-04 - accuracy: 0.9998 - val_loss: 0.5336 - val_accuracy: 0.9422\n",
            "Epoch 52/100\n",
            "3080/3080 [==============================] - 260s 85ms/step - loss: 0.0011 - accuracy: 0.9997 - val_loss: 0.4987 - val_accuracy: 0.9430\n",
            "Epoch 53/100\n",
            "3080/3080 [==============================] - 261s 85ms/step - loss: 9.1095e-04 - accuracy: 0.9998 - val_loss: 0.4544 - val_accuracy: 0.9478\n",
            "Epoch 54/100\n",
            "3080/3080 [==============================] - 261s 85ms/step - loss: 4.7408e-04 - accuracy: 0.9998 - val_loss: 0.4494 - val_accuracy: 0.9476\n",
            "Epoch 55/100\n",
            "3080/3080 [==============================] - 262s 85ms/step - loss: 4.8873e-04 - accuracy: 0.9998 - val_loss: 0.4869 - val_accuracy: 0.9453\n",
            "Epoch 56/100\n",
            "3080/3080 [==============================] - 261s 85ms/step - loss: 4.8213e-04 - accuracy: 0.9998 - val_loss: 0.5115 - val_accuracy: 0.9467\n",
            "Epoch 57/100\n",
            "3080/3080 [==============================] - 263s 85ms/step - loss: 5.0905e-04 - accuracy: 0.9998 - val_loss: 0.5404 - val_accuracy: 0.9470\n",
            "Epoch 58/100\n",
            "3080/3080 [==============================] - 262s 85ms/step - loss: 7.6313e-04 - accuracy: 0.9997 - val_loss: 0.4877 - val_accuracy: 0.9447\n",
            "Epoch 59/100\n",
            "3080/3080 [==============================] - ETA: 0s - loss: 4.6053e-04 - accuracy: 0.9998"
          ]
        }
      ]
    },
    {
      "cell_type": "markdown",
      "metadata": {
        "id": "wX7gqc3n_xSu"
      },
      "source": [
        "### Plotting results"
      ]
    },
    {
      "cell_type": "code",
      "execution_count": null,
      "metadata": {
        "id": "1PJDhPGe6Xwm"
      },
      "outputs": [],
      "source": [
        "\n",
        "\n",
        "plt.plot(bi_lstm_history.history['accuracy'])\n",
        "plt.plot(bi_lstm_history.history['val_accuracy'])\n",
        "plt.legend(['train', 'valid'])\n",
        "plt.show()\n"
      ]
    },
    {
      "cell_type": "code",
      "execution_count": null,
      "metadata": {
        "id": "-QNB-y0G6p8L"
      },
      "outputs": [],
      "source": [
        "plt.plot(bi_lstm_history.history['loss'])\n",
        "plt.plot(bi_lstm_history.history['val_loss'])\n",
        "plt.legend(['train', 'valid'])\n",
        "plt.show()"
      ]
    },
    {
      "cell_type": "code",
      "execution_count": null,
      "metadata": {
        "id": "oU5cUK6d_252"
      },
      "outputs": [],
      "source": [
        "model_bi_lstm_save_name = \"bi-directional-lstm-model.h5\"\n",
        "\n",
        "saving_path_bi_lstm =saving_dir+model_bi_lstm_save_name\n",
        "saving_path_bi_lstm"
      ]
    },
    {
      "cell_type": "code",
      "execution_count": null,
      "metadata": {
        "id": "76WHUszGAGLa"
      },
      "outputs": [],
      "source": [
        "model_bi_directional_lstm.save(saving_path_bi_lstm)"
      ]
    },
    {
      "cell_type": "markdown",
      "metadata": {
        "id": "rlT7oUisRnll"
      },
      "source": [
        "## LSTM model\n"
      ]
    },
    {
      "cell_type": "code",
      "source": [
        "# lr_schedule = tf.keras.optimizers.schedules.ExponentialDecay(\n",
        "#     initial_learning_rate=1e-2,\n",
        "#     decay_steps=epochs,\n",
        "#     decay_rate=0.9)\n"
      ],
      "metadata": {
        "id": "mgd2PTnaQRLi"
      },
      "execution_count": null,
      "outputs": []
    },
    {
      "cell_type": "code",
      "execution_count": null,
      "metadata": {
        "colab": {
          "base_uri": "https://localhost:8080/"
        },
        "id": "pMJwSqn83H5f",
        "outputId": "13078a0a-0804-43a7-f5be-5a32ff1cad76"
      },
      "outputs": [
        {
          "output_type": "stream",
          "name": "stdout",
          "text": [
            "Model: \"lstm\"\n",
            "_________________________________________________________________\n",
            " Layer (type)                Output Shape              Param #   \n",
            "=================================================================\n",
            " embedding (Embedding)       (None, 300, 8)            13017472  \n",
            "                                                                 \n",
            " lstm (LSTM)                 (None, 300, 128)          70144     \n",
            "                                                                 \n",
            " lstm_1 (LSTM)               (None, 128)               131584    \n",
            "                                                                 \n",
            " dense (Dense)               (None, 8)                 1032      \n",
            "                                                                 \n",
            "=================================================================\n",
            "Total params: 13,220,232\n",
            "Trainable params: 13,220,232\n",
            "Non-trainable params: 0\n",
            "_________________________________________________________________\n"
          ]
        }
      ],
      "source": [
        "model_lstm = Sequential(name = \"lstm\")\n",
        "model_lstm.add(Embedding(\n",
        "    input_dim = vocab_size,\n",
        "    output_dim = embedding_dim, \n",
        "    input_length= maxlen\n",
        "))\n",
        "\n",
        "model_lstm.add(LSTM(128, return_sequences = True))\n",
        "model_lstm.add(LSTM(128))\n",
        "model_lstm.add(Dense(8,activation = 'softmax'))\n",
        "model_lstm.compile(optimizer = 'adam', #tf.keras.optimizers.Adam(learning_rate=lr_schedule),\n",
        "              loss = \"categorical_crossentropy\",\n",
        "              metrics = ['accuracy'])\n",
        "model_lstm.summary()\n"
      ]
    },
    {
      "cell_type": "code",
      "execution_count": null,
      "metadata": {
        "colab": {
          "base_uri": "https://localhost:8080/"
        },
        "id": "s5hLwnbiMlQ8",
        "outputId": "635c1a92-3659-4511-abca-b14f705f46c5"
      },
      "outputs": [
        {
          "output_type": "execute_result",
          "data": {
            "text/plain": [
              "True"
            ]
          },
          "metadata": {},
          "execution_count": 50
        }
      ],
      "source": [
        " 8* vocab_size ==    13017472 "
      ]
    },
    {
      "cell_type": "code",
      "source": [
        "y_train.shape , X_train.shape\n"
      ],
      "metadata": {
        "colab": {
          "base_uri": "https://localhost:8080/"
        },
        "id": "ZdgUgulUWEw2",
        "outputId": "d5dcd576-a445-48a5-fb63-692d4ccfb06a"
      },
      "execution_count": null,
      "outputs": [
        {
          "output_type": "execute_result",
          "data": {
            "text/plain": [
              "((123176, 8), (123176, 300))"
            ]
          },
          "metadata": {},
          "execution_count": 51
        }
      ]
    },
    {
      "cell_type": "code",
      "execution_count": null,
      "metadata": {
        "id": "W78Eh7ObaTWB"
      },
      "outputs": [],
      "source": [
        "import datetime\n",
        "SAVE_DIR = \"drive/MyDrive/DL_models/bangla-news-rnn/model_logs\"\n",
        "def create_tensorboard_callback(dir_name, experiment_name):\n",
        "  \n",
        "  log_dir = dir_name + \"/\" + experiment_name + \"/tensorboard/\" + datetime.datetime.now().strftime(\"%Y%m%d-%H%M%S\")\n",
        "  tensorboard_callback = tf.keras.callbacks.TensorBoard(\n",
        "      log_dir=log_dir\n",
        "  )\n",
        "  print(f\"Saving TensorBoard log files to: {log_dir}\")\n",
        "  return tensorboard_callback\n",
        "\n",
        "\n",
        "\n"
      ]
    },
    {
      "cell_type": "code",
      "source": [
        "import tensorflow as tf\n",
        "lstm_backup_callback = tf.keras.callbacks.BackupAndRestore(\n",
        "backup_dir=\"drive/MyDrive/DL_models/bangla-news-rnn/model_logs/LSTM_MODEL/backup\")"
      ],
      "metadata": {
        "id": "wS9Kz_uxzuQ4"
      },
      "execution_count": null,
      "outputs": []
    },
    {
      "cell_type": "code",
      "execution_count": null,
      "metadata": {
        "colab": {
          "base_uri": "https://localhost:8080/",
          "height": 363
        },
        "id": "jNLNZbnhSPfi",
        "outputId": "48b8a57b-82a8-41c7-e125-9d5d6e506d49"
      },
      "outputs": [
        {
          "output_type": "stream",
          "name": "stdout",
          "text": [
            "Saving TensorBoard log files to: drive/MyDrive/DL_models/bangla-news-rnn/model_logs/LSTM_MODEL/tensorboard/20220411-095131\n"
          ]
        },
        {
          "output_type": "error",
          "ename": "OpError",
          "evalue": "ignored",
          "traceback": [
            "\u001b[0;31m---------------------------------------------------------------------------\u001b[0m",
            "\u001b[0;31mOpError\u001b[0m                                   Traceback (most recent call last)",
            "\u001b[0;32m<ipython-input-75-1ce3568ae1b2>\u001b[0m in \u001b[0;36m<module>\u001b[0;34m()\u001b[0m\n\u001b[1;32m      5\u001b[0m                     \u001b[0mbatch_size\u001b[0m\u001b[0;34m=\u001b[0m\u001b[0mbatch_size\u001b[0m \u001b[0;34m,\u001b[0m\u001b[0;34m\u001b[0m\u001b[0;34m\u001b[0m\u001b[0m\n\u001b[1;32m      6\u001b[0m                     callbacks = [create_tensorboard_callback(SAVE_DIR,\"LSTM_MODEL\"),\n\u001b[0;32m----> 7\u001b[0;31m                                  lstm_backup_callback])\n\u001b[0m",
            "\u001b[0;32m/usr/local/lib/python3.7/dist-packages/keras/utils/traceback_utils.py\u001b[0m in \u001b[0;36merror_handler\u001b[0;34m(*args, **kwargs)\u001b[0m\n\u001b[1;32m     65\u001b[0m     \u001b[0;32mexcept\u001b[0m \u001b[0mException\u001b[0m \u001b[0;32mas\u001b[0m \u001b[0me\u001b[0m\u001b[0;34m:\u001b[0m  \u001b[0;31m# pylint: disable=broad-except\u001b[0m\u001b[0;34m\u001b[0m\u001b[0;34m\u001b[0m\u001b[0m\n\u001b[1;32m     66\u001b[0m       \u001b[0mfiltered_tb\u001b[0m \u001b[0;34m=\u001b[0m \u001b[0m_process_traceback_frames\u001b[0m\u001b[0;34m(\u001b[0m\u001b[0me\u001b[0m\u001b[0;34m.\u001b[0m\u001b[0m__traceback__\u001b[0m\u001b[0;34m)\u001b[0m\u001b[0;34m\u001b[0m\u001b[0;34m\u001b[0m\u001b[0m\n\u001b[0;32m---> 67\u001b[0;31m       \u001b[0;32mraise\u001b[0m \u001b[0me\u001b[0m\u001b[0;34m.\u001b[0m\u001b[0mwith_traceback\u001b[0m\u001b[0;34m(\u001b[0m\u001b[0mfiltered_tb\u001b[0m\u001b[0;34m)\u001b[0m \u001b[0;32mfrom\u001b[0m \u001b[0;32mNone\u001b[0m\u001b[0;34m\u001b[0m\u001b[0;34m\u001b[0m\u001b[0m\n\u001b[0m\u001b[1;32m     68\u001b[0m     \u001b[0;32mfinally\u001b[0m\u001b[0;34m:\u001b[0m\u001b[0;34m\u001b[0m\u001b[0;34m\u001b[0m\u001b[0m\n\u001b[1;32m     69\u001b[0m       \u001b[0;32mdel\u001b[0m \u001b[0mfiltered_tb\u001b[0m\u001b[0;34m\u001b[0m\u001b[0;34m\u001b[0m\u001b[0m\n",
            "\u001b[0;32m/usr/local/lib/python3.7/dist-packages/tensorflow/python/training/py_checkpoint_reader.py\u001b[0m in \u001b[0;36merror_translator\u001b[0;34m(e)\u001b[0m\n\u001b[1;32m     43\u001b[0m     \u001b[0;32mraise\u001b[0m \u001b[0merrors_impl\u001b[0m\u001b[0;34m.\u001b[0m\u001b[0mInternalError\u001b[0m\u001b[0;34m(\u001b[0m\u001b[0;32mNone\u001b[0m\u001b[0;34m,\u001b[0m \u001b[0;32mNone\u001b[0m\u001b[0;34m,\u001b[0m \u001b[0merror_message\u001b[0m\u001b[0;34m)\u001b[0m\u001b[0;34m\u001b[0m\u001b[0;34m\u001b[0m\u001b[0m\n\u001b[1;32m     44\u001b[0m   \u001b[0;32melse\u001b[0m\u001b[0;34m:\u001b[0m\u001b[0;34m\u001b[0m\u001b[0;34m\u001b[0m\u001b[0m\n\u001b[0;32m---> 45\u001b[0;31m     \u001b[0;32mraise\u001b[0m \u001b[0merrors_impl\u001b[0m\u001b[0;34m.\u001b[0m\u001b[0mOpError\u001b[0m\u001b[0;34m(\u001b[0m\u001b[0;32mNone\u001b[0m\u001b[0;34m,\u001b[0m \u001b[0;32mNone\u001b[0m\u001b[0;34m,\u001b[0m \u001b[0merror_message\u001b[0m\u001b[0;34m,\u001b[0m \u001b[0merrors_impl\u001b[0m\u001b[0;34m.\u001b[0m\u001b[0mUNKNOWN\u001b[0m\u001b[0;34m)\u001b[0m\u001b[0;34m\u001b[0m\u001b[0;34m\u001b[0m\u001b[0m\n\u001b[0m\u001b[1;32m     46\u001b[0m \u001b[0;34m\u001b[0m\u001b[0m\n\u001b[1;32m     47\u001b[0m \u001b[0;34m\u001b[0m\u001b[0m\n",
            "\u001b[0;31mOpError\u001b[0m: drive/MyDrive/DL_models/bangla-news-rnn/model_logs/LSTM_MODEL/backup/chief/ckpt-92.data-00000-of-00001; No such file or directory"
          ]
        }
      ],
      "source": [
        "lstm_history = model_lstm.fit(X_train, y_train,\n",
        "                    epochs=epochs,\n",
        "                    verbose=1,\n",
        "                    validation_split=0.2,\n",
        "                    batch_size=batch_size ,\n",
        "                    callbacks = [create_tensorboard_callback(SAVE_DIR,\"LSTM_MODEL\"),\n",
        "                                 lstm_backup_callback])"
      ]
    },
    {
      "cell_type": "code",
      "execution_count": null,
      "metadata": {
        "id": "Zc9nMNrAYCNd",
        "colab": {
          "base_uri": "https://localhost:8080/"
        },
        "outputId": "23843b2c-b648-499a-c6c2-5c4e5ea2b61b"
      },
      "outputs": [
        {
          "output_type": "stream",
          "name": "stdout",
          "text": [
            "2022-04-10 17:49:03.998556: E tensorflow/stream_executor/cuda/cuda_driver.cc:271] failed call to cuInit: CUDA_ERROR_NO_DEVICE: no CUDA-capable device is detected\n",
            "\n",
            "NOTE: Using experimental fast data loading logic. To disable, pass\n",
            "    \"--load_fast=false\" and report issues on GitHub. More details:\n",
            "    https://github.com/tensorflow/tensorboard/issues/4784\n",
            "\n",
            "Serving TensorBoard on localhost; to expose to the network, use a proxy or pass --bind_all\n",
            "TensorBoard 2.8.0 at http://localhost:6006/ (Press CTRL+C to quit)\n"
          ]
        }
      ],
      "source": [
        "\n",
        "!tensorboard --logdir ./drive/MyDrive/DL_models/bangla-news-rnn/model_logs/LSTM_MODEL\n",
        "\n"
      ]
    },
    {
      "cell_type": "code",
      "execution_count": null,
      "metadata": {
        "id": "-6qn-f-W5jAn"
      },
      "outputs": [],
      "source": [
        "lstm_history.params"
      ]
    },
    {
      "cell_type": "code",
      "execution_count": null,
      "metadata": {
        "id": "gWJAh8uZ5tO2"
      },
      "outputs": [],
      "source": [
        "lstm_history.history.keys()"
      ]
    },
    {
      "cell_type": "markdown",
      "metadata": {
        "id": "bW-kZOWklvlS"
      },
      "source": [
        "### Plotting losses and accuracies"
      ]
    },
    {
      "cell_type": "code",
      "execution_count": null,
      "metadata": {
        "id": "5gTUYkd9SyFQ"
      },
      "outputs": [],
      "source": [
        "import matplotlib.pyplot as plt\n",
        "\n",
        "plt.plot(lstm_history.history['accuracy'])\n",
        "plt.plot(lstm_history.history['val_accuracy'])\n",
        "plt.legend(['train', 'valid'])\n",
        "plt.show()\n"
      ]
    },
    {
      "cell_type": "code",
      "execution_count": null,
      "metadata": {
        "id": "jIKmw3NpS1oO"
      },
      "outputs": [],
      "source": [
        "plt.plot(lstm_history.history['loss'])\n",
        "plt.plot(lstm_history.history['val_loss'])\n",
        "plt.legend(['train', 'valid'])\n",
        "plt.show()"
      ]
    },
    {
      "cell_type": "markdown",
      "metadata": {
        "id": "hOtHqLcOQnE6"
      },
      "source": [
        "### saving the model"
      ]
    },
    {
      "cell_type": "code",
      "execution_count": null,
      "metadata": {
        "id": "IA_7NbtW8mtq"
      },
      "outputs": [],
      "source": [
        "# define gloabl saving dir\n",
        "saving_dir = \"drive/MyDrive/DL_models/bangla-news-rnn/\""
      ]
    },
    {
      "cell_type": "code",
      "execution_count": null,
      "metadata": {
        "id": "xMHfbIDBS9_m"
      },
      "outputs": [],
      "source": [
        "model_lstm_save_name = \"lstm-model.h5\"\n",
        "\n",
        "saving_path_lstm =saving_dir+model_lstm_save_name\n",
        "saving_path_lstm"
      ]
    },
    {
      "cell_type": "code",
      "execution_count": null,
      "metadata": {
        "id": "yM-MphcRTfQO"
      },
      "outputs": [],
      "source": [
        "model_lstm.save(saving_path_lstm)"
      ]
    },
    {
      "cell_type": "markdown",
      "metadata": {
        "id": "bh0hHZ1LkNrG"
      },
      "source": [
        "## GRU model\n"
      ]
    },
    {
      "cell_type": "code",
      "execution_count": null,
      "metadata": {
        "id": "9iVAcnNnQc5p"
      },
      "outputs": [],
      "source": [
        "from tensorflow.keras.layers import GRU\n",
        "\n",
        "model_gru = Sequential(name = \"gru\")\n",
        "model_gru.add(Embedding(\n",
        "    input_dim = vocab_size,\n",
        "    output_dim = embedding_dim, \n",
        "    input_length= maxlen\n",
        "))\n",
        "\n",
        "model_gru.add(GRU(128, return_sequences = True))\n",
        "model_gru.add(GRU(128))\n",
        "model_gru.add(Dense(10,activation = 'softmax'))\n",
        "model_gru.compile(optimizer = \"adam\",\n",
        "              loss = \"categorical_crossentropy\",\n",
        "              metrics = ['accuracy'])\n",
        "model_gru.summary()"
      ]
    },
    {
      "cell_type": "code",
      "execution_count": null,
      "metadata": {
        "id": "-QFF8IsWkrpP"
      },
      "outputs": [],
      "source": [
        "gru_history = model_gru.fit(X_train, y_train,\n",
        "                    epochs=epochs,\n",
        "                    verbose=1,\n",
        "                    validation_split=0.2,\n",
        "                    batch_size=batch_size\n",
        "                   )"
      ]
    },
    {
      "cell_type": "markdown",
      "metadata": {
        "id": "j4PkFzwyuv7Q"
      },
      "source": [
        "### plotting results"
      ]
    },
    {
      "cell_type": "code",
      "execution_count": null,
      "metadata": {
        "id": "V0-8NPGKpG-C"
      },
      "outputs": [],
      "source": [
        "import matplotlib.pyplot as plt\n",
        "\n",
        "plt.plot(gru_history.history['accuracy'])\n",
        "plt.plot(gru_history.history['val_accuracy'])\n",
        "plt.legend(['train', 'valid'])\n",
        "plt.show()"
      ]
    },
    {
      "cell_type": "code",
      "execution_count": null,
      "metadata": {
        "id": "t-c2PNrgpR04"
      },
      "outputs": [],
      "source": [
        "import matplotlib.pyplot as plt\n",
        "\n",
        "plt.plot(gru_history.history['loss'])\n",
        "plt.plot(gru_history.history['val_loss'])\n",
        "plt.legend(['train', 'valid'])\n",
        "plt.show()"
      ]
    },
    {
      "cell_type": "code",
      "execution_count": null,
      "metadata": {
        "id": "i0VSXzzJ_UXy"
      },
      "outputs": [],
      "source": [
        "model_gru_save_name = \"gru-model.h5\"\n",
        "\n",
        "saving_path_gru =saving_dir+model_gru_save_name\n",
        "saving_path_gru"
      ]
    },
    {
      "cell_type": "code",
      "execution_count": null,
      "metadata": {
        "id": "mPWr8E-Y_c_q"
      },
      "outputs": [],
      "source": [
        "model_gru.save(saving_path_gru)"
      ]
    },
    {
      "cell_type": "markdown",
      "metadata": {
        "id": "KYz3ZEKOymr0"
      },
      "source": [
        "## Plotting all data "
      ]
    },
    {
      "cell_type": "code",
      "execution_count": null,
      "metadata": {
        "id": "LCS_gIrqran1"
      },
      "outputs": [],
      "source": [
        "fig,(lstm,gru, bi_lstm)  = plt.subplots(nrows = 3,\n",
        "                                        ncols = 1,\n",
        "                                        figsize = (15,15))\n",
        "\n",
        "\n",
        "# lstm\n",
        "lstm.plot(lstm_history.history['accuracy'])\n",
        "lstm.plot(lstm_history.history['val_accuracy'])\n",
        "lstm.legend(['train', 'valid'])\n",
        "lstm.set_title(\"LSTM accuracies\")\n",
        "\n",
        "# gru\n",
        "\n",
        "gru.plot(gru_history.history['accuracy'])\n",
        "gru.plot(gru_history.history['val_accuracy'])\n",
        "gru.legend(['train', 'valid'])\n",
        "gru.set_title(\"GRU accuracies\")\n",
        "\n",
        "# bi -lstm\n",
        "\n",
        "bi_lstm.plot(bi_lstm_history.history['accuracy'])\n",
        "bi_lstm.plot(bi_lstm_history.history['val_accuracy'])\n",
        "bi_lstm.legend(['train', 'valid'])\n",
        "bi_lstm.set_title(\"Bi-directional accuracies\")\n",
        "\n",
        "fig.suptitle(\"Training and validation accuracies with epochs\")\n",
        "\n",
        "fig.show()\n"
      ]
    },
    {
      "cell_type": "code",
      "execution_count": null,
      "metadata": {
        "id": "lRG758mSukRd"
      },
      "outputs": [],
      "source": [
        "# loss\n",
        "fig,(lstm,gru, bi_lstm)  = plt.subplots(nrows = 3,\n",
        "                                        ncols = 1,\n",
        "                                        figsize = (15,15))\n",
        "\n",
        "\n",
        "# lstm\n",
        "lstm.plot(lstm_history.history['loss'])\n",
        "lstm.plot(lstm_history.history['val_loss'])\n",
        "lstm.legend(['train', 'valid'])\n",
        "lstm.set_title(\"LSTM losses\")\n",
        "\n",
        "# gru\n",
        "\n",
        "gru.plot(gru_history.history['loss'])\n",
        "gru.plot(gru_history.history['val_loss'])\n",
        "gru.legend(['train', 'valid'])\n",
        "gru.set_title(\"GRU losses\")\n",
        "\n",
        "# bi -lstm\n",
        "\n",
        "bi_lstm.plot(bi_lstm_history.history['loss'])\n",
        "bi_lstm.plot(bi_lstm_history.history['val_loss'])\n",
        "bi_lstm.legend(['train', 'valid'])\n",
        "bi_lstm.set_title(\"Bi-directional losses\")\n",
        "\n",
        "fig.suptitle(\"Training and validation losses with epochs\")\n",
        "\n",
        "fig.show()\n"
      ]
    },
    {
      "cell_type": "code",
      "execution_count": null,
      "metadata": {
        "id": "sS80YDmUyrbM"
      },
      "outputs": [],
      "source": [
        ""
      ]
    }
  ],
  "metadata": {
    "accelerator": "GPU",
    "colab": {
      "collapsed_sections": [
        "qKfiqZzgayiR"
      ],
      "name": "bangla_news_classification.ipynb",
      "provenance": []
    },
    "kernelspec": {
      "display_name": "Python 3",
      "name": "python3"
    },
    "language_info": {
      "name": "python"
    }
  },
  "nbformat": 4,
  "nbformat_minor": 0
}