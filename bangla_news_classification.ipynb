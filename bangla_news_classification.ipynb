{
  "cells": [
    {
      "cell_type": "markdown",
      "metadata": {
        "id": "rQvuNjlMnKm6"
      },
      "source": [
        "## GPU check"
      ]
    },
    {
      "cell_type": "code",
      "execution_count": 1,
      "metadata": {
        "colab": {
          "base_uri": "https://localhost:8080/"
        },
        "id": "E_sQ7WOzxyOd",
        "outputId": "b2cc0d0b-654e-4f4e-e1a3-2c759ebfca85"
      },
      "outputs": [
        {
          "output_type": "stream",
          "name": "stdout",
          "text": [
            "GPU 0: Tesla K80 (UUID: GPU-369982f8-c7ea-8651-7f86-82cbccad87a5)\n"
          ]
        }
      ],
      "source": [
        "!nvidia-smi -L\n"
      ]
    },
    {
      "cell_type": "code",
      "execution_count": 2,
      "metadata": {
        "colab": {
          "base_uri": "https://localhost:8080/"
        },
        "id": "qEJCsmB-08sB",
        "outputId": "f806bb61-ba5b-4e89-8ff3-0832930f7b94"
      },
      "outputs": [
        {
          "output_type": "stream",
          "name": "stdout",
          "text": [
            "Default GPU Device:/device:GPU:0\n"
          ]
        }
      ],
      "source": [
        "import tensorflow as tf \n",
        "\n",
        "if tf.test.gpu_device_name(): \n",
        "\n",
        "    print('Default GPU Device:{}'.format(tf.test.gpu_device_name()))\n",
        "\n",
        "else:\n",
        "\n",
        "   print(\"enable gpu from runtime\")"
      ]
    },
    {
      "cell_type": "markdown",
      "metadata": {
        "id": "GOaBnsaNnZ2w"
      },
      "source": [
        "## mounting gdrive "
      ]
    },
    {
      "cell_type": "code",
      "execution_count": 3,
      "metadata": {
        "colab": {
          "base_uri": "https://localhost:8080/"
        },
        "id": "l_Go_lw82ut1",
        "outputId": "ceb3351a-06d3-42a1-89b2-57677ddf8a55"
      },
      "outputs": [
        {
          "output_type": "stream",
          "name": "stdout",
          "text": [
            "Mounted at /content/drive\n"
          ]
        }
      ],
      "source": [
        "from google.colab import drive\n",
        "drive.mount('/content/drive')"
      ]
    },
    {
      "cell_type": "markdown",
      "metadata": {
        "id": "p2NEtZtLnk5M"
      },
      "source": [
        "## Load dataset from kaggle"
      ]
    },
    {
      "cell_type": "code",
      "execution_count": 4,
      "metadata": {
        "id": "kO4s_QWix7sK"
      },
      "outputs": [],
      "source": [
        "!pip install opendatasets --upgrade --quiet"
      ]
    },
    {
      "cell_type": "code",
      "source": [
        "!wget https://raw.githubusercontent.com/afschowdhury/afschowdhury/master/kaggle.json"
      ],
      "metadata": {
        "colab": {
          "base_uri": "https://localhost:8080/"
        },
        "id": "9JH9xfjsMXGd",
        "outputId": "f996d881-af33-4d78-8211-9db2bf4f751f"
      },
      "execution_count": 5,
      "outputs": [
        {
          "output_type": "stream",
          "name": "stdout",
          "text": [
            "--2022-04-10 08:19:32--  https://raw.githubusercontent.com/afschowdhury/afschowdhury/master/kaggle.json\n",
            "Resolving raw.githubusercontent.com (raw.githubusercontent.com)... 185.199.110.133, 185.199.108.133, 185.199.109.133, ...\n",
            "Connecting to raw.githubusercontent.com (raw.githubusercontent.com)|185.199.110.133|:443... connected.\n",
            "HTTP request sent, awaiting response... 200 OK\n",
            "Length: 72 [text/plain]\n",
            "Saving to: ‘kaggle.json’\n",
            "\n",
            "kaggle.json         100%[===================>]      72  --.-KB/s    in 0s      \n",
            "\n",
            "2022-04-10 08:19:33 (3.77 MB/s) - ‘kaggle.json’ saved [72/72]\n",
            "\n"
          ]
        }
      ]
    },
    {
      "cell_type": "code",
      "execution_count": 6,
      "metadata": {
        "colab": {
          "base_uri": "https://localhost:8080/"
        },
        "id": "VUpXYHDMya2j",
        "outputId": "6dfc8948-8e26-490b-e955-1cf2b7ef7c28"
      },
      "outputs": [
        {
          "output_type": "stream",
          "name": "stdout",
          "text": [
            "Downloading bangla-newspaper-dataset.zip to ./bangla-newspaper-dataset\n"
          ]
        },
        {
          "output_type": "stream",
          "name": "stderr",
          "text": [
            "100%|██████████| 1.03G/1.03G [00:40<00:00, 27.2MB/s]\n"
          ]
        },
        {
          "output_type": "stream",
          "name": "stdout",
          "text": [
            "\n"
          ]
        }
      ],
      "source": [
        "dataset_url = \"https://www.kaggle.com/furcifer/bangla-newspaper-dataset?select=data_v2\"\n",
        "import opendatasets as od\n",
        "\n",
        "od.download(dataset_url)"
      ]
    },
    {
      "cell_type": "markdown",
      "metadata": {
        "id": "iuiKasOxpbW0"
      },
      "source": [
        "## Loading data from json file "
      ]
    },
    {
      "cell_type": "code",
      "execution_count": 1,
      "metadata": {
        "id": "xGK5Ohvp0y1A"
      },
      "outputs": [],
      "source": [
        "import json \n",
        "\n",
        "\n",
        "with open(\"bangla-newspaper-dataset/data_v2/data_v2.json\", encoding = \"utf-8\") as dt:\n",
        "  data = json.load(dt) "
      ]
    },
    {
      "cell_type": "markdown",
      "metadata": {
        "id": "LYOgjU9Pp-Mh"
      },
      "source": [
        "## Data Analysis"
      ]
    },
    {
      "cell_type": "code",
      "execution_count": 2,
      "metadata": {
        "colab": {
          "base_uri": "https://localhost:8080/"
        },
        "id": "A_5sBgN8-6Oz",
        "outputId": "480fbcf6-d182-464e-dfda-d8236ee6ed00"
      },
      "outputs": [
        {
          "output_type": "execute_result",
          "data": {
            "text/plain": [
              "list"
            ]
          },
          "metadata": {},
          "execution_count": 2
        }
      ],
      "source": [
        "type(data)"
      ]
    },
    {
      "cell_type": "code",
      "execution_count": 3,
      "metadata": {
        "colab": {
          "base_uri": "https://localhost:8080/"
        },
        "id": "OaF6NaLCOvCq",
        "outputId": "7f60edd6-d375-4442-b5f3-f1a332fd9797"
      },
      "outputs": [
        {
          "output_type": "execute_result",
          "data": {
            "text/plain": [
              "dict"
            ]
          },
          "metadata": {},
          "execution_count": 3
        }
      ],
      "source": [
        "type(data[0])"
      ]
    },
    {
      "cell_type": "code",
      "execution_count": null,
      "metadata": {
        "colab": {
          "base_uri": "https://localhost:8080/"
        },
        "id": "HiuAzvlR_25I",
        "outputId": "cda5ed02-ed36-49d5-e02f-384912b97e8f"
      },
      "outputs": [
        {
          "output_type": "execute_result",
          "data": {
            "text/plain": [
              "408471"
            ]
          },
          "metadata": {},
          "execution_count": 11
        }
      ],
      "source": [
        "len(data)"
      ]
    },
    {
      "cell_type": "code",
      "execution_count": null,
      "metadata": {
        "colab": {
          "base_uri": "https://localhost:8080/"
        },
        "id": "j8kA2O0p_-5I",
        "outputId": "ef46a54a-2b55-4616-940c-3e658aa6f7dd"
      },
      "outputs": [
        {
          "output_type": "execute_result",
          "data": {
            "text/plain": [
              "dict_keys(['author', 'category', 'category_bn', 'published_date', 'modification_date', 'tag', 'comment_count', 'title', 'url', 'content'])"
            ]
          },
          "metadata": {},
          "execution_count": 12
        }
      ],
      "source": [
        "data[0].keys()"
      ]
    },
    {
      "cell_type": "code",
      "execution_count": null,
      "metadata": {
        "colab": {
          "base_uri": "https://localhost:8080/"
        },
        "id": "THmv3Izd_40u",
        "outputId": "6ac08100-cf32-475e-cb4f-092821ea653e"
      },
      "outputs": [
        {
          "output_type": "execute_result",
          "data": {
            "text/plain": [
              "{'author': 'গাজীপুর প্রতিনিধি',\n",
              " 'category': 'bangladesh',\n",
              " 'category_bn': 'বাংলাদেশ',\n",
              " 'comment_count': 0,\n",
              " 'content': 'গাজীপুরের কালিয়াকৈর উপজেলার তেলিরচালা এলাকায় আজ বৃহস্পতিবার রাতের টিফিন খেয়ে একটি পোশাক কারখানার ৫০০ শ্রমিক অসুস্থ হয়ে পড়েছেন। এ ঘটনায় বিক্ষোভ করেছেন ওই কারখানার শ্রমিকেরা।সফিপুর মডার্ন হাসপাতালের জরুরি বিভাগের চিকিত্সক আল আমিন প্রথম আলো ডটকমকে বলেন, খাদ্যে বিষক্রিয়ায় তাঁরা (শ্রমিকেরা) অসুস্থ হয়ে পড়েছেন। এতে আতঙ্কিত হওয়ার কিছু নেই। অসুস্থদের চিকিত্সা দেওয়া হয়েছে।কারখানার শ্রমিক ও পুলিশ সূত্রে জানা যায়, উপজেলার তেলিরচালা এলাকার সেজাদ সোয়েটার লিমিটেড কারখানার শ্রমিকদের আজ রাত সাড়ে সাতটার দিকে টিফিন দেওয়া হয়। টিফিনে ছিল ডিম, রুটি, পেটিস ও কলা। টিফিন খেয়ে শ্রমিকেরা যথারীতি কাজে যোগ দেন। ওই টিফিন খাওয়ার প্রায় এক ঘণ্টা পর রাত সাড়ে আটটার দিকে কয়েকজন শ্রমিকের বমি ও পেট ব্যথা শুরু হয়। এরপর ধীরে ধীরে পুরো কারখানার শ্রমিকেরা অসুস্থ হতে থাকে। অনেকেই কারখানার মেঝেতে ঢলে পড়ে। এতে পাঁচ শতাধিক শ্রমিক অসুস্থ হয়ে পড়ে।পরে কারখানা কর্তৃপক্ষ দ্রুত যানবাহনের ব্যবস্থা করে তাদের সফিপুর জেনারেল হাসপাতাল, সফিপুর মডার্ন হাসপাতাল, উপজেলা স্বাস্থ্য কমপ্লেক্সসহ বিভিন্ন ক্লিনিকে ভর্তি করে। বাসি পচা খাবার দেওয়ায় শ্রমিকরা ক্ষুব্ধ হয়ে কারখানার সামনে বিক্ষোভ করে। খবর পেয়ে পুলিশ গিয়ে শ্রমিকদের বুঝিয়ে ও খাবার সরবরাহ প্রতিষ্ঠানের বিরুদ্ধে ব্যবস্থা নেওয়ার আশ্বাস দিলে শ্রমিকেরা শান্ত হয়।সফিপুর জেনারেল হাসপাতালে ভর্তি শ্রমিক জাকির হোসেন ও আসমা আক্তার বলেন, টিফিন খাওয়ার সময় ডিম ও কেক থেকে দুর্গন্ধ বের হচ্ছিল। এ কারণে অনেকেই ওই খাবার খায়নি। তবে বেশির ভাগ শ্রমিকই ওই খাবার খেয়েছে।কারখানার সহকারী উত্পাদন কর্মকর্তা (এপিএম) বছির উদ্দিন বলেন, টিফিনগুলি যে ঠিকাদারি প্রতিষ্ঠান কারখানায় সরবরাহ করে তাদের বিরুদ্ধে ব্যবস্থা নেওয়া হবে।মৌচাক পুলিশ ফাঁড়ির উপ-পরিদর্শক (এসআই) সৈয়দ আজহারুল ইসলাম প্রথম আলো ডটকমকে বলেন, শ্রমিকদের বুঝিয়ে শান্ত করা হয়েছে। এ ছাড়া কারখানা কর্তৃপক্ষকে খাদ্য সরবরাহ প্রতিষ্ঠানের বিরুদ্ধে ব্যবস্থা নিতে বলা হয়েছে।',\n",
              " 'modification_date': '০৪ জুলাই ২০১৩, ২৩:২৭',\n",
              " 'published_date': '০৪ জুলাই ২০১৩, ২৩:২৬',\n",
              " 'tag': ['গাজীপুর'],\n",
              " 'title': 'কালিয়াকৈরে টিফিন খেয়ে ৫০০ শ্রমিক অসুস্থ, বিক্ষোভ',\n",
              " 'url': 'http://www.prothom-alo.com/bangladesh/article/19030'}"
            ]
          },
          "metadata": {},
          "execution_count": 13
        }
      ],
      "source": [
        "data[0]"
      ]
    },
    {
      "cell_type": "code",
      "execution_count": null,
      "metadata": {
        "colab": {
          "base_uri": "https://localhost:8080/",
          "height": 106
        },
        "id": "uJG1AeQsBkLe",
        "outputId": "20d9d347-76c4-4aee-9885-5f3847965918"
      },
      "outputs": [
        {
          "output_type": "execute_result",
          "data": {
            "text/plain": [
              "'গাজীপুরের কালিয়াকৈর উপজেলার তেলিরচালা এলাকায় আজ বৃহস্পতিবার রাতের টিফিন খেয়ে একটি পোশাক কারখানার ৫০০ শ্রমিক অসুস্থ হয়ে পড়েছেন। এ ঘটনায় বিক্ষোভ করেছেন ওই কারখানার শ্রমিকেরা।সফিপুর মডার্ন হাসপাতালের জরুরি বিভাগের চিকিত্সক আল আমিন প্রথম আলো ডটকমকে বলেন, খাদ্যে বিষক্রিয়ায় তাঁরা (শ্রমিকেরা) অসুস্থ হয়ে পড়েছেন। এতে আতঙ্কিত হওয়ার কিছু নেই। অসুস্থদের চিকিত্সা দেওয়া হয়েছে।কারখানার শ্রমিক ও পুলিশ সূত্রে জানা যায়, উপজেলার তেলিরচালা এলাকার সেজাদ সোয়েটার লিমিটেড কারখানার শ্রমিকদের আজ রাত সাড়ে সাতটার দিকে টিফিন দেওয়া হয়। টিফিনে ছিল ডিম, রুটি, পেটিস ও কলা। টিফিন খেয়ে শ্রমিকেরা যথারীতি কাজে যোগ দেন। ওই টিফিন খাওয়ার প্রায় এক ঘণ্টা পর রাত সাড়ে আটটার দিকে কয়েকজন শ্রমিকের বমি ও পেট ব্যথা শুরু হয়। এরপর ধীরে ধীরে পুরো কারখানার শ্রমিকেরা অসুস্থ হতে থাকে। অনেকেই কারখানার মেঝেতে ঢলে পড়ে। এতে পাঁচ শতাধিক শ্রমিক অসুস্থ হয়ে পড়ে।পরে কারখানা কর্তৃপক্ষ দ্রুত যানবাহনের ব্যবস্থা করে তাদের সফিপুর জেনারেল হাসপাতাল, সফিপুর মডার্ন হাসপাতাল, উপজেলা স্বাস্থ্য কমপ্লেক্সসহ বিভিন্ন ক্লিনিকে ভর্তি করে। বাসি পচা খাবার দেওয়ায় শ্রমিকরা ক্ষুব্ধ হয়ে কারখানার সামনে বিক্ষোভ করে। খবর পেয়ে পুলিশ গিয়ে শ্রমিকদের বুঝিয়ে ও খাবার সরবরাহ প্রতিষ্ঠানের বিরুদ্ধে ব্যবস্থা নেওয়ার আশ্বাস দিলে শ্রমিকেরা শান্ত হয়।সফিপুর জেনারেল হাসপাতালে ভর্তি শ্রমিক জাকির হোসেন ও আসমা আক্তার বলেন, টিফিন খাওয়ার সময় ডিম ও কেক থেকে দুর্গন্ধ বের হচ্ছিল। এ কারণে অনেকেই ওই খাবার খায়নি। তবে বেশির ভাগ শ্রমিকই ওই খাবার খেয়েছে।কারখানার সহকারী উত্পাদন কর্মকর্তা (এপিএম) বছির উদ্দিন বলেন, টিফিনগুলি যে ঠিকাদারি প্রতিষ্ঠান কারখানায় সরবরাহ করে তাদের বিরুদ্ধে ব্যবস্থা নেওয়া হবে।মৌচাক পুলিশ ফাঁড়ির উপ-পরিদর্শক (এসআই) সৈয়দ আজহারুল ইসলাম প্রথম আলো ডটকমকে বলেন, শ্রমিকদের বুঝিয়ে শান্ত করা হয়েছে। এ ছাড়া কারখানা কর্তৃপক্ষকে খাদ্য সরবরাহ প্রতিষ্ঠানের বিরুদ্ধে ব্যবস্থা নিতে বলা হয়েছে।'"
            ],
            "application/vnd.google.colaboratory.intrinsic+json": {
              "type": "string"
            }
          },
          "metadata": {},
          "execution_count": 14
        }
      ],
      "source": [
        "data[0]['content']"
      ]
    },
    {
      "cell_type": "code",
      "execution_count": null,
      "metadata": {
        "colab": {
          "base_uri": "https://localhost:8080/"
        },
        "id": "x8erEC_8A3Wf",
        "outputId": "94444f78-71fb-4ff3-bf08-48a55df31ce8"
      },
      "outputs": [
        {
          "output_type": "execute_result",
          "data": {
            "text/plain": [
              "1752"
            ]
          },
          "metadata": {},
          "execution_count": 15
        }
      ],
      "source": [
        "len(data[0]['content'])"
      ]
    },
    {
      "cell_type": "code",
      "execution_count": 4,
      "metadata": {
        "colab": {
          "base_uri": "https://localhost:8080/"
        },
        "id": "_39JF77ZBZ4D",
        "outputId": "0526b15c-848b-47d5-b3a9-e61deb34de04"
      },
      "outputs": [
        {
          "output_type": "execute_result",
          "data": {
            "text/plain": [
              "{'bangladesh',\n",
              " 'economy',\n",
              " 'education',\n",
              " 'entertainment',\n",
              " 'international',\n",
              " 'life-style',\n",
              " 'opinion',\n",
              " 'sports',\n",
              " 'technology'}"
            ]
          },
          "metadata": {},
          "execution_count": 4
        }
      ],
      "source": [
        "cat_set = set(a['category'] for a in data)\n",
        "cat_set"
      ]
    },
    {
      "cell_type": "code",
      "execution_count": null,
      "metadata": {
        "colab": {
          "base_uri": "https://localhost:8080/"
        },
        "id": "k96QuScRBzbD",
        "outputId": "6d60feee-ac03-483f-9891-7bff0d09e352"
      },
      "outputs": [
        {
          "output_type": "execute_result",
          "data": {
            "text/plain": [
              "9"
            ]
          },
          "metadata": {},
          "execution_count": 17
        }
      ],
      "source": [
        "len(cat_set)"
      ]
    },
    {
      "cell_type": "code",
      "execution_count": 5,
      "metadata": {
        "id": "qiz7dloKCOVx"
      },
      "outputs": [],
      "source": [
        "all_cat = [a['category']for a in data]"
      ]
    },
    {
      "cell_type": "code",
      "execution_count": null,
      "metadata": {
        "colab": {
          "base_uri": "https://localhost:8080/"
        },
        "id": "IKnLbsj3B4B3",
        "outputId": "4d2d136e-797a-4000-abfa-c8e5729f1bb6"
      },
      "outputs": [
        {
          "output_type": "execute_result",
          "data": {
            "text/plain": [
              "(True, 408471)"
            ]
          },
          "metadata": {},
          "execution_count": 19
        }
      ],
      "source": [
        "len(data)  == len(all_cat) , len(data)"
      ]
    },
    {
      "cell_type": "markdown",
      "metadata": {
        "id": "yl1R7yb3qshF"
      },
      "source": [
        "### Select categories with data more than 7000"
      ]
    },
    {
      "cell_type": "code",
      "execution_count": 6,
      "metadata": {
        "colab": {
          "base_uri": "https://localhost:8080/"
        },
        "id": "RzWdWxuYH5oY",
        "outputId": "7cd7d63e-4644-4169-a0a3-d68ead18752e"
      },
      "outputs": [
        {
          "output_type": "execute_result",
          "data": {
            "text/plain": [
              "[10852, 232504, 9721, 12116, 30466, 15699, 30856, 17245, 49012]"
            ]
          },
          "metadata": {},
          "execution_count": 6
        }
      ],
      "source": [
        "# data in each category \n",
        "cat_count = []\n",
        "\n",
        "for cat in (cat_set):\n",
        "  cat_count.append(all_cat.count(cat))\n",
        "cat_count"
      ]
    },
    {
      "cell_type": "code",
      "execution_count": 7,
      "metadata": {
        "id": "vMQmdrALhbM8",
        "colab": {
          "base_uri": "https://localhost:8080/"
        },
        "outputId": "e9779ccd-165f-4b92-aad8-c3773699e8de"
      },
      "outputs": [
        {
          "output_type": "execute_result",
          "data": {
            "text/plain": [
              "[232504, 49012, 30856, 30466, 17245, 15699, 12116, 10852, 9721]"
            ]
          },
          "metadata": {},
          "execution_count": 7
        }
      ],
      "source": [
        "sorted(cat_count)[::-1]"
      ]
    },
    {
      "cell_type": "code",
      "execution_count": 8,
      "metadata": {
        "colab": {
          "base_uri": "https://localhost:8080/"
        },
        "id": "sFWJk2eriOmt",
        "outputId": "7cf56327-8002-40e3-d21e-876d957917a9"
      },
      "outputs": [
        {
          "output_type": "execute_result",
          "data": {
            "text/plain": [
              "{'bangladesh',\n",
              " 'economy',\n",
              " 'education',\n",
              " 'entertainment',\n",
              " 'international',\n",
              " 'life-style',\n",
              " 'opinion',\n",
              " 'sports',\n",
              " 'technology'}"
            ]
          },
          "metadata": {},
          "execution_count": 8
        }
      ],
      "source": [
        "cat_set"
      ]
    },
    {
      "cell_type": "code",
      "execution_count": 9,
      "metadata": {
        "colab": {
          "base_uri": "https://localhost:8080/"
        },
        "id": "iJNKLSEcimM4",
        "outputId": "4a3c4bc5-202d-4232-b269-14d0c4dce9b9"
      },
      "outputs": [
        {
          "output_type": "execute_result",
          "data": {
            "text/plain": [
              "[(10852, 'life-style'),\n",
              " (232504, 'bangladesh'),\n",
              " (9721, 'education'),\n",
              " (12116, 'technology'),\n",
              " (30466, 'entertainment'),\n",
              " (15699, 'opinion'),\n",
              " (30856, 'international'),\n",
              " (17245, 'economy'),\n",
              " (49012, 'sports')]"
            ]
          },
          "metadata": {},
          "execution_count": 9
        }
      ],
      "source": [
        "# bind category with their occurence\n",
        "z = zip(cat_count, cat_set)\n",
        "z = list(z)\n",
        "z"
      ]
    },
    {
      "cell_type": "code",
      "execution_count": 10,
      "metadata": {
        "colab": {
          "base_uri": "https://localhost:8080/",
          "height": 1000
        },
        "id": "J45IvJjuHPxL",
        "outputId": "fe6df8d9-5541-4c3c-b506-964c08a09f59"
      },
      "outputs": [
        {
          "output_type": "execute_result",
          "data": {
            "text/plain": [
              "<BarContainer object of 9 artists>"
            ]
          },
          "metadata": {},
          "execution_count": 10
        },
        {
          "output_type": "display_data",
          "data": {
            "text/plain": [
              "<Figure size 360x1440 with 1 Axes>"
            ],
            "image/png": "[encoded data removed]"
          },
          "metadata": {
            "needs_background": "light"
          }
        }
      ],
      "source": [
        "import matplotlib.pyplot as plt\n",
        "\n",
        "\n",
        "categories = {}\n",
        "for index, (x, y) in enumerate(z)  :\n",
        "  categories[y] = x\n",
        "\n",
        "fig , ax = plt.subplots(figsize=(5,20))\n",
        "\n",
        "# ax.bar(categories.keys(), categories.values())\n",
        "ax.barh(list(categories.keys()),list(categories.values()))"
      ]
    },
    {
      "cell_type": "code",
      "execution_count": 11,
      "metadata": {
        "colab": {
          "base_uri": "https://localhost:8080/"
        },
        "id": "hxRFviOljiWs",
        "outputId": "974b0884-315d-4fb5-e389-ba8ec4390a05"
      },
      "outputs": [
        {
          "output_type": "execute_result",
          "data": {
            "text/plain": [
              "['life-style',\n",
              " 'education',\n",
              " 'technology',\n",
              " 'entertainment',\n",
              " 'opinion',\n",
              " 'international',\n",
              " 'economy',\n",
              " 'sports']"
            ]
          },
          "metadata": {},
          "execution_count": 11
        }
      ],
      "source": [
        "sel_cats = []\n",
        "\n",
        "for cat in cat_set :\n",
        "  if cat != \"bangladesh\":\n",
        "    sel_cats.append(cat)\n",
        "sel_cats"
      ]
    },
    {
      "cell_type": "code",
      "execution_count": 12,
      "metadata": {
        "colab": {
          "base_uri": "https://localhost:8080/"
        },
        "id": "0XXn7w0OjjTF",
        "outputId": "666de886-3c44-40d1-f500-136538b3ac6e"
      },
      "outputs": [
        {
          "output_type": "execute_result",
          "data": {
            "text/plain": [
              "(8, 9)"
            ]
          },
          "metadata": {},
          "execution_count": 12
        }
      ],
      "source": [
        "len(sel_cats) , len(cat_set)  # selected category vs total category "
      ]
    },
    {
      "cell_type": "code",
      "execution_count": 13,
      "metadata": {
        "id": "Gk5wxKYUjpGP"
      },
      "outputs": [],
      "source": [
        "# collect selected categories \n",
        "\n",
        "X_text = []\n",
        "y_label = []\n",
        "\n",
        "for i in data :\n",
        "  if i['category'] in sel_cats:\n",
        "    X_text.append(i['content'])\n",
        "    y_label.append(i['category'])"
      ]
    },
    {
      "cell_type": "code",
      "execution_count": null,
      "metadata": {
        "colab": {
          "base_uri": "https://localhost:8080/",
          "height": 106
        },
        "id": "loUtH2RlkVCw",
        "outputId": "311b32fd-4d5e-4654-aaee-5e60fc2eef8b"
      },
      "outputs": [
        {
          "output_type": "execute_result",
          "data": {
            "text/plain": [
              "'এবারের উইম্বলডনটা স্মরণীয় করে রাখার মিশনেই যেন নেমেছেন সাবিনা লিসিকি। চতুর্থ রাউন্ডের লড়াইয়ে সেরেনা উইলিয়ামসকে হারিয়ে শুরু করেছিলেন স্বপ্নযাত্রা। কোয়ার্টার ফাইনালে কাইয়া কানেপিকে হারাতে খুব একটা বেগ পেতে হয়নি। তবে সেমিফাইনালে কঠিন প্রতিপক্ষের মুখেই পড়তে হয়েছিল লিসিকিকে। র্যাঙ্কিংয়ের চার নম্বরে থাকা আগ্নিয়েস্কা রাদভানস্কাই ছিলেন আজকের ম্যাচের ফেবারিট। কিন্তু অঘটনের উইম্বলডনে উল্টোটাই ঘটবে, এটাই যেন স্বাভাবিক। হলোই তা-ই। উত্তেজনাপূর্ণ সেমিফাইনালে ৬-৪, ২-৬, ৯-৭ গেমের জয় দিয়ে লিসিকি প্রথমবারের মতো পা রাখলেন উইম্বলডনের ফাইনালে।প্রথম সেটে ৬-৪ গেমের জয় দিয়ে শুরুটা দারুণভাবে করেছিলেন জার্মান তারকা লিসিকি। দ্বিতীয় সেটে ঘুরে দাঁড়ান রাদভানস্কা। খেলায় সমতা ফেরান ২-৬ গেমের জয় দিয়ে। ফলাফল নির্ধারণী তৃতীয় সেটের শুরুতেও বেশ খানিকটা সময় এগিয়ে ছিলেন রাদভানস্কা। কিন্তু ৩-০ ব্যবধানে পিছিয়ে পড়ার পর যেন মরিয়া হয়ে ওঠেন লিসিকি। ঘুরে দাঁড়াতে থাকেন নাটকীয়ভাবে। দুই ঘণ্টা ১৮ মিনিটের শ্বাসরুদ্ধকর লড়াইয়ের পর শেষ হাসিটাও হেসেছেন ২৩ বছর বয়সী লিসিকি।উইম্বলডনের অপর সেমিফাইনালে মারিওন বারতোলি অনায়াসেই হারিয়েছেন বেলজিয়ামের কারস্টেন ফ্লিপকেনসকে। ৬-১, ৬-২ গেমের জয় দিয়ে ফাইনাল নিশ্চিত করেছেন বারতোলি।শিরোপা জয়ের চূড়ান্ত লড়াইয়ে আগামী শনিবার মুখোমুখি হবেন বারতোলি ও লিসিকি।— রয়টার্স'"
            ],
            "application/vnd.google.colaboratory.intrinsic+json": {
              "type": "string"
            }
          },
          "metadata": {},
          "execution_count": 28
        }
      ],
      "source": [
        "X_text[0]"
      ]
    },
    {
      "cell_type": "code",
      "execution_count": null,
      "metadata": {
        "colab": {
          "base_uri": "https://localhost:8080/",
          "height": 36
        },
        "id": "QUp7ahOVkXse",
        "outputId": "17d3a749-25fc-43a3-df75-dd4c2dfa296d"
      },
      "outputs": [
        {
          "output_type": "execute_result",
          "data": {
            "text/plain": [
              "'sports'"
            ],
            "application/vnd.google.colaboratory.intrinsic+json": {
              "type": "string"
            }
          },
          "metadata": {},
          "execution_count": 29
        }
      ],
      "source": [
        "y_label[0]"
      ]
    },
    {
      "cell_type": "code",
      "execution_count": 14,
      "metadata": {
        "colab": {
          "base_uri": "https://localhost:8080/"
        },
        "id": "BJpnHtNdkc45",
        "outputId": "abf7bdd1-3035-40ae-b8dd-e1d9a435f511"
      },
      "outputs": [
        {
          "output_type": "execute_result",
          "data": {
            "text/plain": [
              "(True, 175967)"
            ]
          },
          "metadata": {},
          "execution_count": 14
        }
      ],
      "source": [
        "len(X_text) == len(y_label) , len(y_label)"
      ]
    },
    {
      "cell_type": "code",
      "execution_count": null,
      "metadata": {
        "colab": {
          "base_uri": "https://localhost:8080/"
        },
        "id": "Fpdxfnabkt9K",
        "outputId": "70864e4f-22c1-4df3-8e4f-1ab3cebeceaf"
      },
      "outputs": [
        {
          "output_type": "execute_result",
          "data": {
            "text/plain": [
              "{'economy',\n",
              " 'education',\n",
              " 'entertainment',\n",
              " 'international',\n",
              " 'life-style',\n",
              " 'opinion',\n",
              " 'sports',\n",
              " 'technology'}"
            ]
          },
          "metadata": {},
          "execution_count": 31
        }
      ],
      "source": [
        "set(y_label)"
      ]
    },
    {
      "cell_type": "code",
      "execution_count": null,
      "metadata": {
        "colab": {
          "base_uri": "https://localhost:8080/"
        },
        "id": "4m1IcNWNk3pT",
        "outputId": "a6a4b682-3a5c-4744-9aeb-f424b4cd5293"
      },
      "outputs": [
        {
          "output_type": "execute_result",
          "data": {
            "text/plain": [
              "['economy',\n",
              " 'education',\n",
              " 'entertainment',\n",
              " 'international',\n",
              " 'life-style',\n",
              " 'opinion',\n",
              " 'sports',\n",
              " 'technology']"
            ]
          },
          "metadata": {},
          "execution_count": 32
        }
      ],
      "source": [
        "sorted(sel_cats)"
      ]
    },
    {
      "cell_type": "code",
      "execution_count": null,
      "metadata": {
        "colab": {
          "base_uri": "https://localhost:8080/"
        },
        "id": "fniWMm04k6T4",
        "outputId": "d132e014-8b01-4438-ae5d-546ca85a7b47"
      },
      "outputs": [
        {
          "output_type": "execute_result",
          "data": {
            "text/plain": [
              "True"
            ]
          },
          "metadata": {},
          "execution_count": 33
        }
      ],
      "source": [
        "len(set(y_label)) == len(sel_cats)"
      ]
    },
    {
      "cell_type": "markdown",
      "metadata": {
        "id": "hHytrpLKk_YQ"
      },
      "source": [
        "## Convert the categorical labels to numeric \n"
      ]
    },
    {
      "cell_type": "code",
      "execution_count": 15,
      "metadata": {
        "id": "mKV0h0dfsaic"
      },
      "outputs": [],
      "source": [
        "from sklearn.preprocessing import LabelEncoder\n",
        "encoder = LabelEncoder()\n",
        "\n",
        "class_labels = encoder.fit_transform(y_label)"
      ]
    },
    {
      "cell_type": "code",
      "execution_count": 16,
      "metadata": {
        "colab": {
          "base_uri": "https://localhost:8080/"
        },
        "id": "jcLDdyx1lZf-",
        "outputId": "3b726f2a-8a47-47cb-f79f-ea320fbd39c4"
      },
      "outputs": [
        {
          "output_type": "execute_result",
          "data": {
            "text/plain": [
              "True"
            ]
          },
          "metadata": {},
          "execution_count": 16
        }
      ],
      "source": [
        "len(class_labels) == len(y_label)"
      ]
    },
    {
      "cell_type": "code",
      "execution_count": 17,
      "metadata": {
        "colab": {
          "base_uri": "https://localhost:8080/"
        },
        "id": "X0jfKXGAnoLh",
        "outputId": "ddfe0bce-3d78-4858-91ca-96aa9ac64ae6"
      },
      "outputs": [
        {
          "output_type": "execute_result",
          "data": {
            "text/plain": [
              "{0, 1, 2, 3, 4, 5, 6, 7}"
            ]
          },
          "metadata": {},
          "execution_count": 17
        }
      ],
      "source": [
        "set(class_labels)"
      ]
    },
    {
      "cell_type": "code",
      "execution_count": 18,
      "metadata": {
        "colab": {
          "base_uri": "https://localhost:8080/"
        },
        "id": "8URY302Yl9Od",
        "outputId": "d07b43bb-6be2-4011-ae07-01639854bdf7"
      },
      "outputs": [
        {
          "output_type": "execute_result",
          "data": {
            "text/plain": [
              "array(['economy', 'education', 'entertainment', 'international',\n",
              "       'life-style', 'opinion', 'sports', 'technology'], dtype='<U13')"
            ]
          },
          "metadata": {},
          "execution_count": 18
        }
      ],
      "source": [
        "encoder.inverse_transform(list(set(class_labels)))"
      ]
    },
    {
      "cell_type": "code",
      "execution_count": 19,
      "metadata": {
        "colab": {
          "base_uri": "https://localhost:8080/"
        },
        "id": "bMiV_giUnzKA",
        "outputId": "ee1229cb-ff0e-4454-f334-af9411fa1b79"
      },
      "outputs": [
        {
          "output_type": "execute_result",
          "data": {
            "text/plain": [
              "[(0, 'economy'),\n",
              " (1, 'education'),\n",
              " (2, 'entertainment'),\n",
              " (3, 'international'),\n",
              " (4, 'life-style'),\n",
              " (5, 'opinion'),\n",
              " (6, 'sports'),\n",
              " (7, 'technology')]"
            ]
          },
          "metadata": {},
          "execution_count": 19
        }
      ],
      "source": [
        "list(zip(set(class_labels), list(encoder.inverse_transform(list(set(class_labels))))))"
      ]
    },
    {
      "cell_type": "code",
      "execution_count": 20,
      "metadata": {
        "colab": {
          "base_uri": "https://localhost:8080/"
        },
        "id": "uDEgO-dOoTQf",
        "outputId": "e2eb1a81-3e82-4e04-985f-02fdac924a47"
      },
      "outputs": [
        {
          "output_type": "execute_result",
          "data": {
            "text/plain": [
              "numpy.ndarray"
            ]
          },
          "metadata": {},
          "execution_count": 20
        }
      ],
      "source": [
        "type(class_labels) "
      ]
    },
    {
      "cell_type": "code",
      "execution_count": 21,
      "metadata": {
        "colab": {
          "base_uri": "https://localhost:8080/"
        },
        "id": "6kXMWALyokqV",
        "outputId": "158abc68-72ee-42e5-f4fc-b25e1dfd2640"
      },
      "outputs": [
        {
          "output_type": "execute_result",
          "data": {
            "text/plain": [
              "(175967,)"
            ]
          },
          "metadata": {},
          "execution_count": 21
        }
      ],
      "source": [
        "class_labels.shape"
      ]
    },
    {
      "cell_type": "code",
      "execution_count": 22,
      "metadata": {
        "colab": {
          "base_uri": "https://localhost:8080/"
        },
        "id": "EqpNq3iCooMu",
        "outputId": "e2aaa70f-9f76-4d4c-d496-bb6a0308fb2e"
      },
      "outputs": [
        {
          "output_type": "execute_result",
          "data": {
            "text/plain": [
              "(175967, 1)"
            ]
          },
          "metadata": {},
          "execution_count": 22
        }
      ],
      "source": [
        "import numpy as np\n",
        "np.shape(np.reshape(class_labels, newshape=(class_labels.shape[0], 1)))"
      ]
    },
    {
      "cell_type": "code",
      "execution_count": 23,
      "metadata": {
        "id": "dshKIoIppXmd"
      },
      "outputs": [],
      "source": [
        "# apply one hot encoding to the class label for binary encoding\n",
        "from sklearn.preprocessing import OneHotEncoder\n",
        "encoder = OneHotEncoder(sparse = False)\n",
        "\n",
        "class_labels = class_labels.reshape((class_labels.shape[0],1))\n",
        "y_ohe = encoder.fit_transform(class_labels)"
      ]
    },
    {
      "cell_type": "code",
      "execution_count": 24,
      "metadata": {
        "colab": {
          "base_uri": "https://localhost:8080/"
        },
        "id": "kHC4LTyQ5fNU",
        "outputId": "5669a5b4-0b5f-4b6a-df26-699dea21ff79"
      },
      "outputs": [
        {
          "output_type": "execute_result",
          "data": {
            "text/plain": [
              "(175967, 8)"
            ]
          },
          "metadata": {},
          "execution_count": 24
        }
      ],
      "source": [
        "y_ohe.shape"
      ]
    },
    {
      "cell_type": "code",
      "execution_count": 25,
      "metadata": {
        "colab": {
          "base_uri": "https://localhost:8080/"
        },
        "id": "T6eiXEqO5hjQ",
        "outputId": "0ebd3941-b267-4885-84d5-ab9e24673841"
      },
      "outputs": [
        {
          "output_type": "execute_result",
          "data": {
            "text/plain": [
              "array([0., 0., 0., 0., 0., 0., 0., 1.])"
            ]
          },
          "metadata": {},
          "execution_count": 25
        }
      ],
      "source": [
        "y_ohe[1]"
      ]
    },
    {
      "cell_type": "code",
      "execution_count": 26,
      "metadata": {
        "colab": {
          "base_uri": "https://localhost:8080/"
        },
        "id": "r8osnsFn5mQV",
        "outputId": "01320842-c664-4ad6-b210-787f34ed4ba4"
      },
      "outputs": [
        {
          "output_type": "execute_result",
          "data": {
            "text/plain": [
              "array([7])"
            ]
          },
          "metadata": {},
          "execution_count": 26
        }
      ],
      "source": [
        "class_labels[1]"
      ]
    },
    {
      "cell_type": "markdown",
      "metadata": {
        "id": "PSRNU4qO6S0r"
      },
      "source": [
        "## tokenize the texts input to convert tokens to numeric\n"
      ]
    },
    {
      "cell_type": "code",
      "execution_count": 27,
      "metadata": {
        "colab": {
          "base_uri": "https://localhost:8080/",
          "height": 106
        },
        "id": "lTEbqAb-66hV",
        "outputId": "bda64a24-0cc9-4103-bc54-fb92a12f5223"
      },
      "outputs": [
        {
          "output_type": "execute_result",
          "data": {
            "text/plain": [
              "'এবারের উইম্বলডনটা স্মরণীয় করে রাখার মিশনেই যেন নেমেছেন সাবিনা লিসিকি। চতুর্থ রাউন্ডের লড়াইয়ে সেরেনা উইলিয়ামসকে হারিয়ে শুরু করেছিলেন স্বপ্নযাত্রা। কোয়ার্টার ফাইনালে কাইয়া কানেপিকে হারাতে খুব একটা বেগ পেতে হয়নি। তবে সেমিফাইনালে কঠিন প্রতিপক্ষের মুখেই পড়তে হয়েছিল লিসিকিকে। র্যাঙ্কিংয়ের চার নম্বরে থাকা আগ্নিয়েস্কা রাদভানস্কাই ছিলেন আজকের ম্যাচের ফেবারিট। কিন্তু অঘটনের উইম্বলডনে উল্টোটাই ঘটবে, এটাই যেন স্বাভাবিক। হলোই তা-ই। উত্তেজনাপূর্ণ সেমিফাইনালে ৬-৪, ২-৬, ৯-৭ গেমের জয় দিয়ে লিসিকি প্রথমবারের মতো পা রাখলেন উইম্বলডনের ফাইনালে।প্রথম সেটে ৬-৪ গেমের জয় দিয়ে শুরুটা দারুণভাবে করেছিলেন জার্মান তারকা লিসিকি। দ্বিতীয় সেটে ঘুরে দাঁড়ান রাদভানস্কা। খেলায় সমতা ফেরান ২-৬ গেমের জয় দিয়ে। ফলাফল নির্ধারণী তৃতীয় সেটের শুরুতেও বেশ খানিকটা সময় এগিয়ে ছিলেন রাদভানস্কা। কিন্তু ৩-০ ব্যবধানে পিছিয়ে পড়ার পর যেন মরিয়া হয়ে ওঠেন লিসিকি। ঘুরে দাঁড়াতে থাকেন নাটকীয়ভাবে। দুই ঘণ্টা ১৮ মিনিটের শ্বাসরুদ্ধকর লড়াইয়ের পর শেষ হাসিটাও হেসেছেন ২৩ বছর বয়সী লিসিকি।উইম্বলডনের অপর সেমিফাইনালে মারিওন বারতোলি অনায়াসেই হারিয়েছেন বেলজিয়ামের কারস্টেন ফ্লিপকেনসকে। ৬-১, ৬-২ গেমের জয় দিয়ে ফাইনাল নিশ্চিত করেছেন বারতোলি।শিরোপা জয়ের চূড়ান্ত লড়াইয়ে আগামী শনিবার মুখোমুখি হবেন বারতোলি ও লিসিকি।— রয়টার্স'"
            ],
            "application/vnd.google.colaboratory.intrinsic+json": {
              "type": "string"
            }
          },
          "metadata": {},
          "execution_count": 27
        }
      ],
      "source": [
        "X_text[0]"
      ]
    },
    {
      "cell_type": "code",
      "execution_count": 28,
      "metadata": {
        "id": "PxM1dbb-62lk"
      },
      "outputs": [],
      "source": [
        "from tensorflow.keras.preprocessing.text import Tokenizer\n",
        "\n",
        "tokenizer = Tokenizer()\n",
        "tokenizer.fit_on_texts(X_text) # Only words known by the tokenizer will be taken into account\n",
        "X_token = tokenizer.texts_to_sequences(X_text) # Transforms each text in texts to a sequence of integers\n"
      ]
    },
    {
      "cell_type": "code",
      "execution_count": null,
      "metadata": {
        "colab": {
          "base_uri": "https://localhost:8080/"
        },
        "id": "MRVVC5VR8JV4",
        "outputId": "6ed446bc-3d84-4999-9bc6-b13ab85f0e81"
      },
      "outputs": [
        {
          "output_type": "execute_result",
          "data": {
            "text/plain": [
              "dict"
            ]
          },
          "metadata": {},
          "execution_count": 48
        }
      ],
      "source": [
        "type(tokenizer.word_index)"
      ]
    },
    {
      "cell_type": "code",
      "execution_count": 29,
      "metadata": {
        "colab": {
          "base_uri": "https://localhost:8080/"
        },
        "id": "2KYoJkRB9tES",
        "outputId": "820b35af-c0f4-41b3-8d60-6b37bda9dd7c"
      },
      "outputs": [
        {
          "output_type": "stream",
          "name": "stdout",
          "text": [
            "ও\n",
            "এই\n",
            "করে\n",
            "থেকে\n",
            "এ\n",
            "না\n",
            "করা\n",
            "জন্য\n",
            "সঙ্গে\n",
            "আর\n",
            "করতে\n"
          ]
        }
      ],
      "source": [
        "for index, token  in enumerate(tokenizer.word_index):\n",
        "  print(token)\n",
        "  if index == 10:\n",
        "    break\n"
      ]
    },
    {
      "cell_type": "code",
      "execution_count": 30,
      "metadata": {
        "colab": {
          "base_uri": "https://localhost:8080/"
        },
        "id": "GbFDkT_j8INV",
        "outputId": "787dc8bd-5eb9-4b43-ed81-2652ee9d813b"
      },
      "outputs": [
        {
          "output_type": "execute_result",
          "data": {
            "text/plain": [
              "1627184"
            ]
          },
          "metadata": {},
          "execution_count": 30
        }
      ],
      "source": [
        "vocab_size = len(tokenizer.word_index)+1 \n",
        "vocab_size"
      ]
    },
    {
      "cell_type": "code",
      "execution_count": 31,
      "metadata": {
        "colab": {
          "base_uri": "https://localhost:8080/"
        },
        "id": "-OasTnc271KB",
        "outputId": "88bb4b9b-3c81-4c18-b7f8-94371f9981b4"
      },
      "outputs": [
        {
          "output_type": "execute_result",
          "data": {
            "text/plain": [
              "[[66, 160, 28629]]"
            ]
          },
          "metadata": {},
          "execution_count": 31
        }
      ],
      "source": [
        "tokenizer.texts_to_sequences([\"আমার নাম ফয়সাল\"])"
      ]
    },
    {
      "cell_type": "code",
      "execution_count": null,
      "metadata": {
        "colab": {
          "base_uri": "https://localhost:8080/"
        },
        "id": "tAZPyEosAE48",
        "outputId": "06504c04-41ef-42bb-df38-5db1f049461f"
      },
      "outputs": [
        {
          "output_type": "stream",
          "name": "stdout",
          "text": [
            "বিচ্ছেদের এক বছর পরও কেটি হোমসকে ভুলতে পারছেন না ‘মিশন ইমপসিবল’ তারকা টম ক্রুজ। আর তাই তো সম্প্রতি তিনি সাবেক স্ত্রীকে আবেগঘন এক চিঠি লিখেছেন পুনর্মিলনের আশাবাদ ব্যক্ত করে।এ প্রসঙ্গে ঘনিষ্ঠ সূত্রের বরাতে কনট্যাক্টমিউজিক জানিয়েছে, কেটির বিচ্ছেদের আবেদনের পরিপ্রেক্ষিতে গত বছরের জুলাইয়ে পাঁচ বছরের দাম্পত্যের ইতি টানার চূড়ান্ত সিদ্ধান্ত নিয়েছিলেন কেটি ও ক্রুজ। দেখতে দেখতে বছর ঘুরে আবার জুলাই মাস এসে গেছে। কেটিকে কোনোভাবেই মন থেকে মুছে ফেলতে পারছেন না ক্রুজ। তিনি উপলব্ধি করেছেন, আজীবন কেটিকে ভালোবেসে যাওয়া ছাড়া তাঁর সামনে আর কোনো পথ খোলা নেই।হঠাৎ করেই গত বছর ক্রুজের ৫০তম জন্মদিনের কয়েকদিন আগে তাঁকে ছেড়ে চলে যান কেটি। ওই ঘটনায় কেবল ক্রুজই অবাক হননি, অবাক হয়েছিল পুরো বিশ্ব। শুরুতে কেটির ওপর ক্ষুব্ধ হলেও দিনের পর দিন ক্রুজ ভেবেছেন কেন তাঁকে ছেড়ে চলে গেলেন কেটি। শেষ পর্যন্ত কেটির সেই কঠিন সিদ্ধান্ত নেওয়ার পেছনের কারণ অনুধাবন করতে পেরেছেন ক্রুজ।কেটির ওপর থেকে রাগ ও অভিমান পুরোপুরি সরাতে দীর্ঘ সময় লেগেছে ক্রুজের। গত মার্চে তাঁদের পুনর্মিলনের চেষ্টা করেছিলেন মধ্যস্থতাকারীরা। কিন্তু কোনো লাভ হয়নি। সেই থেকে কথা বন্ধ রয়েছে সাবেক এ তারকা দম্পতির মধ্যে।কিন্তু ক্রুজ যেকোনো উপায়ে কেটিকে ফিরে পাওয়ার জন্য দৃঢ়প্রতিজ্ঞ। কেটি তাঁর জীবনে ফিরে না এলেও অন্তত বন্ধুত্বপূর্ণ সম্পর্ক বজায় রাখবেন—এমনটাই প্রত্যাশা তাঁর। একমাত্র মেয়ে সাত বছর বয়সী সুরির মুখের দিকে তাকিয়ে সব ভুলে আবার ফিরে আশার কথা জানিয়েই সম্প্রতি কেটিকে চিঠি লিখেছেন ক্রুজ।\n",
            "[5197, 14, 41, 645, 13064, 102114, 7052, 1656, 6, 30787, 119589, 547, 4357, 28405, 10, 97, 96, 383, 19, 233, 6161, 19137, 14, 1752, 808, 54822, 9150, 3980, 28576, 930, 2587, 5214, 7594, 531383, 2622, 55586, 5197, 3476, 2071, 54, 126, 20924, 272, 126, 37785, 6251, 12519, 2608, 274, 12693, 13064, 1, 28405, 318, 318, 41, 905, 137, 678, 402, 351, 282, 110002, 3160, 755, 4, 2772, 1813, 1656, 6, 28405, 19, 3814, 88, 5269, 110002, 10167, 2976, 657, 13, 242, 10, 27, 714, 1924, 171342, 613, 54, 41, 16763, 13932, 6036, 78910, 43, 139, 2549, 236, 662, 75334, 67, 4829, 591, 148011, 1927, 6466, 1927, 2552, 445, 13877, 1119, 55586, 102, 3192, 249, 295, 24, 81, 7985, 14946, 207, 139, 2549, 236, 1206, 75334, 57, 91, 55586, 36, 548, 274, 2507, 3370, 118, 7952, 11, 3954, 531384, 102, 4, 4261, 1, 9949, 1480, 12390, 840, 439, 3894, 208125, 54, 3809, 79, 54822, 219, 466, 355685, 16, 27, 1079, 2876, 36, 4, 33, 316, 1593, 233, 5, 547, 6588, 187258, 7985, 491, 17323, 110002, 331, 3161, 8, 110003, 13064, 13, 1038, 331, 6, 5330, 540, 11857, 506, 11277, 355686, 1836, 1420, 876, 6551, 680, 41, 3365, 69436, 3309, 215, 13370, 50, 1415, 137, 331, 2517, 33, 77106, 383, 110002, 1752, 808, 28405]\n"
          ]
        }
      ],
      "source": [
        "print(X_text[5])\n",
        "print(X_token[5])"
      ]
    },
    {
      "cell_type": "code",
      "execution_count": null,
      "metadata": {
        "colab": {
          "base_uri": "https://localhost:8080/"
        },
        "id": "s8ek1D-JAo-D",
        "outputId": "bed8ab71-377e-4d3b-a451-09ef2af5d2af"
      },
      "outputs": [
        {
          "output_type": "execute_result",
          "data": {
            "text/plain": [
              "(1350, 212)"
            ]
          },
          "metadata": {},
          "execution_count": 53
        }
      ],
      "source": [
        "len(X_text[5]) , len(X_token[5]) "
      ]
    },
    {
      "cell_type": "code",
      "execution_count": null,
      "metadata": {
        "colab": {
          "base_uri": "https://localhost:8080/"
        },
        "id": "dXQtBEIZDC4s",
        "outputId": "1a49f5e5-8373-481c-807c-0a9b2c5da25b"
      },
      "outputs": [
        {
          "output_type": "stream",
          "name": "stdout",
          "text": [
            "আ\n",
            "ম\n",
            "া\n",
            "র\n",
            " \n",
            "ন\n",
            "া\n",
            "ম\n",
            " \n",
            "ফ\n",
            "য\n",
            "়\n",
            "স\n",
            "া\n",
            "ল\n"
          ]
        }
      ],
      "source": [
        "for i in \"আমার নাম ফয়সাল\":\n",
        "  print(i)"
      ]
    },
    {
      "cell_type": "code",
      "execution_count": null,
      "metadata": {
        "colab": {
          "base_uri": "https://localhost:8080/"
        },
        "id": "8Xnv0rc1DLJ7",
        "outputId": "c3402cba-f9a0-444a-9313-3b847579c8d6"
      },
      "outputs": [
        {
          "output_type": "execute_result",
          "data": {
            "text/plain": [
              "15"
            ]
          },
          "metadata": {},
          "execution_count": 55
        }
      ],
      "source": [
        "len(\"আমার নাম ফয়সাল\")"
      ]
    },
    {
      "cell_type": "code",
      "execution_count": null,
      "metadata": {
        "colab": {
          "base_uri": "https://localhost:8080/"
        },
        "id": "VT4yBZgxK2V5",
        "outputId": "f612e4ed-846c-4e07-9b13-c2b54e1a67c4"
      },
      "outputs": [
        {
          "output_type": "stream",
          "name": "stdout",
          "text": [
            "28629\n"
          ]
        }
      ],
      "source": [
        "if \"ফয়সাল\" in tokenizer.word_index:\n",
        "  print(tokenizer.word_index[\"ফয়সাল\"])"
      ]
    },
    {
      "cell_type": "code",
      "execution_count": null,
      "metadata": {
        "colab": {
          "base_uri": "https://localhost:8080/"
        },
        "id": "GdbPmwrXAywg",
        "outputId": "c2632665-d40e-428f-9218-e069acbcd2e3"
      },
      "outputs": [
        {
          "output_type": "execute_result",
          "data": {
            "text/plain": [
              "['বিচ্ছেদের এক বছর পরও কেটি হোমসকে ভুলতে পারছেন না ‘মিশন ইমপসিবল’ তারকা টম ক্রুজ। আর তাই তো সম্প্রতি তিনি সাবেক স্ত্রীকে আবেগঘন এক চিঠি লিখেছেন পুনর্মিলনের আশাবাদ ব্যক্ত করে।এ প্রসঙ্গে ঘনিষ্ঠ সূত্রের বরাতে কনট্যাক্টমিউজিক জানিয়েছে কেটির বিচ্ছেদের আবেদনের পরিপ্রেক্ষিতে গত বছরের জুলাইয়ে পাঁচ বছরের দাম্পত্যের ইতি টানার চূড়ান্ত সিদ্ধান্ত নিয়েছিলেন কেটি ও ক্রুজ। দেখতে দেখতে বছর ঘুরে আবার জুলাই মাস এসে গেছে। কেটিকে কোনোভাবেই মন থেকে মুছে ফেলতে পারছেন না ক্রুজ। তিনি উপলব্ধি করেছেন আজীবন কেটিকে ভালোবেসে যাওয়া ছাড়া তাঁর সামনে আর কোনো পথ খোলা নেই।হঠাৎ করেই গত বছর ক্রুজের ৫০তম জন্মদিনের কয়েকদিন আগে তাঁকে ছেড়ে চলে যান কেটি। ওই ঘটনায় কেবল ক্রুজই অবাক হননি অবাক হয়েছিল পুরো বিশ্ব। শুরুতে কেটির ওপর ক্ষুব্ধ হলেও দিনের পর দিন ক্রুজ ভেবেছেন কেন তাঁকে ছেড়ে চলে গেলেন কেটি। শেষ পর্যন্ত কেটির সেই কঠিন সিদ্ধান্ত নেওয়ার পেছনের কারণ অনুধাবন করতে পেরেছেন ক্রুজ।কেটির ওপর থেকে রাগ ও অভিমান পুরোপুরি সরাতে দীর্ঘ সময় লেগেছে ক্রুজের। গত মার্চে তাঁদের পুনর্মিলনের চেষ্টা করেছিলেন মধ্যস্থতাকারীরা। কিন্তু কোনো লাভ হয়নি। সেই থেকে কথা বন্ধ রয়েছে সাবেক এ তারকা দম্পতির মধ্যে।কিন্তু ক্রুজ যেকোনো উপায়ে কেটিকে ফিরে পাওয়ার জন্য দৃঢ়প্রতিজ্ঞ। কেটি তাঁর জীবনে ফিরে না এলেও অন্তত বন্ধুত্বপূর্ণ সম্পর্ক বজায় রাখবেন—এমনটাই প্রত্যাশা তাঁর। একমাত্র মেয়ে সাত বছর বয়সী সুরির মুখের দিকে তাকিয়ে সব ভুলে আবার ফিরে আশার কথা জানিয়েই সম্প্রতি কেটিকে চিঠি লিখেছেন ক্রুজ।']"
            ]
          },
          "metadata": {},
          "execution_count": 57
        }
      ],
      "source": [
        "tokenizer.sequences_to_texts([X_token[5]])"
      ]
    },
    {
      "cell_type": "markdown",
      "metadata": {
        "id": "KK7r6CJWBDZI"
      },
      "source": [
        "## pad the sequences\n"
      ]
    },
    {
      "cell_type": "code",
      "execution_count": 32,
      "metadata": {
        "id": "BAlhJWH3CGer"
      },
      "outputs": [],
      "source": [
        "from tensorflow.keras.preprocessing.sequence import pad_sequences\n",
        "\n",
        "maxlen = 300\n",
        "\n",
        "X_pad = pad_sequences(X_token, padding = \"post\", maxlen = maxlen)\n",
        "\n"
      ]
    },
    {
      "cell_type": "code",
      "execution_count": 33,
      "metadata": {
        "colab": {
          "base_uri": "https://localhost:8080/"
        },
        "id": "tcVLX6ldvqUf",
        "outputId": "2d0e2ae5-5edb-4f7b-a726-05dd6ea71070"
      },
      "outputs": [
        {
          "output_type": "execute_result",
          "data": {
            "text/plain": [
              "numpy.ndarray"
            ]
          },
          "metadata": {},
          "execution_count": 33
        }
      ],
      "source": [
        "type(X_pad)"
      ]
    },
    {
      "cell_type": "code",
      "execution_count": 34,
      "metadata": {
        "colab": {
          "base_uri": "https://localhost:8080/"
        },
        "id": "RbSm-KRCM53-",
        "outputId": "3b003dda-f263-476d-9f37-a2e8ef6f6aa5"
      },
      "outputs": [
        {
          "output_type": "execute_result",
          "data": {
            "text/plain": [
              "(175967, 300)"
            ]
          },
          "metadata": {},
          "execution_count": 34
        }
      ],
      "source": [
        "X_pad.shape"
      ]
    },
    {
      "cell_type": "code",
      "execution_count": 35,
      "metadata": {
        "colab": {
          "base_uri": "https://localhost:8080/"
        },
        "id": "KQyMMlM9SWsv",
        "outputId": "d3e3b6c4-d0fb-45f7-e949-8d1b6ccf622d"
      },
      "outputs": [
        {
          "output_type": "execute_result",
          "data": {
            "text/plain": [
              "(175967, 8)"
            ]
          },
          "metadata": {},
          "execution_count": 35
        }
      ],
      "source": [
        "y_ohe.shape"
      ]
    },
    {
      "cell_type": "code",
      "execution_count": 36,
      "metadata": {
        "colab": {
          "base_uri": "https://localhost:8080/"
        },
        "id": "ipRvExXQQCI9",
        "outputId": "519b1fd4-8c52-45a4-99b2-9060b1f39857"
      },
      "outputs": [
        {
          "output_type": "execute_result",
          "data": {
            "text/plain": [
              "1627184"
            ]
          },
          "metadata": {},
          "execution_count": 36
        }
      ],
      "source": [
        "vocab_size"
      ]
    },
    {
      "cell_type": "code",
      "execution_count": 37,
      "metadata": {
        "colab": {
          "base_uri": "https://localhost:8080/"
        },
        "id": "p2rkMPgGSUtM",
        "outputId": "ccecab14-7190-4a76-c4ff-7d7f939d80bf"
      },
      "outputs": [
        {
          "output_type": "execute_result",
          "data": {
            "text/plain": [
              "300"
            ]
          },
          "metadata": {},
          "execution_count": 37
        }
      ],
      "source": [
        "maxlen"
      ]
    },
    {
      "cell_type": "code",
      "execution_count": 38,
      "metadata": {
        "colab": {
          "base_uri": "https://localhost:8080/"
        },
        "id": "SY0XvXqBSeBN",
        "outputId": "554e995e-2aa4-457d-a8c4-71ba614f7abd"
      },
      "outputs": [
        {
          "output_type": "execute_result",
          "data": {
            "text/plain": [
              "array([   599, 171336,  17280,      3,    595,  92603,    179,   8765,\n",
              "         8146, 131791,    940,   8294,   8295,   7830, 102112,   3547,\n",
              "           46,    466,  98611,   8615,    763, 236869, 280924,   3041,\n",
              "          107,     68,   8906,    366,   2876,     26,   2112,    548,\n",
              "         1907,   9000,   3088,   2552, 280925,  69433,    206,   2664,\n",
              "          208,  89902, 355676,    148,   1088,    335,  17450,     16,\n",
              "        16978,  21599,  45122,   5730,    814,    179,   3599,  41734,\n",
              "           28,   7272,  25246,   2112,    216,    184,     99,    216,\n",
              "          287,    264,  10949,   3220,    469, 125257,   1248,     89,\n",
              "          833,   5625,  13931, 355677,   4782,    216,    184,  10949,\n",
              "         3220,    469,   2364,   6350,    466,   2174,    547, 131791,\n",
              "         1677,   4782,    905,  39646, 105773,   9191,   4779,   8440,\n",
              "           99,    216,  10949,   3220,  10130,   1606,  10272,   3190,\n",
              "        11309,  29577,    134,   2755,    439,   2371,    148, 105773,\n",
              "           16,    136,    414,   1407,   6411,   4312,     24,    179,\n",
              "        21129,    343,   4814, 131791,    905,  10457,   1243, 355678,\n",
              "           37,    800,    458,   2093,  19807,  12941,     24,     57,\n",
              "       119587,  53432,    456,     41,   3365, 531348,   2963,   2112,\n",
              "        87357,  64696,  60717,  21682,  35159,  21448, 531349,    216,\n",
              "           76,    216,     99,  10949,   3220,    469,   1727,    270,\n",
              "           88, 531350,   3791,   2608,   8295,    279,    658,   1027,\n",
              "         1447,  64696,      1, 531351,  11084,      0,      0,      0,\n",
              "            0,      0,      0,      0,      0,      0,      0,      0,\n",
              "            0,      0,      0,      0,      0,      0,      0,      0,\n",
              "            0,      0,      0,      0,      0,      0,      0,      0,\n",
              "            0,      0,      0,      0,      0,      0,      0,      0,\n",
              "            0,      0,      0,      0,      0,      0,      0,      0,\n",
              "            0,      0,      0,      0,      0,      0,      0,      0,\n",
              "            0,      0,      0,      0,      0,      0,      0,      0,\n",
              "            0,      0,      0,      0,      0,      0,      0,      0,\n",
              "            0,      0,      0,      0,      0,      0,      0,      0,\n",
              "            0,      0,      0,      0,      0,      0,      0,      0,\n",
              "            0,      0,      0,      0,      0,      0,      0,      0,\n",
              "            0,      0,      0,      0,      0,      0,      0,      0,\n",
              "            0,      0,      0,      0,      0,      0,      0,      0,\n",
              "            0,      0,      0,      0,      0,      0,      0,      0,\n",
              "            0,      0,      0,      0,      0,      0,      0,      0,\n",
              "            0,      0,      0,      0], dtype=int32)"
            ]
          },
          "metadata": {},
          "execution_count": 38
        }
      ],
      "source": [
        "X_pad[0]"
      ]
    },
    {
      "cell_type": "code",
      "execution_count": 39,
      "metadata": {
        "colab": {
          "base_uri": "https://localhost:8080/"
        },
        "id": "8wywXTOpSl7x",
        "outputId": "88e39e9f-277e-4b15-f5e0-0a959fae5edc"
      },
      "outputs": [
        {
          "output_type": "execute_result",
          "data": {
            "text/plain": [
              "(173, 300)"
            ]
          },
          "metadata": {},
          "execution_count": 39
        }
      ],
      "source": [
        "len(X_token[0]) , len(X_pad[0])"
      ]
    },
    {
      "cell_type": "code",
      "execution_count": 40,
      "metadata": {
        "id": "v0TV93VISyoy"
      },
      "outputs": [],
      "source": [
        "unique, counts = np.unique(X_pad[0] , return_counts=True)\n",
        "padded_zeros = dict(zip(unique, counts))[0]"
      ]
    },
    {
      "cell_type": "code",
      "execution_count": 41,
      "metadata": {
        "colab": {
          "base_uri": "https://localhost:8080/"
        },
        "id": "X3lE7g9qTl-8",
        "outputId": "0a6fb975-51c4-4050-b37c-4b2e9188326f"
      },
      "outputs": [
        {
          "output_type": "execute_result",
          "data": {
            "text/plain": [
              "(True, 127)"
            ]
          },
          "metadata": {},
          "execution_count": 41
        }
      ],
      "source": [
        "len(X_pad[0]) - len(X_token[0])  == padded_zeros , padded_zeros"
      ]
    },
    {
      "cell_type": "code",
      "source": [
        "from collections import Counter\n",
        "from tqdm.notebook import tqdm_notebook\n",
        "word_ls = []\n",
        "\n",
        "for sen in tqdm_notebook(X_text):\n",
        "    word_ls.extend(sen.split())"
      ],
      "metadata": {
        "colab": {
          "base_uri": "https://localhost:8080/",
          "height": 49,
          "referenced_widgets": [
            "5a8c8f8b7e454b4bb6addde7c9fcd791",
            "e918c82edb894de4b2784abca1c7b953",
            "babe8d38e41b4c16b4163fee0d3cb1fa",
            "664e8452178d41bd93455d55a350e87f",
            "c195feb214b3492283a44ac5a5498819",
            "9dd60fa0d90f42bcb7b38baf40d74123",
            "078cce6fda174beb8e1599049af5cf1b",
            "029a4abd8c494b49a7a9eb5b5ee7092e",
            "edbf09a98f014c849777261888ff20ca",
            "efa5b4b5ac794a24a9eea82652bcd99b",
            "32b67a2a4e284958bd1a8c123cd02996"
          ]
        },
        "id": "yJL6NTbc_BdC",
        "outputId": "0b385afc-a076-4776-bbdc-597124db96c2"
      },
      "execution_count": null,
      "outputs": [
        {
          "output_type": "display_data",
          "data": {
            "text/plain": [
              "  0%|          | 0/175967 [00:00<?, ?it/s]"
            ],
            "application/vnd.jupyter.widget-view+json": {
              "version_major": 2,
              "version_minor": 0,
              "model_id": "5a8c8f8b7e454b4bb6addde7c9fcd791"
            }
          },
          "metadata": {}
        }
      ]
    },
    {
      "cell_type": "code",
      "source": [
        "len(word_ls)"
      ],
      "metadata": {
        "colab": {
          "base_uri": "https://localhost:8080/"
        },
        "id": "s1H2d73a_O0K",
        "outputId": "853faecc-0b6a-4c44-8cb1-32505ee4dec9"
      },
      "execution_count": null,
      "outputs": [
        {
          "output_type": "execute_result",
          "data": {
            "text/plain": [
              "52940515"
            ]
          },
          "metadata": {},
          "execution_count": 69
        }
      ]
    },
    {
      "cell_type": "code",
      "source": [
        "Counter = Counter(word_ls)\n",
        "most_occured_20 = Counter.most_common(20)\n",
        "most_occured_20"
      ],
      "metadata": {
        "colab": {
          "base_uri": "https://localhost:8080/"
        },
        "id": "aAG_8Svi_ZjM",
        "outputId": "d6bb9910-7e6e-444b-f3fd-08e06e2b46eb"
      },
      "execution_count": null,
      "outputs": [
        {
          "output_type": "execute_result",
          "data": {
            "text/plain": [
              "[('ও', 540451),\n",
              " ('এই', 342930),\n",
              " ('করে', 309547),\n",
              " ('থেকে', 297081),\n",
              " ('এ', 275336),\n",
              " ('জন্য', 208915),\n",
              " ('করা', 207361),\n",
              " ('সঙ্গে', 199351),\n",
              " ('আর', 186588),\n",
              " ('করতে', 180323),\n",
              " ('না', 174150),\n",
              " ('নিয়ে', 168112),\n",
              " ('তাঁর', 166179),\n",
              " ('এক', 162792),\n",
              " ('কিন্তু', 154714),\n",
              " ('যে', 152095),\n",
              " ('একটি', 151595),\n",
              " ('এবং', 150629),\n",
              " ('না।', 141479),\n",
              " ('তিনি', 139817)]"
            ]
          },
          "metadata": {},
          "execution_count": 70
        }
      ]
    },
    {
      "cell_type": "markdown",
      "metadata": {
        "id": "v82mn4YX1_f3"
      },
      "source": [
        "## Divide dataset into train and test set "
      ]
    },
    {
      "cell_type": "code",
      "execution_count": 42,
      "metadata": {
        "colab": {
          "base_uri": "https://localhost:8080/"
        },
        "id": "WNCTDv_hW-o8",
        "outputId": "ab1d5ca3-668d-4261-9027-bd186cc141d4"
      },
      "outputs": [
        {
          "output_type": "execute_result",
          "data": {
            "text/plain": [
              "2"
            ]
          },
          "metadata": {},
          "execution_count": 42
        }
      ],
      "source": [
        "from sklearn.model_selection import StratifiedShuffleSplit\n",
        "\n",
        "sss = StratifiedShuffleSplit(n_splits = 2, test_size=0.3, random_state=25)\n",
        "sss.get_n_splits(X_pad, y_ohe)\n"
      ]
    },
    {
      "cell_type": "code",
      "execution_count": 43,
      "metadata": {
        "id": "t1Fn6u3MiD2e"
      },
      "outputs": [],
      "source": [
        "for train_index, test_index in sss.split(X_pad, y_ohe):\n",
        "    X_train, X_test = X_pad[train_index], X_pad[test_index]\n",
        "    y_train, y_test = y_ohe[train_index], y_ohe[test_index]"
      ]
    },
    {
      "cell_type": "markdown",
      "metadata": {
        "id": "Ta5_ddMV22fy"
      },
      "source": [
        "# Define and Train the model"
      ]
    },
    {
      "cell_type": "code",
      "execution_count": 44,
      "metadata": {
        "id": "pLesbWKe9XOi"
      },
      "outputs": [],
      "source": [
        "# import layers \n",
        "from tensorflow.keras import Sequential\n",
        "from tensorflow.keras.layers import Embedding, Bidirectional, Dense , LSTM , GRU\n",
        "\n",
        "# embedding dimension\n",
        "embedding_dim = 8\n",
        "\n",
        "# epochs\n",
        "\n",
        "epochs = 100\n",
        "\n",
        "# batch size \n",
        "\n",
        "batch_size = 32"
      ]
    },
    {
      "cell_type": "markdown",
      "metadata": {
        "id": "rlT7oUisRnll"
      },
      "source": [
        "## LSTM model\n"
      ]
    },
    {
      "cell_type": "code",
      "source": [
        "# lr_schedule = tf.keras.optimizers.schedules.ExponentialDecay(\n",
        "#     initial_learning_rate=1e-2,\n",
        "#     decay_steps=epochs,\n",
        "#     decay_rate=0.9)\n"
      ],
      "metadata": {
        "id": "mgd2PTnaQRLi"
      },
      "execution_count": null,
      "outputs": []
    },
    {
      "cell_type": "code",
      "execution_count": 49,
      "metadata": {
        "colab": {
          "base_uri": "https://localhost:8080/"
        },
        "id": "pMJwSqn83H5f",
        "outputId": "cfd13c14-9502-43cd-83d5-cea9ff2c11a9"
      },
      "outputs": [
        {
          "output_type": "stream",
          "name": "stdout",
          "text": [
            "Model: \"lstm\"\n",
            "_________________________________________________________________\n",
            " Layer (type)                Output Shape              Param #   \n",
            "=================================================================\n",
            " embedding (Embedding)       (None, 300, 8)            13017472  \n",
            "                                                                 \n",
            " lstm (LSTM)                 (None, 300, 128)          70144     \n",
            "                                                                 \n",
            " lstm_1 (LSTM)               (None, 128)               131584    \n",
            "                                                                 \n",
            " dense (Dense)               (None, 8)                 1032      \n",
            "                                                                 \n",
            "=================================================================\n",
            "Total params: 13,220,232\n",
            "Trainable params: 13,220,232\n",
            "Non-trainable params: 0\n",
            "_________________________________________________________________\n"
          ]
        }
      ],
      "source": [
        "model_lstm = Sequential(name = \"lstm\")\n",
        "model_lstm.add(Embedding(\n",
        "    input_dim = vocab_size,\n",
        "    output_dim = embedding_dim, \n",
        "    input_length= maxlen\n",
        "))\n",
        "\n",
        "model_lstm.add(LSTM(128, return_sequences = True))\n",
        "model_lstm.add(LSTM(128))\n",
        "model_lstm.add(Dense(8,activation = 'softmax'))\n",
        "model_lstm.compile(optimizer = 'adam', #tf.keras.optimizers.Adam(learning_rate=lr_schedule),\n",
        "              loss = \"categorical_crossentropy\",\n",
        "              metrics = ['accuracy'])\n",
        "model_lstm.summary()\n"
      ]
    },
    {
      "cell_type": "code",
      "execution_count": 50,
      "metadata": {
        "colab": {
          "base_uri": "https://localhost:8080/"
        },
        "id": "s5hLwnbiMlQ8",
        "outputId": "635c1a92-3659-4511-abca-b14f705f46c5"
      },
      "outputs": [
        {
          "output_type": "execute_result",
          "data": {
            "text/plain": [
              "True"
            ]
          },
          "metadata": {},
          "execution_count": 50
        }
      ],
      "source": [
        " 8* vocab_size ==    13017472 "
      ]
    },
    {
      "cell_type": "code",
      "source": [
        "y_train.shape , X_train.shape\n"
      ],
      "metadata": {
        "colab": {
          "base_uri": "https://localhost:8080/"
        },
        "id": "ZdgUgulUWEw2",
        "outputId": "d5dcd576-a445-48a5-fb63-692d4ccfb06a"
      },
      "execution_count": 51,
      "outputs": [
        {
          "output_type": "execute_result",
          "data": {
            "text/plain": [
              "((123176, 8), (123176, 300))"
            ]
          },
          "metadata": {},
          "execution_count": 51
        }
      ]
    },
    {
      "cell_type": "code",
      "execution_count": 52,
      "metadata": {
        "id": "W78Eh7ObaTWB"
      },
      "outputs": [],
      "source": [
        "import datetime\n",
        "SAVE_DIR = \"drive/MyDrive/DL_models/bangla-news-rnn/model_logs\"\n",
        "def create_tensorboard_callback(dir_name, experiment_name):\n",
        "  \n",
        "  log_dir = dir_name + \"/\" + experiment_name + \"/tensorboard/\" + datetime.datetime.now().strftime(\"%Y%m%d-%H%M%S\")\n",
        "  tensorboard_callback = tf.keras.callbacks.TensorBoard(\n",
        "      log_dir=log_dir\n",
        "  )\n",
        "  print(f\"Saving TensorBoard log files to: {log_dir}\")\n",
        "  return tensorboard_callback\n",
        "\n",
        "\n",
        "\n"
      ]
    },
    {
      "cell_type": "code",
      "source": [
        "import tensorflow as tf\n",
        "lstm_backup_callback = tf.keras.callbacks.BackupAndRestore(\n",
        "backup_dir=\"drive/MyDrive/DL_models/bangla-news-rnn/model_logs/LSTM_MODEL/backup\")"
      ],
      "metadata": {
        "id": "wS9Kz_uxzuQ4"
      },
      "execution_count": 53,
      "outputs": []
    },
    {
      "cell_type": "code",
      "execution_count": null,
      "metadata": {
        "colab": {
          "base_uri": "https://localhost:8080/"
        },
        "id": "jNLNZbnhSPfi",
        "outputId": "68a098e4-c8ec-4e17-e6c4-7150dc7e309b"
      },
      "outputs": [
        {
          "output_type": "stream",
          "name": "stdout",
          "text": [
            "Saving TensorBoard log files to: drive/MyDrive/DL_models/bangla-news-rnn/model_logs/LSTM_MODEL/tensorboard/20220410-083223\n",
            "Epoch 32/100\n",
            "3080/3080 [==============================] - 387s 123ms/step - loss: 0.0018 - accuracy: 0.9994 - val_loss: 0.6569 - val_accuracy: 0.8957\n",
            "Epoch 33/100\n",
            "3080/3080 [==============================] - 388s 126ms/step - loss: 0.0015 - accuracy: 0.9995 - val_loss: 0.6592 - val_accuracy: 0.8947\n",
            "Epoch 34/100\n",
            "3080/3080 [==============================] - 388s 126ms/step - loss: 0.0019 - accuracy: 0.9994 - val_loss: 0.6936 - val_accuracy: 0.8895\n",
            "Epoch 35/100\n",
            "3080/3080 [==============================] - 387s 126ms/step - loss: 0.0012 - accuracy: 0.9996 - val_loss: 0.6635 - val_accuracy: 0.8982\n",
            "Epoch 36/100\n",
            "3080/3080 [==============================] - 386s 125ms/step - loss: 0.0015 - accuracy: 0.9995 - val_loss: 0.6496 - val_accuracy: 0.8986\n",
            "Epoch 37/100\n",
            "3080/3080 [==============================] - 386s 125ms/step - loss: 0.0018 - accuracy: 0.9994 - val_loss: 0.6791 - val_accuracy: 0.8926\n",
            "Epoch 38/100\n",
            "3080/3080 [==============================] - 385s 125ms/step - loss: 9.9584e-04 - accuracy: 0.9997 - val_loss: 0.6790 - val_accuracy: 0.8992\n",
            "Epoch 39/100\n",
            "3080/3080 [==============================] - 384s 125ms/step - loss: 0.0015 - accuracy: 0.9995 - val_loss: 0.8044 - val_accuracy: 0.8844\n",
            "Epoch 40/100\n",
            "3080/3080 [==============================] - 386s 125ms/step - loss: 0.0014 - accuracy: 0.9996 - val_loss: 0.7458 - val_accuracy: 0.8913\n",
            "Epoch 41/100\n",
            "3080/3080 [==============================] - 385s 125ms/step - loss: 6.2180e-04 - accuracy: 0.9998 - val_loss: 0.7642 - val_accuracy: 0.8945\n",
            "Epoch 42/100\n",
            "3080/3080 [==============================] - 385s 125ms/step - loss: 0.0016 - accuracy: 0.9996 - val_loss: 0.7079 - val_accuracy: 0.8945\n",
            "Epoch 43/100\n",
            "3080/3080 [==============================] - 386s 125ms/step - loss: 0.0035 - accuracy: 0.9989 - val_loss: 0.7609 - val_accuracy: 0.8906\n",
            "Epoch 44/100\n",
            "3080/3080 [==============================] - 373s 121ms/step - loss: 0.0017 - accuracy: 0.9995 - val_loss: 0.6948 - val_accuracy: 0.8919\n",
            "Epoch 45/100\n",
            "3080/3080 [==============================] - 383s 124ms/step - loss: 8.5806e-04 - accuracy: 0.9997 - val_loss: 0.6878 - val_accuracy: 0.8988\n",
            "Epoch 46/100\n",
            "3080/3080 [==============================] - 385s 125ms/step - loss: 5.8407e-04 - accuracy: 0.9998 - val_loss: 0.7565 - val_accuracy: 0.8961\n",
            "Epoch 47/100\n",
            "3080/3080 [==============================] - 385s 125ms/step - loss: 0.0015 - accuracy: 0.9995 - val_loss: 0.6780 - val_accuracy: 0.8959\n",
            "Epoch 48/100\n",
            "3080/3080 [==============================] - 387s 126ms/step - loss: 6.6921e-04 - accuracy: 0.9998 - val_loss: 0.7588 - val_accuracy: 0.8954\n",
            "Epoch 49/100\n",
            "3080/3080 [==============================] - 388s 126ms/step - loss: 5.5060e-04 - accuracy: 0.9998 - val_loss: 0.7593 - val_accuracy: 0.9003\n",
            "Epoch 50/100\n",
            "3080/3080 [==============================] - 386s 125ms/step - loss: 0.0011 - accuracy: 0.9996 - val_loss: 0.7146 - val_accuracy: 0.8964\n",
            "Epoch 51/100\n",
            "3080/3080 [==============================] - 387s 126ms/step - loss: 0.0012 - accuracy: 0.9996 - val_loss: 0.7133 - val_accuracy: 0.8977\n",
            "Epoch 52/100\n",
            "3080/3080 [==============================] - 387s 126ms/step - loss: 6.8027e-04 - accuracy: 0.9998 - val_loss: 0.7402 - val_accuracy: 0.9010\n",
            "Epoch 53/100\n",
            "3080/3080 [==============================] - 387s 126ms/step - loss: 5.3659e-04 - accuracy: 0.9998 - val_loss: 0.7402 - val_accuracy: 0.9012\n",
            "Epoch 54/100\n",
            "3080/3080 [==============================] - 386s 125ms/step - loss: 7.5494e-04 - accuracy: 0.9997 - val_loss: 0.7441 - val_accuracy: 0.9015\n",
            "Epoch 55/100\n",
            "3080/3080 [==============================] - 374s 122ms/step - loss: 0.0012 - accuracy: 0.9996 - val_loss: 0.7679 - val_accuracy: 0.8921\n",
            "Epoch 56/100\n",
            "3080/3080 [==============================] - 387s 126ms/step - loss: 0.0010 - accuracy: 0.9996 - val_loss: 0.7708 - val_accuracy: 0.8947\n",
            "Epoch 57/100\n",
            "3080/3080 [==============================] - 385s 125ms/step - loss: 0.0014 - accuracy: 0.9995 - val_loss: 0.9274 - val_accuracy: 0.8846\n",
            "Epoch 58/100\n",
            "3080/3080 [==============================] - 386s 125ms/step - loss: 7.7623e-04 - accuracy: 0.9998 - val_loss: 0.7276 - val_accuracy: 0.9014\n",
            "Epoch 59/100\n",
            "3080/3080 [==============================] - 385s 125ms/step - loss: 7.6924e-04 - accuracy: 0.9997 - val_loss: 0.6838 - val_accuracy: 0.8973\n",
            "Epoch 60/100\n",
            "3080/3080 [==============================] - 373s 121ms/step - loss: 0.0010 - accuracy: 0.9996 - val_loss: 0.7457 - val_accuracy: 0.8969\n",
            "Epoch 61/100\n",
            "3080/3080 [==============================] - 385s 125ms/step - loss: 5.0036e-04 - accuracy: 0.9998 - val_loss: 0.7737 - val_accuracy: 0.9016\n",
            "Epoch 62/100\n",
            "3080/3080 [==============================] - 383s 124ms/step - loss: 5.0192e-04 - accuracy: 0.9998 - val_loss: 0.7782 - val_accuracy: 0.8973\n",
            "Epoch 63/100\n",
            "3080/3080 [==============================] - 385s 125ms/step - loss: 0.0011 - accuracy: 0.9997 - val_loss: 0.8872 - val_accuracy: 0.8951\n",
            "Epoch 64/100\n",
            "3080/3080 [==============================] - 384s 125ms/step - loss: 0.0018 - accuracy: 0.9995 - val_loss: 0.8199 - val_accuracy: 0.8915\n",
            "Epoch 65/100\n",
            "3080/3080 [==============================] - 385s 125ms/step - loss: 0.0011 - accuracy: 0.9997 - val_loss: 0.9541 - val_accuracy: 0.8822\n",
            "Epoch 66/100\n",
            "3080/3080 [==============================] - 385s 125ms/step - loss: 0.0011 - accuracy: 0.9996 - val_loss: 0.7394 - val_accuracy: 0.9003\n",
            "Epoch 67/100\n",
            "3080/3080 [==============================] - 385s 125ms/step - loss: 9.3147e-04 - accuracy: 0.9997 - val_loss: 0.8242 - val_accuracy: 0.8980\n",
            "Epoch 68/100\n",
            "3080/3080 [==============================] - 375s 122ms/step - loss: 7.5718e-04 - accuracy: 0.9998 - val_loss: 0.7708 - val_accuracy: 0.8988\n",
            "Epoch 69/100\n",
            "3080/3080 [==============================] - 385s 125ms/step - loss: 0.0011 - accuracy: 0.9996 - val_loss: 0.9421 - val_accuracy: 0.8901\n",
            "Epoch 70/100\n",
            "3080/3080 [==============================] - 386s 125ms/step - loss: 0.0012 - accuracy: 0.9996 - val_loss: 0.7729 - val_accuracy: 0.8947\n",
            "Epoch 71/100\n",
            "3080/3080 [==============================] - 388s 126ms/step - loss: 5.6640e-04 - accuracy: 0.9998 - val_loss: 0.8049 - val_accuracy: 0.8984\n",
            "Epoch 72/100\n",
            "3080/3080 [==============================] - 389s 126ms/step - loss: 0.0013 - accuracy: 0.9996 - val_loss: 0.7195 - val_accuracy: 0.9004\n",
            "Epoch 73/100\n",
            "3080/3080 [==============================] - 389s 126ms/step - loss: 6.0751e-04 - accuracy: 0.9998 - val_loss: 0.8245 - val_accuracy: 0.8970\n",
            "Epoch 74/100\n",
            "3080/3080 [==============================] - 378s 123ms/step - loss: 9.0259e-04 - accuracy: 0.9997 - val_loss: 0.7463 - val_accuracy: 0.8991\n",
            "Epoch 75/100\n",
            "3080/3080 [==============================] - 388s 126ms/step - loss: 9.7803e-04 - accuracy: 0.9997 - val_loss: 0.7359 - val_accuracy: 0.9023\n",
            "Epoch 76/100\n",
            "3080/3080 [==============================] - 388s 126ms/step - loss: 5.6907e-04 - accuracy: 0.9998 - val_loss: 0.7581 - val_accuracy: 0.9027\n",
            "Epoch 77/100\n",
            "3080/3080 [==============================] - 376s 122ms/step - loss: 5.0129e-04 - accuracy: 0.9998 - val_loss: 0.7680 - val_accuracy: 0.9051\n",
            "Epoch 78/100\n",
            "3080/3080 [==============================] - 377s 122ms/step - loss: 5.0360e-04 - accuracy: 0.9998 - val_loss: 0.7955 - val_accuracy: 0.9053\n",
            "Epoch 79/100\n",
            "3080/3080 [==============================] - 389s 126ms/step - loss: 0.0014 - accuracy: 0.9996 - val_loss: 0.7864 - val_accuracy: 0.8987\n",
            "Epoch 80/100\n",
            "3080/3080 [==============================] - 387s 126ms/step - loss: 6.8457e-04 - accuracy: 0.9998 - val_loss: 0.7505 - val_accuracy: 0.9063\n",
            "Epoch 81/100\n",
            "3080/3080 [==============================] - 388s 126ms/step - loss: 4.8025e-04 - accuracy: 0.9998 - val_loss: 0.7608 - val_accuracy: 0.9066\n",
            "Epoch 82/100\n",
            "3080/3080 [==============================] - 389s 126ms/step - loss: 4.7729e-04 - accuracy: 0.9998 - val_loss: 0.7620 - val_accuracy: 0.9064\n",
            "Epoch 83/100\n",
            "3080/3080 [==============================] - 389s 126ms/step - loss: 0.0020 - accuracy: 0.9995 - val_loss: 0.7373 - val_accuracy: 0.9025\n",
            "Epoch 84/100\n",
            "3080/3080 [==============================] - 388s 126ms/step - loss: 0.0010 - accuracy: 0.9996 - val_loss: 0.8824 - val_accuracy: 0.8989\n",
            "Epoch 85/100\n",
            "3080/3080 [==============================] - 387s 126ms/step - loss: 8.1102e-04 - accuracy: 0.9997 - val_loss: 0.7101 - val_accuracy: 0.9064\n",
            "Epoch 86/100\n",
            "3080/3080 [==============================] - 389s 126ms/step - loss: 7.8653e-04 - accuracy: 0.9997 - val_loss: 0.8097 - val_accuracy: 0.9018\n",
            "Epoch 87/100\n",
            "3080/3080 [==============================] - 388s 126ms/step - loss: 5.7530e-04 - accuracy: 0.9998 - val_loss: 0.7852 - val_accuracy: 0.9045\n",
            "Epoch 88/100\n",
            "3080/3080 [==============================] - 388s 126ms/step - loss: 4.9332e-04 - accuracy: 0.9998 - val_loss: 0.7971 - val_accuracy: 0.9045\n",
            "Epoch 89/100\n",
            " 864/3080 [=======>......................] - ETA: 4:10 - loss: 9.4826e-04 - accuracy: 0.9996"
          ]
        }
      ],
      "source": [
        "lstm_history = model_lstm.fit(X_train, y_train,\n",
        "                    epochs=epochs,\n",
        "                    verbose=1,\n",
        "                    validation_split=0.2,\n",
        "                    batch_size=batch_size ,\n",
        "                    callbacks = [create_tensorboard_callback(SAVE_DIR,\"LSTM_MODEL\"),\n",
        "                                 lstm_backup_callback])"
      ]
    },
    {
      "cell_type": "code",
      "execution_count": 8,
      "metadata": {
        "id": "Zc9nMNrAYCNd",
        "colab": {
          "base_uri": "https://localhost:8080/"
        },
        "outputId": "23843b2c-b648-499a-c6c2-5c4e5ea2b61b"
      },
      "outputs": [
        {
          "output_type": "stream",
          "name": "stdout",
          "text": [
            "2022-04-10 17:49:03.998556: E tensorflow/stream_executor/cuda/cuda_driver.cc:271] failed call to cuInit: CUDA_ERROR_NO_DEVICE: no CUDA-capable device is detected\n",
            "\n",
            "NOTE: Using experimental fast data loading logic. To disable, pass\n",
            "    \"--load_fast=false\" and report issues on GitHub. More details:\n",
            "    https://github.com/tensorflow/tensorboard/issues/4784\n",
            "\n",
            "Serving TensorBoard on localhost; to expose to the network, use a proxy or pass --bind_all\n",
            "TensorBoard 2.8.0 at http://localhost:6006/ (Press CTRL+C to quit)\n"
          ]
        }
      ],
      "source": [
        "\n",
        "!tensorboard --logdir ./drive/MyDrive/DL_models/bangla-news-rnn/model_logs/LSTM_MODEL\n",
        "\n"
      ]
    },
    {
      "cell_type": "code",
      "execution_count": null,
      "metadata": {
        "id": "-6qn-f-W5jAn"
      },
      "outputs": [],
      "source": [
        "lstm_history.params"
      ]
    },
    {
      "cell_type": "code",
      "execution_count": null,
      "metadata": {
        "id": "gWJAh8uZ5tO2"
      },
      "outputs": [],
      "source": [
        "lstm_history.history.keys()"
      ]
    },
    {
      "cell_type": "markdown",
      "metadata": {
        "id": "bW-kZOWklvlS"
      },
      "source": [
        "### Plotting losses and accuracies"
      ]
    },
    {
      "cell_type": "code",
      "execution_count": null,
      "metadata": {
        "id": "5gTUYkd9SyFQ"
      },
      "outputs": [],
      "source": [
        "import matplotlib.pyplot as plt\n",
        "\n",
        "plt.plot(lstm_history.history['accuracy'])\n",
        "plt.plot(lstm_history.history['val_accuracy'])\n",
        "plt.legend(['train', 'valid'])\n",
        "plt.show()\n"
      ]
    },
    {
      "cell_type": "code",
      "execution_count": null,
      "metadata": {
        "id": "jIKmw3NpS1oO"
      },
      "outputs": [],
      "source": [
        "plt.plot(lstm_history.history['loss'])\n",
        "plt.plot(lstm_history.history['val_loss'])\n",
        "plt.legend(['train', 'valid'])\n",
        "plt.show()"
      ]
    },
    {
      "cell_type": "markdown",
      "metadata": {
        "id": "hOtHqLcOQnE6"
      },
      "source": [
        "### saving the model"
      ]
    },
    {
      "cell_type": "code",
      "execution_count": null,
      "metadata": {
        "id": "IA_7NbtW8mtq"
      },
      "outputs": [],
      "source": [
        "# define gloabl saving dir\n",
        "saving_dir = \"drive/MyDrive/DL_models/bangla-news-rnn/\""
      ]
    },
    {
      "cell_type": "code",
      "execution_count": null,
      "metadata": {
        "id": "xMHfbIDBS9_m"
      },
      "outputs": [],
      "source": [
        "model_lstm_save_name = \"lstm-model.h5\"\n",
        "\n",
        "saving_path_lstm =saving_dir+model_lstm_save_name\n",
        "saving_path_lstm"
      ]
    },
    {
      "cell_type": "code",
      "execution_count": null,
      "metadata": {
        "id": "yM-MphcRTfQO"
      },
      "outputs": [],
      "source": [
        "model_lstm.save(saving_path_lstm)"
      ]
    },
    {
      "cell_type": "markdown",
      "metadata": {
        "id": "bh0hHZ1LkNrG"
      },
      "source": [
        "## GRU model\n"
      ]
    },
    {
      "cell_type": "code",
      "execution_count": null,
      "metadata": {
        "id": "9iVAcnNnQc5p"
      },
      "outputs": [],
      "source": [
        "from tensorflow.keras.layers import GRU\n",
        "\n",
        "model_gru = Sequential(name = \"gru\")\n",
        "model_gru.add(Embedding(\n",
        "    input_dim = vocab_size,\n",
        "    output_dim = embedding_dim, \n",
        "    input_length= maxlen\n",
        "))\n",
        "\n",
        "model_gru.add(GRU(128, return_sequences = True))\n",
        "model_gru.add(GRU(128))\n",
        "model_gru.add(Dense(10,activation = 'softmax'))\n",
        "model_gru.compile(optimizer = \"adam\",\n",
        "              loss = \"categorical_crossentropy\",\n",
        "              metrics = ['accuracy'])\n",
        "model_gru.summary()"
      ]
    },
    {
      "cell_type": "code",
      "execution_count": null,
      "metadata": {
        "id": "-QFF8IsWkrpP"
      },
      "outputs": [],
      "source": [
        "gru_history = model_gru.fit(X_train, y_train,\n",
        "                    epochs=epochs,\n",
        "                    verbose=1,\n",
        "                    validation_split=0.2,\n",
        "                    batch_size=batch_size\n",
        "                   )"
      ]
    },
    {
      "cell_type": "markdown",
      "metadata": {
        "id": "j4PkFzwyuv7Q"
      },
      "source": [
        "### plotting results"
      ]
    },
    {
      "cell_type": "code",
      "execution_count": null,
      "metadata": {
        "id": "V0-8NPGKpG-C"
      },
      "outputs": [],
      "source": [
        "import matplotlib.pyplot as plt\n",
        "\n",
        "plt.plot(gru_history.history['accuracy'])\n",
        "plt.plot(gru_history.history['val_accuracy'])\n",
        "plt.legend(['train', 'valid'])\n",
        "plt.show()"
      ]
    },
    {
      "cell_type": "code",
      "execution_count": null,
      "metadata": {
        "id": "t-c2PNrgpR04"
      },
      "outputs": [],
      "source": [
        "import matplotlib.pyplot as plt\n",
        "\n",
        "plt.plot(gru_history.history['loss'])\n",
        "plt.plot(gru_history.history['val_loss'])\n",
        "plt.legend(['train', 'valid'])\n",
        "plt.show()"
      ]
    },
    {
      "cell_type": "code",
      "execution_count": null,
      "metadata": {
        "id": "i0VSXzzJ_UXy"
      },
      "outputs": [],
      "source": [
        "model_gru_save_name = \"gru-model.h5\"\n",
        "\n",
        "saving_path_gru =saving_dir+model_gru_save_name\n",
        "saving_path_gru"
      ]
    },
    {
      "cell_type": "code",
      "execution_count": null,
      "metadata": {
        "id": "mPWr8E-Y_c_q"
      },
      "outputs": [],
      "source": [
        "model_gru.save(saving_path_gru)"
      ]
    },
    {
      "cell_type": "markdown",
      "metadata": {
        "id": "XalacUCMu69d"
      },
      "source": [
        "## Bidirectional LSTM"
      ]
    },
    {
      "cell_type": "code",
      "execution_count": null,
      "metadata": {
        "id": "nz1KTGoLUPDn",
        "colab": {
          "base_uri": "https://localhost:8080/"
        },
        "outputId": "513d0396-aa9a-482b-95f7-abac02781e15"
      },
      "outputs": [
        {
          "output_type": "stream",
          "name": "stdout",
          "text": [
            "Model: \"bidirectional_lstm\"\n",
            "_________________________________________________________________\n",
            " Layer (type)                Output Shape              Param #   \n",
            "=================================================================\n",
            " embedding_2 (Embedding)     (None, 300, 8)            13017472  \n",
            "                                                                 \n",
            " bidirectional_2 (Bidirectio  (None, 300, 256)         140288    \n",
            " nal)                                                            \n",
            "                                                                 \n",
            " bidirectional_3 (Bidirectio  (None, 256)              394240    \n",
            " nal)                                                            \n",
            "                                                                 \n",
            " dense_2 (Dense)             (None, 8)                 2056      \n",
            "                                                                 \n",
            "=================================================================\n",
            "Total params: 13,554,056\n",
            "Trainable params: 13,554,056\n",
            "Non-trainable params: 0\n",
            "_________________________________________________________________\n"
          ]
        }
      ],
      "source": [
        "model_bi_directional_lstm = Sequential(name = \"bidirectional_lstm\")\n",
        "model_bi_directional_lstm.add(Embedding(\n",
        "    input_dim = vocab_size,\n",
        "    output_dim = embedding_dim, \n",
        "    input_length= maxlen\n",
        "))\n",
        "\n",
        "model_bi_directional_lstm.add(Bidirectional(LSTM(128, return_sequences = True)))\n",
        "model_bi_directional_lstm.add(Bidirectional(LSTM(128)))\n",
        "model_bi_directional_lstm.add(Dense(8,activation = 'softmax'))\n",
        "model_bi_directional_lstm.compile(optimizer = \"adam\",\n",
        "              loss = \"categorical_crossentropy\",\n",
        "              metrics = ['accuracy'])\n",
        "model_bi_directional_lstm.summary()\n"
      ]
    },
    {
      "cell_type": "code",
      "execution_count": null,
      "metadata": {
        "id": "rWZJ5Wrl9dsB"
      },
      "outputs": [],
      "source": [
        "bi_lstm_history = model_bi_directional_lstm.fit(X_train, y_train,\n",
        "                    epochs=epochs,\n",
        "                    verbose=1,\n",
        "                    validation_split=0.2,\n",
        "                    batch_size=batch_size\n",
        "                   )"
      ]
    },
    {
      "cell_type": "markdown",
      "metadata": {
        "id": "wX7gqc3n_xSu"
      },
      "source": [
        "### Plotting results"
      ]
    },
    {
      "cell_type": "code",
      "execution_count": null,
      "metadata": {
        "id": "1PJDhPGe6Xwm"
      },
      "outputs": [],
      "source": [
        "\n",
        "\n",
        "plt.plot(bi_lstm_history.history['accuracy'])\n",
        "plt.plot(bi_lstm_history.history['val_accuracy'])\n",
        "plt.legend(['train', 'valid'])\n",
        "plt.show()\n"
      ]
    },
    {
      "cell_type": "code",
      "execution_count": null,
      "metadata": {
        "id": "-QNB-y0G6p8L"
      },
      "outputs": [],
      "source": [
        "plt.plot(bi_lstm_history.history['loss'])\n",
        "plt.plot(bi_lstm_history.history['val_loss'])\n",
        "plt.legend(['train', 'valid'])\n",
        "plt.show()"
      ]
    },
    {
      "cell_type": "code",
      "execution_count": null,
      "metadata": {
        "id": "oU5cUK6d_252"
      },
      "outputs": [],
      "source": [
        "model_bi_lstm_save_name = \"bi-directional-lstm-model.h5\"\n",
        "\n",
        "saving_path_bi_lstm =saving_dir+model_bi_lstm_save_name\n",
        "saving_path_bi_lstm"
      ]
    },
    {
      "cell_type": "code",
      "execution_count": null,
      "metadata": {
        "id": "76WHUszGAGLa"
      },
      "outputs": [],
      "source": [
        "model_bi_directional_lstm.save(saving_path_bi_lstm)"
      ]
    },
    {
      "cell_type": "markdown",
      "metadata": {
        "id": "KYz3ZEKOymr0"
      },
      "source": [
        "## Plotting all data "
      ]
    },
    {
      "cell_type": "code",
      "execution_count": null,
      "metadata": {
        "id": "LCS_gIrqran1"
      },
      "outputs": [],
      "source": [
        "fig,(lstm,gru, bi_lstm)  = plt.subplots(nrows = 3,\n",
        "                                        ncols = 1,\n",
        "                                        figsize = (15,15))\n",
        "\n",
        "\n",
        "# lstm\n",
        "lstm.plot(lstm_history.history['accuracy'])\n",
        "lstm.plot(lstm_history.history['val_accuracy'])\n",
        "lstm.legend(['train', 'valid'])\n",
        "lstm.set_title(\"LSTM accuracies\")\n",
        "\n",
        "# gru\n",
        "\n",
        "gru.plot(gru_history.history['accuracy'])\n",
        "gru.plot(gru_history.history['val_accuracy'])\n",
        "gru.legend(['train', 'valid'])\n",
        "gru.set_title(\"GRU accuracies\")\n",
        "\n",
        "# bi -lstm\n",
        "\n",
        "bi_lstm.plot(bi_lstm_history.history['accuracy'])\n",
        "bi_lstm.plot(bi_lstm_history.history['val_accuracy'])\n",
        "bi_lstm.legend(['train', 'valid'])\n",
        "bi_lstm.set_title(\"Bi-directional accuracies\")\n",
        "\n",
        "fig.suptitle(\"Training and validation accuracies with epochs\")\n",
        "\n",
        "fig.show()\n"
      ]
    },
    {
      "cell_type": "code",
      "execution_count": null,
      "metadata": {
        "id": "lRG758mSukRd"
      },
      "outputs": [],
      "source": [
        "# loss\n",
        "fig,(lstm,gru, bi_lstm)  = plt.subplots(nrows = 3,\n",
        "                                        ncols = 1,\n",
        "                                        figsize = (15,15))\n",
        "\n",
        "\n",
        "# lstm\n",
        "lstm.plot(lstm_history.history['loss'])\n",
        "lstm.plot(lstm_history.history['val_loss'])\n",
        "lstm.legend(['train', 'valid'])\n",
        "lstm.set_title(\"LSTM losses\")\n",
        "\n",
        "# gru\n",
        "\n",
        "gru.plot(gru_history.history['loss'])\n",
        "gru.plot(gru_history.history['val_loss'])\n",
        "gru.legend(['train', 'valid'])\n",
        "gru.set_title(\"GRU losses\")\n",
        "\n",
        "# bi -lstm\n",
        "\n",
        "bi_lstm.plot(bi_lstm_history.history['loss'])\n",
        "bi_lstm.plot(bi_lstm_history.history['val_loss'])\n",
        "bi_lstm.legend(['train', 'valid'])\n",
        "bi_lstm.set_title(\"Bi-directional losses\")\n",
        "\n",
        "fig.suptitle(\"Training and validation losses with epochs\")\n",
        "\n",
        "fig.show()\n"
      ]
    },
    {
      "cell_type": "code",
      "execution_count": null,
      "metadata": {
        "id": "sS80YDmUyrbM"
      },
      "outputs": [],
      "source": [
        ""
      ]
    }
  ],
  "metadata": {
    "accelerator": "GPU",
    "colab": {
      "collapsed_sections": [],
      "name": "bangla_news_classification.ipynb",
      "provenance": []
    },
    "kernelspec": {
      "display_name": "Python 3",
      "name": "python3"
    },
    "language_info": {
      "name": "python"
    },
    "widgets": {
      "application/vnd.jupyter.widget-state+json": {
        "5a8c8f8b7e454b4bb6addde7c9fcd791": {
          "model_module": "@jupyter-widgets/controls",
          "model_name": "HBoxModel",
          "model_module_version": "1.5.0",
          "state": {
            "_dom_classes": [],
            "_model_module": "@jupyter-widgets/controls",
            "_model_module_version": "1.5.0",
            "_model_name": "HBoxModel",
            "_view_count": null,
            "_view_module": "@jupyter-widgets/controls",
            "_view_module_version": "1.5.0",
            "_view_name": "HBoxView",
            "box_style": "",
            "children": [
              "IPY_MODEL_e918c82edb894de4b2784abca1c7b953",
              "IPY_MODEL_babe8d38e41b4c16b4163fee0d3cb1fa",
              "IPY_MODEL_664e8452178d41bd93455d55a350e87f"
            ],
            "layout": "IPY_MODEL_c195feb214b3492283a44ac5a5498819"
          }
        },
        "e918c82edb894de4b2784abca1c7b953": {
          "model_module": "@jupyter-widgets/controls",
          "model_name": "HTMLModel",
          "model_module_version": "1.5.0",
          "state": {
            "_dom_classes": [],
            "_model_module": "@jupyter-widgets/controls",
            "_model_module_version": "1.5.0",
            "_model_name": "HTMLModel",
            "_view_count": null,
            "_view_module": "@jupyter-widgets/controls",
            "_view_module_version": "1.5.0",
            "_view_name": "HTMLView",
            "description": "",
            "description_tooltip": null,
            "layout": "IPY_MODEL_9dd60fa0d90f42bcb7b38baf40d74123",
            "placeholder": "​",
            "style": "IPY_MODEL_078cce6fda174beb8e1599049af5cf1b",
            "value": "100%"
          }
        },
        "babe8d38e41b4c16b4163fee0d3cb1fa": {
          "model_module": "@jupyter-widgets/controls",
          "model_name": "FloatProgressModel",
          "model_module_version": "1.5.0",
          "state": {
            "_dom_classes": [],
            "_model_module": "@jupyter-widgets/controls",
            "_model_module_version": "1.5.0",
            "_model_name": "FloatProgressModel",
            "_view_count": null,
            "_view_module": "@jupyter-widgets/controls",
            "_view_module_version": "1.5.0",
            "_view_name": "ProgressView",
            "bar_style": "success",
            "description": "",
            "description_tooltip": null,
            "layout": "IPY_MODEL_029a4abd8c494b49a7a9eb5b5ee7092e",
            "max": 175967,
            "min": 0,
            "orientation": "horizontal",
            "style": "IPY_MODEL_edbf09a98f014c849777261888ff20ca",
            "value": 175967
          }
        },
        "664e8452178d41bd93455d55a350e87f": {
          "model_module": "@jupyter-widgets/controls",
          "model_name": "HTMLModel",
          "model_module_version": "1.5.0",
          "state": {
            "_dom_classes": [],
            "_model_module": "@jupyter-widgets/controls",
            "_model_module_version": "1.5.0",
            "_model_name": "HTMLModel",
            "_view_count": null,
            "_view_module": "@jupyter-widgets/controls",
            "_view_module_version": "1.5.0",
            "_view_name": "HTMLView",
            "description": "",
            "description_tooltip": null,
            "layout": "IPY_MODEL_efa5b4b5ac794a24a9eea82652bcd99b",
            "placeholder": "​",
            "style": "IPY_MODEL_32b67a2a4e284958bd1a8c123cd02996",
            "value": " 175967/175967 [00:11&lt;00:00, 13389.70it/s]"
          }
        },
        "c195feb214b3492283a44ac5a5498819": {
          "model_module": "@jupyter-widgets/base",
          "model_name": "LayoutModel",
          "model_module_version": "1.2.0",
          "state": {
            "_model_module": "@jupyter-widgets/base",
            "_model_module_version": "1.2.0",
            "_model_name": "LayoutModel",
            "_view_count": null,
            "_view_module": "@jupyter-widgets/base",
            "_view_module_version": "1.2.0",
            "_view_name": "LayoutView",
            "align_content": null,
            "align_items": null,
            "align_self": null,
            "border": null,
            "bottom": null,
            "display": null,
            "flex": null,
            "flex_flow": null,
            "grid_area": null,
            "grid_auto_columns": null,
            "grid_auto_flow": null,
            "grid_auto_rows": null,
            "grid_column": null,
            "grid_gap": null,
            "grid_row": null,
            "grid_template_areas": null,
            "grid_template_columns": null,
            "grid_template_rows": null,
            "height": null,
            "justify_content": null,
            "justify_items": null,
            "left": null,
            "margin": null,
            "max_height": null,
            "max_width": null,
            "min_height": null,
            "min_width": null,
            "object_fit": null,
            "object_position": null,
            "order": null,
            "overflow": null,
            "overflow_x": null,
            "overflow_y": null,
            "padding": null,
            "right": null,
            "top": null,
            "visibility": null,
            "width": null
          }
        },
        "9dd60fa0d90f42bcb7b38baf40d74123": {
          "model_module": "@jupyter-widgets/base",
          "model_name": "LayoutModel",
          "model_module_version": "1.2.0",
          "state": {
            "_model_module": "@jupyter-widgets/base",
            "_model_module_version": "1.2.0",
            "_model_name": "LayoutModel",
            "_view_count": null,
            "_view_module": "@jupyter-widgets/base",
            "_view_module_version": "1.2.0",
            "_view_name": "LayoutView",
            "align_content": null,
            "align_items": null,
            "align_self": null,
            "border": null,
            "bottom": null,
            "display": null,
            "flex": null,
            "flex_flow": null,
            "grid_area": null,
            "grid_auto_columns": null,
            "grid_auto_flow": null,
            "grid_auto_rows": null,
            "grid_column": null,
            "grid_gap": null,
            "grid_row": null,
            "grid_template_areas": null,
            "grid_template_columns": null,
            "grid_template_rows": null,
            "height": null,
            "justify_content": null,
            "justify_items": null,
            "left": null,
            "margin": null,
            "max_height": null,
            "max_width": null,
            "min_height": null,
            "min_width": null,
            "object_fit": null,
            "object_position": null,
            "order": null,
            "overflow": null,
            "overflow_x": null,
            "overflow_y": null,
            "padding": null,
            "right": null,
            "top": null,
            "visibility": null,
            "width": null
          }
        },
        "078cce6fda174beb8e1599049af5cf1b": {
          "model_module": "@jupyter-widgets/controls",
          "model_name": "DescriptionStyleModel",
          "model_module_version": "1.5.0",
          "state": {
            "_model_module": "@jupyter-widgets/controls",
            "_model_module_version": "1.5.0",
            "_model_name": "DescriptionStyleModel",
            "_view_count": null,
            "_view_module": "@jupyter-widgets/base",
            "_view_module_version": "1.2.0",
            "_view_name": "StyleView",
            "description_width": ""
          }
        },
        "029a4abd8c494b49a7a9eb5b5ee7092e": {
          "model_module": "@jupyter-widgets/base",
          "model_name": "LayoutModel",
          "model_module_version": "1.2.0",
          "state": {
            "_model_module": "@jupyter-widgets/base",
            "_model_module_version": "1.2.0",
            "_model_name": "LayoutModel",
            "_view_count": null,
            "_view_module": "@jupyter-widgets/base",
            "_view_module_version": "1.2.0",
            "_view_name": "LayoutView",
            "align_content": null,
            "align_items": null,
            "align_self": null,
            "border": null,
            "bottom": null,
            "display": null,
            "flex": null,
            "flex_flow": null,
            "grid_area": null,
            "grid_auto_columns": null,
            "grid_auto_flow": null,
            "grid_auto_rows": null,
            "grid_column": null,
            "grid_gap": null,
            "grid_row": null,
            "grid_template_areas": null,
            "grid_template_columns": null,
            "grid_template_rows": null,
            "height": null,
            "justify_content": null,
            "justify_items": null,
            "left": null,
            "margin": null,
            "max_height": null,
            "max_width": null,
            "min_height": null,
            "min_width": null,
            "object_fit": null,
            "object_position": null,
            "order": null,
            "overflow": null,
            "overflow_x": null,
            "overflow_y": null,
            "padding": null,
            "right": null,
            "top": null,
            "visibility": null,
            "width": null
          }
        },
        "edbf09a98f014c849777261888ff20ca": {
          "model_module": "@jupyter-widgets/controls",
          "model_name": "ProgressStyleModel",
          "model_module_version": "1.5.0",
          "state": {
            "_model_module": "@jupyter-widgets/controls",
            "_model_module_version": "1.5.0",
            "_model_name": "ProgressStyleModel",
            "_view_count": null,
            "_view_module": "@jupyter-widgets/base",
            "_view_module_version": "1.2.0",
            "_view_name": "StyleView",
            "bar_color": null,
            "description_width": ""
          }
        },
        "efa5b4b5ac794a24a9eea82652bcd99b": {
          "model_module": "@jupyter-widgets/base",
          "model_name": "LayoutModel",
          "model_module_version": "1.2.0",
          "state": {
            "_model_module": "@jupyter-widgets/base",
            "_model_module_version": "1.2.0",
            "_model_name": "LayoutModel",
            "_view_count": null,
            "_view_module": "@jupyter-widgets/base",
            "_view_module_version": "1.2.0",
            "_view_name": "LayoutView",
            "align_content": null,
            "align_items": null,
            "align_self": null,
            "border": null,
            "bottom": null,
            "display": null,
            "flex": null,
            "flex_flow": null,
            "grid_area": null,
            "grid_auto_columns": null,
            "grid_auto_flow": null,
            "grid_auto_rows": null,
            "grid_column": null,
            "grid_gap": null,
            "grid_row": null,
            "grid_template_areas": null,
            "grid_template_columns": null,
            "grid_template_rows": null,
            "height": null,
            "justify_content": null,
            "justify_items": null,
            "left": null,
            "margin": null,
            "max_height": null,
            "max_width": null,
            "min_height": null,
            "min_width": null,
            "object_fit": null,
            "object_position": null,
            "order": null,
            "overflow": null,
            "overflow_x": null,
            "overflow_y": null,
            "padding": null,
            "right": null,
            "top": null,
            "visibility": null,
            "width": null
          }
        },
        "32b67a2a4e284958bd1a8c123cd02996": {
          "model_module": "@jupyter-widgets/controls",
          "model_name": "DescriptionStyleModel",
          "model_module_version": "1.5.0",
          "state": {
            "_model_module": "@jupyter-widgets/controls",
            "_model_module_version": "1.5.0",
            "_model_name": "DescriptionStyleModel",
            "_view_count": null,
            "_view_module": "@jupyter-widgets/base",
            "_view_module_version": "1.2.0",
            "_view_name": "StyleView",
            "description_width": ""
          }
        }
      }
    }
  },
  "nbformat": 4,
  "nbformat_minor": 0
}