{
  "cells": [
    {
      "cell_type": "markdown",
      "metadata": {
        "id": "rQvuNjlMnKm6"
      },
      "source": [
        "## GPU check"
      ]
    },
    {
      "cell_type": "code",
      "execution_count": 2,
      "metadata": {
        "colab": {
          "base_uri": "https://localhost:8080/"
        },
        "id": "E_sQ7WOzxyOd",
        "outputId": "ff4d106b-dbf3-4ed6-da21-dbf62d6ea8c4"
      },
      "outputs": [
        {
          "name": "stdout",
          "output_type": "stream",
          "text": [
            "GPU 0: Tesla T4 (UUID: GPU-fe4e7606-0167-2128-a5ca-6730a23cf4aa)\n"
          ]
        }
      ],
      "source": [
        "!nvidia-smi -L\n"
      ]
    },
    {
      "cell_type": "code",
      "execution_count": 3,
      "metadata": {
        "colab": {
          "base_uri": "https://localhost:8080/"
        },
        "id": "qEJCsmB-08sB",
        "outputId": "e0e3ce8b-719d-416c-a6e8-66236c4e847d"
      },
      "outputs": [
        {
          "name": "stdout",
          "output_type": "stream",
          "text": [
            "Default GPU Device:/device:GPU:0\n"
          ]
        }
      ],
      "source": [
        "import tensorflow as tf \n",
        "\n",
        "if tf.test.gpu_device_name(): \n",
        "\n",
        "    print('Default GPU Device:{}'.format(tf.test.gpu_device_name()))\n",
        "\n",
        "else:\n",
        "\n",
        "   print(\"enable gpu from runtime\")"
      ]
    },
    {
      "cell_type": "markdown",
      "metadata": {
        "id": "GOaBnsaNnZ2w"
      },
      "source": [
        "## mounting gdrive "
      ]
    },
    {
      "cell_type": "code",
      "execution_count": 4,
      "metadata": {
        "colab": {
          "base_uri": "https://localhost:8080/"
        },
        "id": "l_Go_lw82ut1",
        "outputId": "fd2ce6e5-85d2-431e-8947-380348a84fdd"
      },
      "outputs": [
        {
          "name": "stdout",
          "output_type": "stream",
          "text": [
            "Drive already mounted at /content/drive; to attempt to forcibly remount, call drive.mount(\"/content/drive\", force_remount=True).\n"
          ]
        }
      ],
      "source": [
        "from google.colab import drive\n",
        "drive.mount('/content/drive')"
      ]
    },
    {
      "cell_type": "markdown",
      "metadata": {
        "id": "p2NEtZtLnk5M"
      },
      "source": [
        "## Load dataset from kaggle"
      ]
    },
    {
      "cell_type": "code",
      "execution_count": 5,
      "metadata": {
        "id": "kO4s_QWix7sK"
      },
      "outputs": [],
      "source": [
        "!pip install opendatasets --upgrade --quiet"
      ]
    },
    {
      "cell_type": "code",
      "execution_count": 6,
      "metadata": {
        "colab": {
          "base_uri": "https://localhost:8080/"
        },
        "id": "9JH9xfjsMXGd",
        "outputId": "27395ac7-5a7d-477c-d2bd-4b43c148e2e1"
      },
      "outputs": [
        {
          "name": "stdout",
          "output_type": "stream",
          "text": [
            "--2022-05-15 01:47:38--  https://raw.githubusercontent.com/afs-chowdhury/afschowdhury/master/kaggle.json\n",
            "Resolving raw.githubusercontent.com (raw.githubusercontent.com)... 185.199.111.133, 185.199.109.133, 185.199.108.133, ...\n",
            "Connecting to raw.githubusercontent.com (raw.githubusercontent.com)|185.199.111.133|:443... connected.\n",
            "HTTP request sent, awaiting response... 200 OK\n",
            "Length: 72 [text/plain]\n",
            "Saving to: ‘kaggle.json.2’\n",
            "\n",
            "\rkaggle.json.2         0%[                    ]       0  --.-KB/s               \rkaggle.json.2       100%[===================>]      72  --.-KB/s    in 0s      \n",
            "\n",
            "2022-05-15 01:47:38 (3.58 MB/s) - ‘kaggle.json.2’ saved [72/72]\n",
            "\n"
          ]
        }
      ],
      "source": [
        "!wget https://raw.githubusercontent.com/afschowdhury/config-files/main/kaggle.json?token=GHSAT0AAAAAABUSKKM3ZFMQLIQLF7LPSYI4YUALKOA"
      ]
    },
    {
      "cell_type": "code",
      "execution_count": 7,
      "metadata": {
        "colab": {
          "base_uri": "https://localhost:8080/"
        },
        "id": "VUpXYHDMya2j",
        "outputId": "f891951b-2ea8-4f49-a132-7012567209e9"
      },
      "outputs": [
        {
          "name": "stdout",
          "output_type": "stream",
          "text": [
            "Skipping, found downloaded files in \"./bangla-newspaper-dataset\" (use force=True to force download)\n"
          ]
        }
      ],
      "source": [
        "dataset_url = \"https://www.kaggle.com/furcifer/bangla-newspaper-dataset?select=data_v2\"\n",
        "import opendatasets as od\n",
        "\n",
        "od.download(dataset_url)"
      ]
    },
    {
      "cell_type": "markdown",
      "metadata": {
        "id": "iuiKasOxpbW0"
      },
      "source": [
        "## Loading data from json file "
      ]
    },
    {
      "cell_type": "code",
      "execution_count": 1,
      "metadata": {
        "id": "xGK5Ohvp0y1A"
      },
      "outputs": [],
      "source": [
        "import json \n",
        "\n",
        "\n",
        "with open(\"bangla-newspaper-dataset/data_v2/data_v2.json\", encoding = \"utf-8\") as dt:\n",
        "  data = json.load(dt) "
      ]
    },
    {
      "cell_type": "markdown",
      "metadata": {
        "id": "LYOgjU9Pp-Mh"
      },
      "source": [
        "## Data Analysis"
      ]
    },
    {
      "cell_type": "code",
      "execution_count": 2,
      "metadata": {
        "colab": {
          "base_uri": "https://localhost:8080/"
        },
        "id": "A_5sBgN8-6Oz",
        "outputId": "ecfead1d-b666-4a91-a180-590fc66e40f8"
      },
      "outputs": [
        {
          "data": {
            "text/plain": [
              "list"
            ]
          },
          "execution_count": 2,
          "metadata": {},
          "output_type": "execute_result"
        }
      ],
      "source": [
        "type(data)"
      ]
    },
    {
      "cell_type": "code",
      "execution_count": 3,
      "metadata": {
        "colab": {
          "base_uri": "https://localhost:8080/"
        },
        "id": "OaF6NaLCOvCq",
        "outputId": "7520ebb6-58d1-4632-ac8f-c04ea78f6789"
      },
      "outputs": [
        {
          "data": {
            "text/plain": [
              "dict"
            ]
          },
          "execution_count": 3,
          "metadata": {},
          "output_type": "execute_result"
        }
      ],
      "source": [
        "type(data[0])"
      ]
    },
    {
      "cell_type": "code",
      "execution_count": 4,
      "metadata": {
        "colab": {
          "base_uri": "https://localhost:8080/"
        },
        "id": "HiuAzvlR_25I",
        "outputId": "cadda08b-9850-4245-a675-bd7a7f4f15c7"
      },
      "outputs": [
        {
          "data": {
            "text/plain": [
              "408471"
            ]
          },
          "execution_count": 4,
          "metadata": {},
          "output_type": "execute_result"
        }
      ],
      "source": [
        "len(data)"
      ]
    },
    {
      "cell_type": "code",
      "execution_count": 5,
      "metadata": {
        "colab": {
          "base_uri": "https://localhost:8080/"
        },
        "id": "j8kA2O0p_-5I",
        "outputId": "c68161a0-87a3-4e0f-9218-3b8152521805"
      },
      "outputs": [
        {
          "data": {
            "text/plain": [
              "dict_keys(['author', 'category', 'category_bn', 'published_date', 'modification_date', 'tag', 'comment_count', 'title', 'url', 'content'])"
            ]
          },
          "execution_count": 5,
          "metadata": {},
          "output_type": "execute_result"
        }
      ],
      "source": [
        "data[0].keys()"
      ]
    },
    {
      "cell_type": "code",
      "execution_count": 6,
      "metadata": {
        "colab": {
          "base_uri": "https://localhost:8080/"
        },
        "id": "THmv3Izd_40u",
        "outputId": "0b532095-9eab-402e-bf34-43361e3905d3"
      },
      "outputs": [
        {
          "data": {
            "text/plain": [
              "{'author': 'গাজীপুর প্রতিনিধি',\n",
              " 'category': 'bangladesh',\n",
              " 'category_bn': 'বাংলাদেশ',\n",
              " 'comment_count': 0,\n",
              " 'content': 'গাজীপুরের কালিয়াকৈর উপজেলার তেলিরচালা এলাকায় আজ বৃহস্পতিবার রাতের টিফিন খেয়ে একটি পোশাক কারখানার ৫০০ শ্রমিক অসুস্থ হয়ে পড়েছেন। এ ঘটনায় বিক্ষোভ করেছেন ওই কারখানার শ্রমিকেরা।সফিপুর মডার্ন হাসপাতালের জরুরি বিভাগের চিকিত্সক আল আমিন প্রথম আলো ডটকমকে বলেন, খাদ্যে বিষক্রিয়ায় তাঁরা (শ্রমিকেরা) অসুস্থ হয়ে পড়েছেন। এতে আতঙ্কিত হওয়ার কিছু নেই। অসুস্থদের চিকিত্সা দেওয়া হয়েছে।কারখানার শ্রমিক ও পুলিশ সূত্রে জানা যায়, উপজেলার তেলিরচালা এলাকার সেজাদ সোয়েটার লিমিটেড কারখানার শ্রমিকদের আজ রাত সাড়ে সাতটার দিকে টিফিন দেওয়া হয়। টিফিনে ছিল ডিম, রুটি, পেটিস ও কলা। টিফিন খেয়ে শ্রমিকেরা যথারীতি কাজে যোগ দেন। ওই টিফিন খাওয়ার প্রায় এক ঘণ্টা পর রাত সাড়ে আটটার দিকে কয়েকজন শ্রমিকের বমি ও পেট ব্যথা শুরু হয়। এরপর ধীরে ধীরে পুরো কারখানার শ্রমিকেরা অসুস্থ হতে থাকে। অনেকেই কারখানার মেঝেতে ঢলে পড়ে। এতে পাঁচ শতাধিক শ্রমিক অসুস্থ হয়ে পড়ে।পরে কারখানা কর্তৃপক্ষ দ্রুত যানবাহনের ব্যবস্থা করে তাদের সফিপুর জেনারেল হাসপাতাল, সফিপুর মডার্ন হাসপাতাল, উপজেলা স্বাস্থ্য কমপ্লেক্সসহ বিভিন্ন ক্লিনিকে ভর্তি করে। বাসি পচা খাবার দেওয়ায় শ্রমিকরা ক্ষুব্ধ হয়ে কারখানার সামনে বিক্ষোভ করে। খবর পেয়ে পুলিশ গিয়ে শ্রমিকদের বুঝিয়ে ও খাবার সরবরাহ প্রতিষ্ঠানের বিরুদ্ধে ব্যবস্থা নেওয়ার আশ্বাস দিলে শ্রমিকেরা শান্ত হয়।সফিপুর জেনারেল হাসপাতালে ভর্তি শ্রমিক জাকির হোসেন ও আসমা আক্তার বলেন, টিফিন খাওয়ার সময় ডিম ও কেক থেকে দুর্গন্ধ বের হচ্ছিল। এ কারণে অনেকেই ওই খাবার খায়নি। তবে বেশির ভাগ শ্রমিকই ওই খাবার খেয়েছে।কারখানার সহকারী উত্পাদন কর্মকর্তা (এপিএম) বছির উদ্দিন বলেন, টিফিনগুলি যে ঠিকাদারি প্রতিষ্ঠান কারখানায় সরবরাহ করে তাদের বিরুদ্ধে ব্যবস্থা নেওয়া হবে।মৌচাক পুলিশ ফাঁড়ির উপ-পরিদর্শক (এসআই) সৈয়দ আজহারুল ইসলাম প্রথম আলো ডটকমকে বলেন, শ্রমিকদের বুঝিয়ে শান্ত করা হয়েছে। এ ছাড়া কারখানা কর্তৃপক্ষকে খাদ্য সরবরাহ প্রতিষ্ঠানের বিরুদ্ধে ব্যবস্থা নিতে বলা হয়েছে।',\n",
              " 'modification_date': '০৪ জুলাই ২০১৩, ২৩:২৭',\n",
              " 'published_date': '০৪ জুলাই ২০১৩, ২৩:২৬',\n",
              " 'tag': ['গাজীপুর'],\n",
              " 'title': 'কালিয়াকৈরে টিফিন খেয়ে ৫০০ শ্রমিক অসুস্থ, বিক্ষোভ',\n",
              " 'url': 'http://www.prothom-alo.com/bangladesh/article/19030'}"
            ]
          },
          "execution_count": 6,
          "metadata": {},
          "output_type": "execute_result"
        }
      ],
      "source": [
        "data[0]"
      ]
    },
    {
      "cell_type": "code",
      "execution_count": 7,
      "metadata": {
        "colab": {
          "base_uri": "https://localhost:8080/",
          "height": 145
        },
        "id": "uJG1AeQsBkLe",
        "outputId": "d1d8d0e2-9be8-49f7-f6ce-323e8e096883"
      },
      "outputs": [
        {
          "data": {
            "application/vnd.google.colaboratory.intrinsic+json": {
              "type": "string"
            },
            "text/plain": [
              "'গাজীপুরের কালিয়াকৈর উপজেলার তেলিরচালা এলাকায় আজ বৃহস্পতিবার রাতের টিফিন খেয়ে একটি পোশাক কারখানার ৫০০ শ্রমিক অসুস্থ হয়ে পড়েছেন। এ ঘটনায় বিক্ষোভ করেছেন ওই কারখানার শ্রমিকেরা।সফিপুর মডার্ন হাসপাতালের জরুরি বিভাগের চিকিত্সক আল আমিন প্রথম আলো ডটকমকে বলেন, খাদ্যে বিষক্রিয়ায় তাঁরা (শ্রমিকেরা) অসুস্থ হয়ে পড়েছেন। এতে আতঙ্কিত হওয়ার কিছু নেই। অসুস্থদের চিকিত্সা দেওয়া হয়েছে।কারখানার শ্রমিক ও পুলিশ সূত্রে জানা যায়, উপজেলার তেলিরচালা এলাকার সেজাদ সোয়েটার লিমিটেড কারখানার শ্রমিকদের আজ রাত সাড়ে সাতটার দিকে টিফিন দেওয়া হয়। টিফিনে ছিল ডিম, রুটি, পেটিস ও কলা। টিফিন খেয়ে শ্রমিকেরা যথারীতি কাজে যোগ দেন। ওই টিফিন খাওয়ার প্রায় এক ঘণ্টা পর রাত সাড়ে আটটার দিকে কয়েকজন শ্রমিকের বমি ও পেট ব্যথা শুরু হয়। এরপর ধীরে ধীরে পুরো কারখানার শ্রমিকেরা অসুস্থ হতে থাকে। অনেকেই কারখানার মেঝেতে ঢলে পড়ে। এতে পাঁচ শতাধিক শ্রমিক অসুস্থ হয়ে পড়ে।পরে কারখানা কর্তৃপক্ষ দ্রুত যানবাহনের ব্যবস্থা করে তাদের সফিপুর জেনারেল হাসপাতাল, সফিপুর মডার্ন হাসপাতাল, উপজেলা স্বাস্থ্য কমপ্লেক্সসহ বিভিন্ন ক্লিনিকে ভর্তি করে। বাসি পচা খাবার দেওয়ায় শ্রমিকরা ক্ষুব্ধ হয়ে কারখানার সামনে বিক্ষোভ করে। খবর পেয়ে পুলিশ গিয়ে শ্রমিকদের বুঝিয়ে ও খাবার সরবরাহ প্রতিষ্ঠানের বিরুদ্ধে ব্যবস্থা নেওয়ার আশ্বাস দিলে শ্রমিকেরা শান্ত হয়।সফিপুর জেনারেল হাসপাতালে ভর্তি শ্রমিক জাকির হোসেন ও আসমা আক্তার বলেন, টিফিন খাওয়ার সময় ডিম ও কেক থেকে দুর্গন্ধ বের হচ্ছিল। এ কারণে অনেকেই ওই খাবার খায়নি। তবে বেশির ভাগ শ্রমিকই ওই খাবার খেয়েছে।কারখানার সহকারী উত্পাদন কর্মকর্তা (এপিএম) বছির উদ্দিন বলেন, টিফিনগুলি যে ঠিকাদারি প্রতিষ্ঠান কারখানায় সরবরাহ করে তাদের বিরুদ্ধে ব্যবস্থা নেওয়া হবে।মৌচাক পুলিশ ফাঁড়ির উপ-পরিদর্শক (এসআই) সৈয়দ আজহারুল ইসলাম প্রথম আলো ডটকমকে বলেন, শ্রমিকদের বুঝিয়ে শান্ত করা হয়েছে। এ ছাড়া কারখানা কর্তৃপক্ষকে খাদ্য সরবরাহ প্রতিষ্ঠানের বিরুদ্ধে ব্যবস্থা নিতে বলা হয়েছে।'"
            ]
          },
          "execution_count": 7,
          "metadata": {},
          "output_type": "execute_result"
        }
      ],
      "source": [
        "data[0]['content']"
      ]
    },
    {
      "cell_type": "code",
      "execution_count": 8,
      "metadata": {
        "colab": {
          "base_uri": "https://localhost:8080/"
        },
        "id": "x8erEC_8A3Wf",
        "outputId": "b84e0e27-b5f4-4d38-ef35-5fd295768c08"
      },
      "outputs": [
        {
          "data": {
            "text/plain": [
              "1752"
            ]
          },
          "execution_count": 8,
          "metadata": {},
          "output_type": "execute_result"
        }
      ],
      "source": [
        "len(data[0]['content'])"
      ]
    },
    {
      "cell_type": "code",
      "execution_count": 9,
      "metadata": {
        "colab": {
          "base_uri": "https://localhost:8080/"
        },
        "id": "_39JF77ZBZ4D",
        "outputId": "a8f7dc7b-0de7-4f41-ea73-7c0d7b40209b"
      },
      "outputs": [
        {
          "data": {
            "text/plain": [
              "{'bangladesh',\n",
              " 'economy',\n",
              " 'education',\n",
              " 'entertainment',\n",
              " 'international',\n",
              " 'life-style',\n",
              " 'opinion',\n",
              " 'sports',\n",
              " 'technology'}"
            ]
          },
          "execution_count": 9,
          "metadata": {},
          "output_type": "execute_result"
        }
      ],
      "source": [
        "cat_set = set(a['category'] for a in data)\n",
        "cat_set"
      ]
    },
    {
      "cell_type": "code",
      "execution_count": 10,
      "metadata": {
        "colab": {
          "base_uri": "https://localhost:8080/"
        },
        "id": "k96QuScRBzbD",
        "outputId": "300530b9-1a67-4390-ca43-4d75e4d6879b"
      },
      "outputs": [
        {
          "data": {
            "text/plain": [
              "9"
            ]
          },
          "execution_count": 10,
          "metadata": {},
          "output_type": "execute_result"
        }
      ],
      "source": [
        "len(cat_set)"
      ]
    },
    {
      "cell_type": "code",
      "execution_count": 11,
      "metadata": {
        "id": "qiz7dloKCOVx"
      },
      "outputs": [],
      "source": [
        "all_cat = [a['category']for a in data]"
      ]
    },
    {
      "cell_type": "code",
      "execution_count": 12,
      "metadata": {
        "colab": {
          "base_uri": "https://localhost:8080/"
        },
        "id": "IKnLbsj3B4B3",
        "outputId": "ddc8fc4f-9059-49fd-cc95-4f488e5d7ff5"
      },
      "outputs": [
        {
          "data": {
            "text/plain": [
              "(True, 408471)"
            ]
          },
          "execution_count": 12,
          "metadata": {},
          "output_type": "execute_result"
        }
      ],
      "source": [
        "len(data)  == len(all_cat) , len(data)"
      ]
    },
    {
      "cell_type": "markdown",
      "metadata": {
        "id": "yl1R7yb3qshF"
      },
      "source": [
        "### Select categories with data more than 7000"
      ]
    },
    {
      "cell_type": "code",
      "execution_count": 13,
      "metadata": {
        "colab": {
          "base_uri": "https://localhost:8080/"
        },
        "id": "RzWdWxuYH5oY",
        "outputId": "4a6b10f3-f289-4a35-e4f8-b14c9eac8150"
      },
      "outputs": [
        {
          "data": {
            "text/plain": [
              "[15699, 10852, 30856, 17245, 9721, 12116, 49012, 30466, 232504]"
            ]
          },
          "execution_count": 13,
          "metadata": {},
          "output_type": "execute_result"
        }
      ],
      "source": [
        "# data in each category \n",
        "cat_count = []\n",
        "\n",
        "for cat in (cat_set):\n",
        "  cat_count.append(all_cat.count(cat))\n",
        "cat_count"
      ]
    },
    {
      "cell_type": "code",
      "execution_count": 14,
      "metadata": {
        "colab": {
          "base_uri": "https://localhost:8080/"
        },
        "id": "vMQmdrALhbM8",
        "outputId": "d20808e2-685a-41ab-c653-b5a0ebe2c5b7"
      },
      "outputs": [
        {
          "data": {
            "text/plain": [
              "[232504, 49012, 30856, 30466, 17245, 15699, 12116, 10852, 9721]"
            ]
          },
          "execution_count": 14,
          "metadata": {},
          "output_type": "execute_result"
        }
      ],
      "source": [
        "sorted(cat_count)[::-1]"
      ]
    },
    {
      "cell_type": "code",
      "execution_count": 15,
      "metadata": {
        "colab": {
          "base_uri": "https://localhost:8080/"
        },
        "id": "sFWJk2eriOmt",
        "outputId": "2fb413c9-10b8-49d2-a0ef-c18d2bc7cbab"
      },
      "outputs": [
        {
          "data": {
            "text/plain": [
              "{'bangladesh',\n",
              " 'economy',\n",
              " 'education',\n",
              " 'entertainment',\n",
              " 'international',\n",
              " 'life-style',\n",
              " 'opinion',\n",
              " 'sports',\n",
              " 'technology'}"
            ]
          },
          "execution_count": 15,
          "metadata": {},
          "output_type": "execute_result"
        }
      ],
      "source": [
        "cat_set"
      ]
    },
    {
      "cell_type": "code",
      "execution_count": 16,
      "metadata": {
        "colab": {
          "base_uri": "https://localhost:8080/"
        },
        "id": "iJNKLSEcimM4",
        "outputId": "6ab31068-1f74-4ddf-e125-dfd17a87c374"
      },
      "outputs": [
        {
          "data": {
            "text/plain": [
              "[(15699, 'opinion'),\n",
              " (10852, 'life-style'),\n",
              " (30856, 'international'),\n",
              " (17245, 'economy'),\n",
              " (9721, 'education'),\n",
              " (12116, 'technology'),\n",
              " (49012, 'sports'),\n",
              " (30466, 'entertainment'),\n",
              " (232504, 'bangladesh')]"
            ]
          },
          "execution_count": 16,
          "metadata": {},
          "output_type": "execute_result"
        }
      ],
      "source": [
        "# bind category with their occurence\n",
        "z = zip(cat_count, cat_set)\n",
        "z = list(z)\n",
        "z"
      ]
    },
    {
      "cell_type": "code",
      "execution_count": 18,
      "metadata": {
        "colab": {
          "base_uri": "https://localhost:8080/",
          "height": 1000
        },
        "id": "J45IvJjuHPxL",
        "outputId": "45585030-ab86-4d45-a6f9-b001210009bd"
      },
      "outputs": [
        {
          "data": {
            "text/plain": [
              "<BarContainer object of 9 artists>"
            ]
          },
          "execution_count": 18,
          "metadata": {},
          "output_type": "execute_result"
        },
        {
          "data": {
            "image/png": "[encoded data removed]",
            "text/plain": [
              "<Figure size 360x1440 with 1 Axes>"
            ]
          },
          "metadata": {
            "needs_background": "light"
          },
          "output_type": "display_data"
        }
      ],
      "source": [
        "import matplotlib.pyplot as plt\n",
        "\n",
        "\n",
        "categories = {}\n",
        "for index, (x, y) in enumerate(z)  :\n",
        "  categories[y] = x\n",
        "\n",
        "fig , ax = plt.subplots(figsize=(5,20))\n",
        "\n",
        "# ax.bar(categories.keys(), categories.values())\n",
        "ax.barh(list(categories.keys()),list(categories.values()))"
      ]
    },
    {
      "cell_type": "code",
      "execution_count": 19,
      "metadata": {
        "colab": {
          "base_uri": "https://localhost:8080/"
        },
        "id": "hxRFviOljiWs",
        "outputId": "0814c5df-45a5-4f0e-ea2a-76c4a16997d4"
      },
      "outputs": [
        {
          "data": {
            "text/plain": [
              "['opinion',\n",
              " 'life-style',\n",
              " 'international',\n",
              " 'economy',\n",
              " 'education',\n",
              " 'technology',\n",
              " 'sports',\n",
              " 'entertainment']"
            ]
          },
          "execution_count": 19,
          "metadata": {},
          "output_type": "execute_result"
        }
      ],
      "source": [
        "sel_cats = []\n",
        "\n",
        "for cat in cat_set :\n",
        "  if cat != \"bangladesh\":\n",
        "    sel_cats.append(cat)\n",
        "sel_cats"
      ]
    },
    {
      "cell_type": "code",
      "execution_count": 20,
      "metadata": {
        "colab": {
          "base_uri": "https://localhost:8080/"
        },
        "id": "0XXn7w0OjjTF",
        "outputId": "c09a33ce-155f-4adf-a1ab-2f14c58b080c"
      },
      "outputs": [
        {
          "data": {
            "text/plain": [
              "(8, 9)"
            ]
          },
          "execution_count": 20,
          "metadata": {},
          "output_type": "execute_result"
        }
      ],
      "source": [
        "len(sel_cats) , len(cat_set)  # selected category vs total category "
      ]
    },
    {
      "cell_type": "code",
      "execution_count": 21,
      "metadata": {
        "id": "Gk5wxKYUjpGP"
      },
      "outputs": [],
      "source": [
        "# collect selected categories \n",
        "\n",
        "X_text = []\n",
        "y_label = []\n",
        "\n",
        "for i in data :\n",
        "  if i['category'] in sel_cats:\n",
        "    X_text.append(i['content'])\n",
        "    y_label.append(i['category'])"
      ]
    },
    {
      "cell_type": "code",
      "execution_count": 22,
      "metadata": {
        "colab": {
          "base_uri": "https://localhost:8080/",
          "height": 145
        },
        "id": "loUtH2RlkVCw",
        "outputId": "1b325620-25ba-4a70-8fb4-c6aeac8f7706"
      },
      "outputs": [
        {
          "data": {
            "application/vnd.google.colaboratory.intrinsic+json": {
              "type": "string"
            },
            "text/plain": [
              "'এবারের উইম্বলডনটা স্মরণীয় করে রাখার মিশনেই যেন নেমেছেন সাবিনা লিসিকি। চতুর্থ রাউন্ডের লড়াইয়ে সেরেনা উইলিয়ামসকে হারিয়ে শুরু করেছিলেন স্বপ্নযাত্রা। কোয়ার্টার ফাইনালে কাইয়া কানেপিকে হারাতে খুব একটা বেগ পেতে হয়নি। তবে সেমিফাইনালে কঠিন প্রতিপক্ষের মুখেই পড়তে হয়েছিল লিসিকিকে। র্যাঙ্কিংয়ের চার নম্বরে থাকা আগ্নিয়েস্কা রাদভানস্কাই ছিলেন আজকের ম্যাচের ফেবারিট। কিন্তু অঘটনের উইম্বলডনে উল্টোটাই ঘটবে, এটাই যেন স্বাভাবিক। হলোই তা-ই। উত্তেজনাপূর্ণ সেমিফাইনালে ৬-৪, ২-৬, ৯-৭ গেমের জয় দিয়ে লিসিকি প্রথমবারের মতো পা রাখলেন উইম্বলডনের ফাইনালে।প্রথম সেটে ৬-৪ গেমের জয় দিয়ে শুরুটা দারুণভাবে করেছিলেন জার্মান তারকা লিসিকি। দ্বিতীয় সেটে ঘুরে দাঁড়ান রাদভানস্কা। খেলায় সমতা ফেরান ২-৬ গেমের জয় দিয়ে। ফলাফল নির্ধারণী তৃতীয় সেটের শুরুতেও বেশ খানিকটা সময় এগিয়ে ছিলেন রাদভানস্কা। কিন্তু ৩-০ ব্যবধানে পিছিয়ে পড়ার পর যেন মরিয়া হয়ে ওঠেন লিসিকি। ঘুরে দাঁড়াতে থাকেন নাটকীয়ভাবে। দুই ঘণ্টা ১৮ মিনিটের শ্বাসরুদ্ধকর লড়াইয়ের পর শেষ হাসিটাও হেসেছেন ২৩ বছর বয়সী লিসিকি।উইম্বলডনের অপর সেমিফাইনালে মারিওন বারতোলি অনায়াসেই হারিয়েছেন বেলজিয়ামের কারস্টেন ফ্লিপকেনসকে। ৬-১, ৬-২ গেমের জয় দিয়ে ফাইনাল নিশ্চিত করেছেন বারতোলি।শিরোপা জয়ের চূড়ান্ত লড়াইয়ে আগামী শনিবার মুখোমুখি হবেন বারতোলি ও লিসিকি।— রয়টার্স'"
            ]
          },
          "execution_count": 22,
          "metadata": {},
          "output_type": "execute_result"
        }
      ],
      "source": [
        "X_text[0]"
      ]
    },
    {
      "cell_type": "code",
      "execution_count": 23,
      "metadata": {
        "colab": {
          "base_uri": "https://localhost:8080/",
          "height": 36
        },
        "id": "QUp7ahOVkXse",
        "outputId": "5b267407-128b-49e5-e580-ec8923b0022b"
      },
      "outputs": [
        {
          "data": {
            "application/vnd.google.colaboratory.intrinsic+json": {
              "type": "string"
            },
            "text/plain": [
              "'sports'"
            ]
          },
          "execution_count": 23,
          "metadata": {},
          "output_type": "execute_result"
        }
      ],
      "source": [
        "y_label[0]"
      ]
    },
    {
      "cell_type": "code",
      "execution_count": 24,
      "metadata": {
        "colab": {
          "base_uri": "https://localhost:8080/"
        },
        "id": "BJpnHtNdkc45",
        "outputId": "fd65f33a-a2d0-4d90-985b-47f83b0633e1"
      },
      "outputs": [
        {
          "data": {
            "text/plain": [
              "(True, 175967)"
            ]
          },
          "execution_count": 24,
          "metadata": {},
          "output_type": "execute_result"
        }
      ],
      "source": [
        "len(X_text) == len(y_label) , len(y_label)"
      ]
    },
    {
      "cell_type": "code",
      "execution_count": 25,
      "metadata": {
        "colab": {
          "base_uri": "https://localhost:8080/"
        },
        "id": "Fpdxfnabkt9K",
        "outputId": "b5f227c9-3290-4e8b-c88d-e7931524a76a"
      },
      "outputs": [
        {
          "data": {
            "text/plain": [
              "{'economy',\n",
              " 'education',\n",
              " 'entertainment',\n",
              " 'international',\n",
              " 'life-style',\n",
              " 'opinion',\n",
              " 'sports',\n",
              " 'technology'}"
            ]
          },
          "execution_count": 25,
          "metadata": {},
          "output_type": "execute_result"
        }
      ],
      "source": [
        "\n",
        "set(y_label)"
      ]
    },
    {
      "cell_type": "code",
      "execution_count": 26,
      "metadata": {
        "colab": {
          "base_uri": "https://localhost:8080/"
        },
        "id": "4m1IcNWNk3pT",
        "outputId": "b3f3b18e-836d-4f22-c88d-20a2538c8278"
      },
      "outputs": [
        {
          "data": {
            "text/plain": [
              "['economy',\n",
              " 'education',\n",
              " 'entertainment',\n",
              " 'international',\n",
              " 'life-style',\n",
              " 'opinion',\n",
              " 'sports',\n",
              " 'technology']"
            ]
          },
          "execution_count": 26,
          "metadata": {},
          "output_type": "execute_result"
        }
      ],
      "source": [
        "sorted(sel_cats)"
      ]
    },
    {
      "cell_type": "code",
      "execution_count": 27,
      "metadata": {
        "colab": {
          "base_uri": "https://localhost:8080/"
        },
        "id": "fniWMm04k6T4",
        "outputId": "007a847e-7fdf-4f22-f8a0-a8c52e25afdd"
      },
      "outputs": [
        {
          "data": {
            "text/plain": [
              "True"
            ]
          },
          "execution_count": 27,
          "metadata": {},
          "output_type": "execute_result"
        }
      ],
      "source": [
        "len(set(y_label)) == len(sel_cats)"
      ]
    },
    {
      "cell_type": "markdown",
      "metadata": {
        "id": "hHytrpLKk_YQ"
      },
      "source": [
        "## Convert the categorical labels to numeric \n"
      ]
    },
    {
      "cell_type": "code",
      "execution_count": 28,
      "metadata": {
        "id": "mKV0h0dfsaic"
      },
      "outputs": [],
      "source": [
        "\n",
        "from sklearn.preprocessing import LabelEncoder\n",
        "encoder = LabelEncoder()\n",
        "\n",
        "class_labels = encoder.fit_transform(y_label)"
      ]
    },
    {
      "cell_type": "code",
      "execution_count": 29,
      "metadata": {
        "colab": {
          "base_uri": "https://localhost:8080/"
        },
        "id": "jcLDdyx1lZf-",
        "outputId": "f3ec1fd0-df70-49df-9863-f86c8f2adef7"
      },
      "outputs": [
        {
          "data": {
            "text/plain": [
              "True"
            ]
          },
          "execution_count": 29,
          "metadata": {},
          "output_type": "execute_result"
        }
      ],
      "source": [
        "len(class_labels) == len(y_label)"
      ]
    },
    {
      "cell_type": "code",
      "execution_count": 30,
      "metadata": {
        "colab": {
          "base_uri": "https://localhost:8080/"
        },
        "id": "X0jfKXGAnoLh",
        "outputId": "fafceb2b-6e02-4c16-ba7e-eb6f2d0c8adb"
      },
      "outputs": [
        {
          "data": {
            "text/plain": [
              "{0, 1, 2, 3, 4, 5, 6, 7}"
            ]
          },
          "execution_count": 30,
          "metadata": {},
          "output_type": "execute_result"
        }
      ],
      "source": [
        "set(class_labels)"
      ]
    },
    {
      "cell_type": "code",
      "execution_count": 31,
      "metadata": {
        "colab": {
          "base_uri": "https://localhost:8080/"
        },
        "id": "8URY302Yl9Od",
        "outputId": "e260413e-9c47-4c6c-caa8-3a3af89b74cb"
      },
      "outputs": [
        {
          "data": {
            "text/plain": [
              "array(['economy', 'education', 'entertainment', 'international',\n",
              "       'life-style', 'opinion', 'sports', 'technology'], dtype='<U13')"
            ]
          },
          "execution_count": 31,
          "metadata": {},
          "output_type": "execute_result"
        }
      ],
      "source": [
        "encoder.inverse_transform(list(set(class_labels)))"
      ]
    },
    {
      "cell_type": "code",
      "execution_count": 32,
      "metadata": {
        "colab": {
          "base_uri": "https://localhost:8080/"
        },
        "id": "bMiV_giUnzKA",
        "outputId": "4c4a5741-bb0b-4e92-e60a-6f49d1bba14b"
      },
      "outputs": [
        {
          "data": {
            "text/plain": [
              "[(0, 'economy'),\n",
              " (1, 'education'),\n",
              " (2, 'entertainment'),\n",
              " (3, 'international'),\n",
              " (4, 'life-style'),\n",
              " (5, 'opinion'),\n",
              " (6, 'sports'),\n",
              " (7, 'technology')]"
            ]
          },
          "execution_count": 32,
          "metadata": {},
          "output_type": "execute_result"
        }
      ],
      "source": [
        "\n",
        "list(zip(set(class_labels), list(encoder.inverse_transform(list(set(class_labels))))))"
      ]
    },
    {
      "cell_type": "code",
      "execution_count": 33,
      "metadata": {
        "colab": {
          "base_uri": "https://localhost:8080/"
        },
        "id": "uDEgO-dOoTQf",
        "outputId": "35411ed5-c407-480b-fbfc-5f64ef6028e8"
      },
      "outputs": [
        {
          "data": {
            "text/plain": [
              "numpy.ndarray"
            ]
          },
          "execution_count": 33,
          "metadata": {},
          "output_type": "execute_result"
        }
      ],
      "source": [
        "type(class_labels) "
      ]
    },
    {
      "cell_type": "code",
      "execution_count": 34,
      "metadata": {
        "colab": {
          "base_uri": "https://localhost:8080/"
        },
        "id": "6kXMWALyokqV",
        "outputId": "84d012c0-2199-4d8c-862d-cd09ad6483b5"
      },
      "outputs": [
        {
          "data": {
            "text/plain": [
              "(175967,)"
            ]
          },
          "execution_count": 34,
          "metadata": {},
          "output_type": "execute_result"
        }
      ],
      "source": [
        "class_labels.shape"
      ]
    },
    {
      "cell_type": "code",
      "execution_count": 35,
      "metadata": {
        "colab": {
          "base_uri": "https://localhost:8080/"
        },
        "id": "EqpNq3iCooMu",
        "outputId": "891dd404-b07d-4d09-ba2a-ccc42505edfd"
      },
      "outputs": [
        {
          "data": {
            "text/plain": [
              "(175967, 1)"
            ]
          },
          "execution_count": 35,
          "metadata": {},
          "output_type": "execute_result"
        }
      ],
      "source": [
        "import numpy as np\n",
        "np.shape(np.reshape(class_labels, newshape=(class_labels.shape[0], 1)))"
      ]
    },
    {
      "cell_type": "code",
      "execution_count": 36,
      "metadata": {
        "id": "dshKIoIppXmd"
      },
      "outputs": [],
      "source": [
        "# apply one hot encoding to the class label for binary encoding\n",
        "from sklearn.preprocessing import OneHotEncoder\n",
        "encoder = OneHotEncoder(sparse = False)\n",
        "\n",
        "class_labels = class_labels.reshape((class_labels.shape[0],1))\n",
        "y_ohe = encoder.fit_transform(class_labels)"
      ]
    },
    {
      "cell_type": "code",
      "execution_count": 37,
      "metadata": {
        "colab": {
          "base_uri": "https://localhost:8080/"
        },
        "id": "kHC4LTyQ5fNU",
        "outputId": "5e365571-23fe-4fdf-ce53-979e4077e9f8"
      },
      "outputs": [
        {
          "data": {
            "text/plain": [
              "(175967, 8)"
            ]
          },
          "execution_count": 37,
          "metadata": {},
          "output_type": "execute_result"
        }
      ],
      "source": [
        "\n",
        "y_ohe.shape"
      ]
    },
    {
      "cell_type": "code",
      "execution_count": 38,
      "metadata": {
        "colab": {
          "base_uri": "https://localhost:8080/"
        },
        "id": "T6eiXEqO5hjQ",
        "outputId": "b08b95d9-553a-40d9-f143-c07421e1f7cc"
      },
      "outputs": [
        {
          "data": {
            "text/plain": [
              "array([0., 0., 0., 0., 0., 0., 0., 1.])"
            ]
          },
          "execution_count": 38,
          "metadata": {},
          "output_type": "execute_result"
        }
      ],
      "source": [
        "y_ohe[1]"
      ]
    },
    {
      "cell_type": "code",
      "execution_count": 39,
      "metadata": {
        "colab": {
          "base_uri": "https://localhost:8080/"
        },
        "id": "r8osnsFn5mQV",
        "outputId": "4fc2c4c4-6699-4152-85ab-1cc944e06aa8"
      },
      "outputs": [
        {
          "data": {
            "text/plain": [
              "array([7])"
            ]
          },
          "execution_count": 39,
          "metadata": {},
          "output_type": "execute_result"
        }
      ],
      "source": [
        "class_labels[1]"
      ]
    },
    {
      "cell_type": "markdown",
      "metadata": {
        "id": "PSRNU4qO6S0r"
      },
      "source": [
        "## tokenize the texts input to convert tokens to numeric\n"
      ]
    },
    {
      "cell_type": "code",
      "execution_count": 40,
      "metadata": {
        "colab": {
          "base_uri": "https://localhost:8080/",
          "height": 145
        },
        "id": "lTEbqAb-66hV",
        "outputId": "30f1118b-deda-42b4-a45b-e4133c82d599"
      },
      "outputs": [
        {
          "data": {
            "application/vnd.google.colaboratory.intrinsic+json": {
              "type": "string"
            },
            "text/plain": [
              "'এবারের উইম্বলডনটা স্মরণীয় করে রাখার মিশনেই যেন নেমেছেন সাবিনা লিসিকি। চতুর্থ রাউন্ডের লড়াইয়ে সেরেনা উইলিয়ামসকে হারিয়ে শুরু করেছিলেন স্বপ্নযাত্রা। কোয়ার্টার ফাইনালে কাইয়া কানেপিকে হারাতে খুব একটা বেগ পেতে হয়নি। তবে সেমিফাইনালে কঠিন প্রতিপক্ষের মুখেই পড়তে হয়েছিল লিসিকিকে। র্যাঙ্কিংয়ের চার নম্বরে থাকা আগ্নিয়েস্কা রাদভানস্কাই ছিলেন আজকের ম্যাচের ফেবারিট। কিন্তু অঘটনের উইম্বলডনে উল্টোটাই ঘটবে, এটাই যেন স্বাভাবিক। হলোই তা-ই। উত্তেজনাপূর্ণ সেমিফাইনালে ৬-৪, ২-৬, ৯-৭ গেমের জয় দিয়ে লিসিকি প্রথমবারের মতো পা রাখলেন উইম্বলডনের ফাইনালে।প্রথম সেটে ৬-৪ গেমের জয় দিয়ে শুরুটা দারুণভাবে করেছিলেন জার্মান তারকা লিসিকি। দ্বিতীয় সেটে ঘুরে দাঁড়ান রাদভানস্কা। খেলায় সমতা ফেরান ২-৬ গেমের জয় দিয়ে। ফলাফল নির্ধারণী তৃতীয় সেটের শুরুতেও বেশ খানিকটা সময় এগিয়ে ছিলেন রাদভানস্কা। কিন্তু ৩-০ ব্যবধানে পিছিয়ে পড়ার পর যেন মরিয়া হয়ে ওঠেন লিসিকি। ঘুরে দাঁড়াতে থাকেন নাটকীয়ভাবে। দুই ঘণ্টা ১৮ মিনিটের শ্বাসরুদ্ধকর লড়াইয়ের পর শেষ হাসিটাও হেসেছেন ২৩ বছর বয়সী লিসিকি।উইম্বলডনের অপর সেমিফাইনালে মারিওন বারতোলি অনায়াসেই হারিয়েছেন বেলজিয়ামের কারস্টেন ফ্লিপকেনসকে। ৬-১, ৬-২ গেমের জয় দিয়ে ফাইনাল নিশ্চিত করেছেন বারতোলি।শিরোপা জয়ের চূড়ান্ত লড়াইয়ে আগামী শনিবার মুখোমুখি হবেন বারতোলি ও লিসিকি।— রয়টার্স'"
            ]
          },
          "execution_count": 40,
          "metadata": {},
          "output_type": "execute_result"
        }
      ],
      "source": [
        "X_text[0]"
      ]
    },
    {
      "cell_type": "code",
      "execution_count": 41,
      "metadata": {
        "id": "PxM1dbb-62lk"
      },
      "outputs": [],
      "source": [
        "from tensorflow.keras.preprocessing.text import Tokenizer\n",
        "\n",
        "tokenizer = Tokenizer()\n",
        "tokenizer.fit_on_texts(X_text) # Only words known by the tokenizer will be taken into account\n",
        "X_token = tokenizer.texts_to_sequences(X_text) # Transforms each text in texts to a sequence of integers\n"
      ]
    },
    {
      "cell_type": "code",
      "execution_count": 42,
      "metadata": {
        "colab": {
          "base_uri": "https://localhost:8080/"
        },
        "id": "MRVVC5VR8JV4",
        "outputId": "909b786c-4865-48af-8f1d-928575b69af4"
      },
      "outputs": [
        {
          "data": {
            "text/plain": [
              "dict"
            ]
          },
          "execution_count": 42,
          "metadata": {},
          "output_type": "execute_result"
        }
      ],
      "source": [
        "type(tokenizer.word_index)"
      ]
    },
    {
      "cell_type": "code",
      "execution_count": 43,
      "metadata": {
        "colab": {
          "base_uri": "https://localhost:8080/"
        },
        "id": "2KYoJkRB9tES",
        "outputId": "c4a95982-d7d5-4b90-bd50-165a07e4ef50"
      },
      "outputs": [
        {
          "name": "stdout",
          "output_type": "stream",
          "text": [
            "ও\n",
            "এই\n",
            "করে\n",
            "থেকে\n",
            "এ\n",
            "না\n",
            "করা\n",
            "জন্য\n",
            "সঙ্গে\n",
            "আর\n",
            "করতে\n"
          ]
        }
      ],
      "source": [
        "for index, token  in enumerate(tokenizer.word_index):\n",
        "  print(token)\n",
        "  if index == 10:\n",
        "    break\n"
      ]
    },
    {
      "cell_type": "code",
      "execution_count": 44,
      "metadata": {
        "colab": {
          "base_uri": "https://localhost:8080/"
        },
        "id": "GbFDkT_j8INV",
        "outputId": "e9e1aaee-cb4c-4f39-db7a-628bf15e44a1"
      },
      "outputs": [
        {
          "data": {
            "text/plain": [
              "1627184"
            ]
          },
          "execution_count": 44,
          "metadata": {},
          "output_type": "execute_result"
        }
      ],
      "source": [
        "\n",
        "\n",
        "vocab_size = len(tokenizer.word_index)+1 \n",
        "vocab_size"
      ]
    },
    {
      "cell_type": "code",
      "execution_count": 45,
      "metadata": {
        "colab": {
          "base_uri": "https://localhost:8080/"
        },
        "id": "-OasTnc271KB",
        "outputId": "d675240d-8dc2-4886-fe11-667035a2cd31"
      },
      "outputs": [
        {
          "data": {
            "text/plain": [
              "[[66, 160, 28629]]"
            ]
          },
          "execution_count": 45,
          "metadata": {},
          "output_type": "execute_result"
        }
      ],
      "source": [
        "tokenizer.texts_to_sequences([\"আমার নাম ফয়সাল\"])"
      ]
    },
    {
      "cell_type": "code",
      "execution_count": 46,
      "metadata": {
        "colab": {
          "base_uri": "https://localhost:8080/"
        },
        "id": "tAZPyEosAE48",
        "outputId": "ee24bf2a-40b2-4d7c-9dc2-b50ece874249"
      },
      "outputs": [
        {
          "name": "stdout",
          "output_type": "stream",
          "text": [
            "বিচ্ছেদের এক বছর পরও কেটি হোমসকে ভুলতে পারছেন না ‘মিশন ইমপসিবল’ তারকা টম ক্রুজ। আর তাই তো সম্প্রতি তিনি সাবেক স্ত্রীকে আবেগঘন এক চিঠি লিখেছেন পুনর্মিলনের আশাবাদ ব্যক্ত করে।এ প্রসঙ্গে ঘনিষ্ঠ সূত্রের বরাতে কনট্যাক্টমিউজিক জানিয়েছে, কেটির বিচ্ছেদের আবেদনের পরিপ্রেক্ষিতে গত বছরের জুলাইয়ে পাঁচ বছরের দাম্পত্যের ইতি টানার চূড়ান্ত সিদ্ধান্ত নিয়েছিলেন কেটি ও ক্রুজ। দেখতে দেখতে বছর ঘুরে আবার জুলাই মাস এসে গেছে। কেটিকে কোনোভাবেই মন থেকে মুছে ফেলতে পারছেন না ক্রুজ। তিনি উপলব্ধি করেছেন, আজীবন কেটিকে ভালোবেসে যাওয়া ছাড়া তাঁর সামনে আর কোনো পথ খোলা নেই।হঠাৎ করেই গত বছর ক্রুজের ৫০তম জন্মদিনের কয়েকদিন আগে তাঁকে ছেড়ে চলে যান কেটি। ওই ঘটনায় কেবল ক্রুজই অবাক হননি, অবাক হয়েছিল পুরো বিশ্ব। শুরুতে কেটির ওপর ক্ষুব্ধ হলেও দিনের পর দিন ক্রুজ ভেবেছেন কেন তাঁকে ছেড়ে চলে গেলেন কেটি। শেষ পর্যন্ত কেটির সেই কঠিন সিদ্ধান্ত নেওয়ার পেছনের কারণ অনুধাবন করতে পেরেছেন ক্রুজ।কেটির ওপর থেকে রাগ ও অভিমান পুরোপুরি সরাতে দীর্ঘ সময় লেগেছে ক্রুজের। গত মার্চে তাঁদের পুনর্মিলনের চেষ্টা করেছিলেন মধ্যস্থতাকারীরা। কিন্তু কোনো লাভ হয়নি। সেই থেকে কথা বন্ধ রয়েছে সাবেক এ তারকা দম্পতির মধ্যে।কিন্তু ক্রুজ যেকোনো উপায়ে কেটিকে ফিরে পাওয়ার জন্য দৃঢ়প্রতিজ্ঞ। কেটি তাঁর জীবনে ফিরে না এলেও অন্তত বন্ধুত্বপূর্ণ সম্পর্ক বজায় রাখবেন—এমনটাই প্রত্যাশা তাঁর। একমাত্র মেয়ে সাত বছর বয়সী সুরির মুখের দিকে তাকিয়ে সব ভুলে আবার ফিরে আশার কথা জানিয়েই সম্প্রতি কেটিকে চিঠি লিখেছেন ক্রুজ।\n",
            "[5197, 14, 41, 645, 13064, 102114, 7052, 1656, 6, 30787, 119589, 547, 4357, 28405, 10, 97, 96, 383, 19, 233, 6161, 19137, 14, 1752, 808, 54822, 9150, 3980, 28576, 930, 2587, 5214, 7594, 531383, 2622, 55586, 5197, 3476, 2071, 54, 126, 20924, 272, 126, 37785, 6251, 12519, 2608, 274, 12693, 13064, 1, 28405, 318, 318, 41, 905, 137, 678, 402, 351, 282, 110002, 3160, 755, 4, 2772, 1813, 1656, 6, 28405, 19, 3814, 88, 5269, 110002, 10167, 2976, 657, 13, 242, 10, 27, 714, 1924, 171342, 613, 54, 41, 16763, 13932, 6036, 78910, 43, 139, 2549, 236, 662, 75334, 67, 4829, 591, 148011, 1927, 6466, 1927, 2552, 445, 13877, 1119, 55586, 102, 3192, 249, 295, 24, 81, 7985, 14946, 207, 139, 2549, 236, 1206, 75334, 57, 91, 55586, 36, 548, 274, 2507, 3370, 118, 7952, 11, 3954, 531384, 102, 4, 4261, 1, 9949, 1480, 12390, 840, 439, 3894, 208125, 54, 3809, 79, 54822, 219, 466, 355685, 16, 27, 1079, 2876, 36, 4, 33, 316, 1593, 233, 5, 547, 6588, 187258, 7985, 491, 17323, 110002, 331, 3161, 8, 110003, 13064, 13, 1038, 331, 6, 5330, 540, 11857, 506, 11277, 355686, 1836, 1420, 876, 6551, 680, 41, 3365, 69436, 3309, 215, 13370, 50, 1415, 137, 331, 2517, 33, 77106, 383, 110002, 1752, 808, 28405]\n"
          ]
        }
      ],
      "source": [
        "print(X_text[5])\n",
        "print(X_token[5])"
      ]
    },
    {
      "cell_type": "code",
      "execution_count": 47,
      "metadata": {
        "colab": {
          "base_uri": "https://localhost:8080/"
        },
        "id": "s8ek1D-JAo-D",
        "outputId": "06c4762c-6803-4cf3-b07b-81f39ee1610d"
      },
      "outputs": [
        {
          "data": {
            "text/plain": [
              "(1350, 212)"
            ]
          },
          "execution_count": 47,
          "metadata": {},
          "output_type": "execute_result"
        }
      ],
      "source": [
        "len(X_text[5]) , len(X_token[5]) "
      ]
    },
    {
      "cell_type": "code",
      "execution_count": 48,
      "metadata": {
        "colab": {
          "base_uri": "https://localhost:8080/"
        },
        "id": "dXQtBEIZDC4s",
        "outputId": "9369ebb7-2d8e-44bb-aaf8-299c0c28e73b"
      },
      "outputs": [
        {
          "name": "stdout",
          "output_type": "stream",
          "text": [
            "আ\n",
            "ম\n",
            "া\n",
            "র\n",
            " \n",
            "ন\n",
            "া\n",
            "ম\n",
            " \n",
            "ফ\n",
            "য\n",
            "়\n",
            "স\n",
            "া\n",
            "ল\n"
          ]
        }
      ],
      "source": [
        "for i in \"আমার নাম ফয়সাল\":\n",
        "  print(i)"
      ]
    },
    {
      "cell_type": "code",
      "execution_count": 49,
      "metadata": {
        "colab": {
          "base_uri": "https://localhost:8080/"
        },
        "id": "8Xnv0rc1DLJ7",
        "outputId": "a4b81d42-6803-40d3-920f-858ed6313c64"
      },
      "outputs": [
        {
          "data": {
            "text/plain": [
              "15"
            ]
          },
          "execution_count": 49,
          "metadata": {},
          "output_type": "execute_result"
        }
      ],
      "source": [
        "\n",
        "\n",
        "\n",
        "\n",
        "len(\"আমার নাম ফয়সাল\")"
      ]
    },
    {
      "cell_type": "code",
      "execution_count": 50,
      "metadata": {
        "colab": {
          "base_uri": "https://localhost:8080/"
        },
        "id": "VT4yBZgxK2V5",
        "outputId": "c130ed09-bf26-420f-a92a-c86ac7f07d00"
      },
      "outputs": [
        {
          "name": "stdout",
          "output_type": "stream",
          "text": [
            "28629\n"
          ]
        }
      ],
      "source": [
        "if \"ফয়সাল\" in tokenizer.word_index:\n",
        "  print(tokenizer.word_index[\"ফয়সাল\"])"
      ]
    },
    {
      "cell_type": "code",
      "execution_count": 51,
      "metadata": {
        "colab": {
          "base_uri": "https://localhost:8080/"
        },
        "id": "GdbPmwrXAywg",
        "outputId": "e145fb94-4c5f-4430-cac3-35a66cadef8f"
      },
      "outputs": [
        {
          "data": {
            "text/plain": [
              "['বিচ্ছেদের এক বছর পরও কেটি হোমসকে ভুলতে পারছেন না ‘মিশন ইমপসিবল’ তারকা টম ক্রুজ। আর তাই তো সম্প্রতি তিনি সাবেক স্ত্রীকে আবেগঘন এক চিঠি লিখেছেন পুনর্মিলনের আশাবাদ ব্যক্ত করে।এ প্রসঙ্গে ঘনিষ্ঠ সূত্রের বরাতে কনট্যাক্টমিউজিক জানিয়েছে কেটির বিচ্ছেদের আবেদনের পরিপ্রেক্ষিতে গত বছরের জুলাইয়ে পাঁচ বছরের দাম্পত্যের ইতি টানার চূড়ান্ত সিদ্ধান্ত নিয়েছিলেন কেটি ও ক্রুজ। দেখতে দেখতে বছর ঘুরে আবার জুলাই মাস এসে গেছে। কেটিকে কোনোভাবেই মন থেকে মুছে ফেলতে পারছেন না ক্রুজ। তিনি উপলব্ধি করেছেন আজীবন কেটিকে ভালোবেসে যাওয়া ছাড়া তাঁর সামনে আর কোনো পথ খোলা নেই।হঠাৎ করেই গত বছর ক্রুজের ৫০তম জন্মদিনের কয়েকদিন আগে তাঁকে ছেড়ে চলে যান কেটি। ওই ঘটনায় কেবল ক্রুজই অবাক হননি অবাক হয়েছিল পুরো বিশ্ব। শুরুতে কেটির ওপর ক্ষুব্ধ হলেও দিনের পর দিন ক্রুজ ভেবেছেন কেন তাঁকে ছেড়ে চলে গেলেন কেটি। শেষ পর্যন্ত কেটির সেই কঠিন সিদ্ধান্ত নেওয়ার পেছনের কারণ অনুধাবন করতে পেরেছেন ক্রুজ।কেটির ওপর থেকে রাগ ও অভিমান পুরোপুরি সরাতে দীর্ঘ সময় লেগেছে ক্রুজের। গত মার্চে তাঁদের পুনর্মিলনের চেষ্টা করেছিলেন মধ্যস্থতাকারীরা। কিন্তু কোনো লাভ হয়নি। সেই থেকে কথা বন্ধ রয়েছে সাবেক এ তারকা দম্পতির মধ্যে।কিন্তু ক্রুজ যেকোনো উপায়ে কেটিকে ফিরে পাওয়ার জন্য দৃঢ়প্রতিজ্ঞ। কেটি তাঁর জীবনে ফিরে না এলেও অন্তত বন্ধুত্বপূর্ণ সম্পর্ক বজায় রাখবেন—এমনটাই প্রত্যাশা তাঁর। একমাত্র মেয়ে সাত বছর বয়সী সুরির মুখের দিকে তাকিয়ে সব ভুলে আবার ফিরে আশার কথা জানিয়েই সম্প্রতি কেটিকে চিঠি লিখেছেন ক্রুজ।']"
            ]
          },
          "execution_count": 51,
          "metadata": {},
          "output_type": "execute_result"
        }
      ],
      "source": [
        "\n",
        "\n",
        "\n",
        "\n",
        "\n",
        "tokenizer.sequences_to_texts([X_token[5]])"
      ]
    },
    {
      "cell_type": "markdown",
      "metadata": {
        "id": "KK7r6CJWBDZI"
      },
      "source": [
        "## pad the sequences\n"
      ]
    },
    {
      "cell_type": "code",
      "execution_count": 52,
      "metadata": {
        "id": "BAlhJWH3CGer"
      },
      "outputs": [],
      "source": [
        "\n",
        "\n",
        "\n",
        "from tensorflow.keras.preprocessing.sequence import pad_sequences\n",
        "\n",
        "maxlen = 300\n",
        "\n",
        "X_pad = pad_sequences(X_token, padding = \"post\", maxlen = maxlen)\n",
        "\n"
      ]
    },
    {
      "cell_type": "code",
      "execution_count": 53,
      "metadata": {
        "colab": {
          "base_uri": "https://localhost:8080/"
        },
        "id": "tcVLX6ldvqUf",
        "outputId": "ec2c3aaf-1f1b-41e8-a7df-925b292e1abf"
      },
      "outputs": [
        {
          "data": {
            "text/plain": [
              "numpy.ndarray"
            ]
          },
          "execution_count": 53,
          "metadata": {},
          "output_type": "execute_result"
        }
      ],
      "source": [
        "type(X_pad)"
      ]
    },
    {
      "cell_type": "code",
      "execution_count": 54,
      "metadata": {
        "colab": {
          "base_uri": "https://localhost:8080/"
        },
        "id": "RbSm-KRCM53-",
        "outputId": "0a987313-65b2-4552-f25c-ab6cc6e6267b"
      },
      "outputs": [
        {
          "data": {
            "text/plain": [
              "(175967, 300)"
            ]
          },
          "execution_count": 54,
          "metadata": {},
          "output_type": "execute_result"
        }
      ],
      "source": [
        "X_pad.shape"
      ]
    },
    {
      "cell_type": "code",
      "execution_count": 55,
      "metadata": {
        "colab": {
          "base_uri": "https://localhost:8080/"
        },
        "id": "KQyMMlM9SWsv",
        "outputId": "2579abd4-880a-4359-bfc0-a50d6f8a93f7"
      },
      "outputs": [
        {
          "data": {
            "text/plain": [
              "(175967, 8)"
            ]
          },
          "execution_count": 55,
          "metadata": {},
          "output_type": "execute_result"
        }
      ],
      "source": [
        "y_ohe.shape"
      ]
    },
    {
      "cell_type": "code",
      "execution_count": 56,
      "metadata": {
        "colab": {
          "base_uri": "https://localhost:8080/"
        },
        "id": "ipRvExXQQCI9",
        "outputId": "f31c8218-b759-4293-9f11-235fce3f6068"
      },
      "outputs": [
        {
          "data": {
            "text/plain": [
              "1627184"
            ]
          },
          "execution_count": 56,
          "metadata": {},
          "output_type": "execute_result"
        }
      ],
      "source": [
        "vocab_size"
      ]
    },
    {
      "cell_type": "code",
      "execution_count": 57,
      "metadata": {
        "colab": {
          "base_uri": "https://localhost:8080/"
        },
        "id": "p2rkMPgGSUtM",
        "outputId": "64d37165-1c14-41fc-c54b-41412a9597d9"
      },
      "outputs": [
        {
          "data": {
            "text/plain": [
              "300"
            ]
          },
          "execution_count": 57,
          "metadata": {},
          "output_type": "execute_result"
        }
      ],
      "source": [
        "maxlen"
      ]
    },
    {
      "cell_type": "code",
      "execution_count": 58,
      "metadata": {
        "colab": {
          "base_uri": "https://localhost:8080/"
        },
        "id": "SY0XvXqBSeBN",
        "outputId": "5685a311-c64a-493d-d26f-239ebe32b596"
      },
      "outputs": [
        {
          "data": {
            "text/plain": [
              "array([   599, 171336,  17280,      3,    595,  92603,    179,   8765,\n",
              "         8146, 131791,    940,   8294,   8295,   7830, 102112,   3547,\n",
              "           46,    466,  98611,   8615,    763, 236869, 280924,   3041,\n",
              "          107,     68,   8906,    366,   2876,     26,   2112,    548,\n",
              "         1907,   9000,   3088,   2552, 280925,  69433,    206,   2664,\n",
              "          208,  89902, 355676,    148,   1088,    335,  17450,     16,\n",
              "        16978,  21599,  45122,   5730,    814,    179,   3599,  41734,\n",
              "           28,   7272,  25246,   2112,    216,    184,     99,    216,\n",
              "          287,    264,  10949,   3220,    469, 125257,   1248,     89,\n",
              "          833,   5625,  13931, 355677,   4782,    216,    184,  10949,\n",
              "         3220,    469,   2364,   6350,    466,   2174,    547, 131791,\n",
              "         1677,   4782,    905,  39646, 105773,   9191,   4779,   8440,\n",
              "           99,    216,  10949,   3220,  10130,   1606,  10272,   3190,\n",
              "        11309,  29577,    134,   2755,    439,   2371,    148, 105773,\n",
              "           16,    136,    414,   1407,   6411,   4312,     24,    179,\n",
              "        21129,    343,   4814, 131791,    905,  10457,   1243, 355678,\n",
              "           37,    800,    458,   2093,  19807,  12941,     24,     57,\n",
              "       119587,  53432,    456,     41,   3365, 531348,   2963,   2112,\n",
              "        87357,  64696,  60717,  21682,  35159,  21448, 531349,    216,\n",
              "           76,    216,     99,  10949,   3220,    469,   1727,    270,\n",
              "           88, 531350,   3791,   2608,   8295,    279,    658,   1027,\n",
              "         1447,  64696,      1, 531351,  11084,      0,      0,      0,\n",
              "            0,      0,      0,      0,      0,      0,      0,      0,\n",
              "            0,      0,      0,      0,      0,      0,      0,      0,\n",
              "            0,      0,      0,      0,      0,      0,      0,      0,\n",
              "            0,      0,      0,      0,      0,      0,      0,      0,\n",
              "            0,      0,      0,      0,      0,      0,      0,      0,\n",
              "            0,      0,      0,      0,      0,      0,      0,      0,\n",
              "            0,      0,      0,      0,      0,      0,      0,      0,\n",
              "            0,      0,      0,      0,      0,      0,      0,      0,\n",
              "            0,      0,      0,      0,      0,      0,      0,      0,\n",
              "            0,      0,      0,      0,      0,      0,      0,      0,\n",
              "            0,      0,      0,      0,      0,      0,      0,      0,\n",
              "            0,      0,      0,      0,      0,      0,      0,      0,\n",
              "            0,      0,      0,      0,      0,      0,      0,      0,\n",
              "            0,      0,      0,      0,      0,      0,      0,      0,\n",
              "            0,      0,      0,      0,      0,      0,      0,      0,\n",
              "            0,      0,      0,      0], dtype=int32)"
            ]
          },
          "execution_count": 58,
          "metadata": {},
          "output_type": "execute_result"
        }
      ],
      "source": [
        "X_pad[0]"
      ]
    },
    {
      "cell_type": "code",
      "execution_count": 59,
      "metadata": {
        "colab": {
          "base_uri": "https://localhost:8080/"
        },
        "id": "8wywXTOpSl7x",
        "outputId": "e209b2d5-5535-462e-f25c-6355d1d70e36"
      },
      "outputs": [
        {
          "data": {
            "text/plain": [
              "(173, 300)"
            ]
          },
          "execution_count": 59,
          "metadata": {},
          "output_type": "execute_result"
        }
      ],
      "source": [
        "len(X_token[0]) , len(X_pad[0])"
      ]
    },
    {
      "cell_type": "code",
      "execution_count": 60,
      "metadata": {
        "id": "v0TV93VISyoy"
      },
      "outputs": [],
      "source": [
        "unique, counts = np.unique(X_pad[0] , return_counts=True)\n",
        "padded_zeros = dict(zip(unique, counts))[0]"
      ]
    },
    {
      "cell_type": "code",
      "execution_count": 61,
      "metadata": {
        "colab": {
          "base_uri": "https://localhost:8080/"
        },
        "id": "X3lE7g9qTl-8",
        "outputId": "f6e55458-c9d4-4777-e5f2-95183fe4b01a"
      },
      "outputs": [
        {
          "data": {
            "text/plain": [
              "(True, 127)"
            ]
          },
          "execution_count": 61,
          "metadata": {},
          "output_type": "execute_result"
        }
      ],
      "source": [
        "len(X_pad[0]) - len(X_token[0])  == padded_zeros , padded_zeros"
      ]
    },
    {
      "cell_type": "markdown",
      "metadata": {
        "id": "qKfiqZzgayiR"
      },
      "source": [
        "## Bag Of Words"
      ]
    },
    {
      "cell_type": "code",
      "execution_count": null,
      "metadata": {
        "id": "bpvlxCSid_84"
      },
      "outputs": [],
      "source": [
        "# running this cell may crash the runtime due to ram overloading !!!"
      ]
    },
    {
      "cell_type": "code",
      "execution_count": 62,
      "metadata": {
        "colab": {
          "base_uri": "https://localhost:8080/",
          "height": 49,
          "referenced_widgets": [
            "4639e626c37e48edb924bbf0b3941290",
            "f997ec7a5e5d479bb09a0e1fc850a36e",
            "59080ecf7ba0488a9ac2587081611099",
            "a27e38b821b643f7a643238c9b9fa8d9",
            "55d32f0ce7d74ade8a47c5638f280aae",
            "b7c210e8d03842e28bb75588d5547f8d",
            "4ff8b4df881a4a4aa8c5b1ac2dcf62ed",
            "fa72f79d067049eaa83e2c687d41de7b",
            "31c1d15549524b0db2995551ddffb9c6",
            "d6094b9a6c7c4fd4bf38d8c66781f1b6",
            "73beee8c514f468eadff8f45f4f5330e"
          ]
        },
        "id": "yJL6NTbc_BdC",
        "outputId": "f361260d-fbee-4310-fa44-3b728e461607"
      },
      "outputs": [
        {
          "data": {
            "application/vnd.jupyter.widget-view+json": {
              "model_id": "4639e626c37e48edb924bbf0b3941290",
              "version_major": 2,
              "version_minor": 0
            },
            "text/plain": [
              "  0%|          | 0/175967 [00:00<?, ?it/s]"
            ]
          },
          "metadata": {},
          "output_type": "display_data"
        }
      ],
      "source": [
        "# from collections import Counter\n",
        "# from tqdm.notebook import tqdm_notebook\n",
        "# word_ls = []\n",
        "\n",
        "# for sen in tqdm_notebook(X_text):\n",
        "#     word_ls.extend(sen.split())"
      ]
    },
    {
      "cell_type": "code",
      "execution_count": 63,
      "metadata": {
        "colab": {
          "base_uri": "https://localhost:8080/"
        },
        "id": "s1H2d73a_O0K",
        "outputId": "fbb749fb-cb02-4e7c-85cb-ca67c2c6f23b"
      },
      "outputs": [
        {
          "data": {
            "text/plain": [
              "52940515"
            ]
          },
          "execution_count": 63,
          "metadata": {},
          "output_type": "execute_result"
        }
      ],
      "source": [
        "# len(word_ls)"
      ]
    },
    {
      "cell_type": "code",
      "execution_count": 64,
      "metadata": {
        "colab": {
          "base_uri": "https://localhost:8080/"
        },
        "id": "aAG_8Svi_ZjM",
        "outputId": "2d86fd09-aed9-4c8b-9a29-bdecce9daeb6"
      },
      "outputs": [
        {
          "data": {
            "text/plain": [
              "[('ও', 540451),\n",
              " ('এই', 342930),\n",
              " ('করে', 309547),\n",
              " ('থেকে', 297081),\n",
              " ('এ', 275336),\n",
              " ('জন্য', 208915),\n",
              " ('করা', 207361),\n",
              " ('সঙ্গে', 199351),\n",
              " ('আর', 186588),\n",
              " ('করতে', 180323),\n",
              " ('না', 174150),\n",
              " ('নিয়ে', 168112),\n",
              " ('তাঁর', 166179),\n",
              " ('এক', 162792),\n",
              " ('কিন্তু', 154714),\n",
              " ('যে', 152095),\n",
              " ('একটি', 151595),\n",
              " ('এবং', 150629),\n",
              " ('না।', 141479),\n",
              " ('তিনি', 139817)]"
            ]
          },
          "execution_count": 64,
          "metadata": {},
          "output_type": "execute_result"
        }
      ],
      "source": [
        "# Counter = Counter(word_ls)\n",
        "# most_occured_20 = Counter.most_common(20)\n",
        "# most_occured_20"
      ]
    },
    {
      "cell_type": "code",
      "execution_count": 66,
      "metadata": {
        "colab": {
          "base_uri": "https://localhost:8080/"
        },
        "id": "9OXuFRgabHMz",
        "outputId": "b262dc4d-e363-4889-d2bb-0bb46e2c87ca"
      },
      "outputs": [
        {
          "data": {
            "text/plain": [
              "[('ও', 540451),\n",
              " ('এই', 342930),\n",
              " ('করে', 309547),\n",
              " ('থেকে', 297081),\n",
              " ('এ', 275336),\n",
              " ('জন্য', 208915),\n",
              " ('করা', 207361),\n",
              " ('সঙ্গে', 199351),\n",
              " ('আর', 186588),\n",
              " ('করতে', 180323),\n",
              " ('না', 174150),\n",
              " ('নিয়ে', 168112),\n",
              " ('তাঁর', 166179),\n",
              " ('এক', 162792),\n",
              " ('কিন্তু', 154714),\n",
              " ('যে', 152095),\n",
              " ('একটি', 151595),\n",
              " ('এবং', 150629),\n",
              " ('না।', 141479),\n",
              " ('তিনি', 139817),\n",
              " ('হয়ে', 124786),\n",
              " ('মধ্যে', 122344),\n",
              " ('পর', 121081),\n",
              " ('তবে', 119572),\n",
              " ('কোনো', 117783),\n",
              " ('বা', 109520),\n",
              " ('প্রথম', 108676),\n",
              " ('তা', 107965),\n",
              " ('বলেন,', 107798),\n",
              " ('বলে', 105956),\n",
              " ('কথা', 104664),\n",
              " ('এর', 103948),\n",
              " ('সেই', 102648),\n",
              " ('ছিল', 93503),\n",
              " ('এখন', 93271),\n",
              " ('হবে', 93261),\n",
              " ('হবে।', 93247),\n",
              " ('দুই', 93002),\n",
              " ('অনেক', 92110),\n",
              " ('বছর', 91115),\n",
              " ('সময়', 90133),\n",
              " ('করার', 88638),\n",
              " ('আগে', 88634),\n",
              " ('দিয়ে', 88398),\n",
              " ('শুরু', 87193),\n",
              " ('নতুন', 86601),\n",
              " ('কিছু', 84857),\n",
              " ('বেশি', 84847),\n",
              " ('সব', 84356),\n",
              " ('আরও', 84194)]"
            ]
          },
          "execution_count": 66,
          "metadata": {},
          "output_type": "execute_result"
        }
      ],
      "source": [
        "# most_occured_50 = Counter.most_common(50)\n",
        "# most_occured_50"
      ]
    },
    {
      "cell_type": "markdown",
      "metadata": {
        "id": "v82mn4YX1_f3"
      },
      "source": [
        "## Divide dataset into train and test set "
      ]
    },
    {
      "cell_type": "code",
      "execution_count": 69,
      "metadata": {
        "colab": {
          "base_uri": "https://localhost:8080/"
        },
        "id": "WNCTDv_hW-o8",
        "outputId": "83bed5ea-e04f-4067-aaab-71b2027332c0"
      },
      "outputs": [
        {
          "data": {
            "text/plain": [
              "2"
            ]
          },
          "execution_count": 69,
          "metadata": {},
          "output_type": "execute_result"
        }
      ],
      "source": [
        "from sklearn.model_selection import StratifiedShuffleSplit\n",
        "\n",
        "sss = StratifiedShuffleSplit(n_splits = 2, test_size=0.3, random_state=25)\n",
        "sss.get_n_splits(X_pad, y_ohe)\n"
      ]
    },
    {
      "cell_type": "code",
      "execution_count": 70,
      "metadata": {
        "id": "t1Fn6u3MiD2e"
      },
      "outputs": [],
      "source": [
        "for train_index, test_index in sss.split(X_pad, y_ohe):\n",
        "    X_train, X_test = X_pad[train_index], X_pad[test_index]\n",
        "    y_train, y_test = y_ohe[train_index], y_ohe[test_index]"
      ]
    },
    {
      "cell_type": "markdown",
      "metadata": {
        "id": "Ta5_ddMV22fy"
      },
      "source": [
        "# Define and Train the model"
      ]
    },
    {
      "cell_type": "code",
      "execution_count": 72,
      "metadata": {
        "id": "pLesbWKe9XOi"
      },
      "outputs": [],
      "source": [
        "# import layers \n",
        "from tensorflow.keras import Sequential\n",
        "from tensorflow.keras.layers import Embedding, Bidirectional, Dense , LSTM , GRU\n",
        "\n",
        "# embedding dimension\n",
        "embedding_dim = 16\n",
        "\n",
        "# epochs\n",
        "\n",
        "epochs = 100\n",
        "\n",
        "# batch size \n",
        "\n",
        "batch_size = 32"
      ]
    },
    {
      "cell_type": "markdown",
      "metadata": {
        "id": "XalacUCMu69d"
      },
      "source": [
        "## Bidirectional LSTM"
      ]
    },
    {
      "cell_type": "code",
      "execution_count": 73,
      "metadata": {
        "colab": {
          "base_uri": "https://localhost:8080/"
        },
        "id": "nz1KTGoLUPDn",
        "outputId": "38b48dde-7b44-4816-f58c-b2c42c6ba9c7"
      },
      "outputs": [
        {
          "name": "stdout",
          "output_type": "stream",
          "text": [
            "Model: \"bidirectional_lstm\"\n",
            "_________________________________________________________________\n",
            " Layer (type)                Output Shape              Param #   \n",
            "=================================================================\n",
            " embedding (Embedding)       (None, 300, 16)           26034944  \n",
            "                                                                 \n",
            " bidirectional (Bidirectiona  (None, 300, 256)         148480    \n",
            " l)                                                              \n",
            "                                                                 \n",
            " bidirectional_1 (Bidirectio  (None, 256)              394240    \n",
            " nal)                                                            \n",
            "                                                                 \n",
            " dense (Dense)               (None, 8)                 2056      \n",
            "                                                                 \n",
            "=================================================================\n",
            "Total params: 26,579,720\n",
            "Trainable params: 26,579,720\n",
            "Non-trainable params: 0\n",
            "_________________________________________________________________\n"
          ]
        }
      ],
      "source": [
        "model_bi_directional_lstm = Sequential(name = \"bidirectional_lstm\")\n",
        "model_bi_directional_lstm.add(Embedding(\n",
        "    input_dim = vocab_size,\n",
        "    output_dim = embedding_dim, \n",
        "    input_length= maxlen\n",
        "))\n",
        "\n",
        "model_bi_directional_lstm.add(Bidirectional(LSTM(128, return_sequences = True)))\n",
        "model_bi_directional_lstm.add(Bidirectional(LSTM(128)))\n",
        "model_bi_directional_lstm.add(Dense(8,activation = 'softmax'))\n",
        "model_bi_directional_lstm.compile(optimizer = \"adam\",\n",
        "              loss = \"categorical_crossentropy\",\n",
        "              metrics = ['accuracy'])\n",
        "model_bi_directional_lstm.summary()\n"
      ]
    },
    {
      "cell_type": "code",
      "execution_count": 74,
      "metadata": {
        "colab": {
          "base_uri": "https://localhost:8080/"
        },
        "id": "uU6W4HNwL2M4",
        "outputId": "14470050-52bc-468e-f8f3-5abcfecb0f88"
      },
      "outputs": [
        {
          "data": {
            "text/plain": [
              "True"
            ]
          },
          "execution_count": 74,
          "metadata": {},
          "output_type": "execute_result"
        }
      ],
      "source": [
        "vocab_size * 16   == 26034944"
      ]
    },
    {
      "cell_type": "code",
      "execution_count": 75,
      "metadata": {
        "colab": {
          "base_uri": "https://localhost:8080/"
        },
        "id": "ujqGr_geMFOQ",
        "outputId": "bf131c6a-9f9a-4836-97e6-d919288c3256"
      },
      "outputs": [
        {
          "data": {
            "text/plain": [
              "((123176, 8), (123176, 300))"
            ]
          },
          "execution_count": 75,
          "metadata": {},
          "output_type": "execute_result"
        }
      ],
      "source": [
        "y_train.shape , X_train.shape"
      ]
    },
    {
      "cell_type": "markdown",
      "metadata": {
        "id": "rc85j5_mOTEJ"
      },
      "source": [
        "### setup tensorboard "
      ]
    },
    {
      "cell_type": "code",
      "execution_count": 77,
      "metadata": {
        "id": "7TJU8j11MTKc"
      },
      "outputs": [],
      "source": [
        "\n",
        "import datetime\n",
        "SAVE_DIR = \"drive/MyDrive/DL_models/bangla-news-rnn/model_logs\"\n",
        "def create_tensorboard_callback(dir_name, experiment_name):\n",
        "  \n",
        "  log_dir = dir_name + \"/\" + experiment_name + \"/tensorboard/\" + datetime.datetime.now().strftime(\"%Y%m%d-%H%M%S\")\n",
        "  tensorboard_callback = tf.keras.callbacks.TensorBoard(\n",
        "      log_dir=log_dir\n",
        "  )\n",
        "  print(f\"Saving TensorBoard log files to: {log_dir}\")\n",
        "  return tensorboard_callback\n"
      ]
    },
    {
      "cell_type": "markdown",
      "metadata": {
        "id": "ycW94r6kOHrY"
      },
      "source": [
        "### setup backup callback \n"
      ]
    },
    {
      "cell_type": "code",
      "execution_count": 78,
      "metadata": {
        "id": "3qCHNyE2OYah"
      },
      "outputs": [],
      "source": [
        "import tensorflow as tf\n",
        "bi_lstm_backup_callback = tf.keras.callbacks.BackupAndRestore(\n",
        "backup_dir=\"drive/MyDrive/DL_models/bangla-news-rnn/model_logs/BI-LSTM_MODEL/backup\")"
      ]
    },
    {
      "cell_type": "code",
      "execution_count": null,
      "metadata": {
        "colab": {
          "base_uri": "https://localhost:8080/"
        },
        "id": "zdhnjCoROrf9",
        "outputId": "87cfeb57-6c39-45c0-d8d9-7c78fe5f41e3"
      },
      "outputs": [
        {
          "name": "stdout",
          "output_type": "stream",
          "text": [
            "Saving TensorBoard log files to: drive/MyDrive/DL_models/bangla-news-rnn/model_logs/BI-LSTM_MODEL/tensorboard/20220515-020544\n",
            "Epoch 1/100\n",
            "3080/3080 [==============================] - 282s 88ms/step - loss: 0.9088 - accuracy: 0.6742 - val_loss: 0.4936 - val_accuracy: 0.8324\n",
            "Epoch 2/100\n",
            "2694/3080 [=========================>....] - ETA: 29s - loss: 0.2735 - accuracy: 0.9115"
          ]
        }
      ],
      "source": [
        "bi_lstm_history = model_bi_directional_lstm.fit(X_train, y_train,\n",
        "                    epochs=epochs,\n",
        "                    verbose=1,\n",
        "                    validation_split=0.2,\n",
        "                    batch_size=batch_size ,\n",
        "                    callbacks = [create_tensorboard_callback(SAVE_DIR,\"BI-LSTM_MODEL\"),\n",
        "                                 bi_lstm_backup_callback])"
      ]
    },
    {
      "cell_type": "markdown",
      "metadata": {
        "id": "wX7gqc3n_xSu"
      },
      "source": [
        "### Plotting results"
      ]
    },
    {
      "cell_type": "code",
      "execution_count": null,
      "metadata": {
        "id": "1PJDhPGe6Xwm"
      },
      "outputs": [],
      "source": [
        "\n",
        "plt.plot(bi_lstm_history.history['accuracy'])\n",
        "plt.plot(bi_lstm_history.history['val_accuracy'])\n",
        "plt.legend(['train', 'valid'])\n",
        "plt.show()\n"
      ]
    },
    {
      "cell_type": "code",
      "execution_count": null,
      "metadata": {
        "id": "-QNB-y0G6p8L"
      },
      "outputs": [],
      "source": [
        "plt.plot(bi_lstm_history.history['loss'])\n",
        "plt.plot(bi_lstm_history.history['val_loss'])\n",
        "plt.legend(['train', 'valid'])\n",
        "plt.show()"
      ]
    },
    {
      "cell_type": "code",
      "execution_count": null,
      "metadata": {
        "id": "oU5cUK6d_252"
      },
      "outputs": [],
      "source": [
        "model_bi_lstm_save_name = \"bi-directional-lstm-model.h5\"\n",
        "\n",
        "saving_path_bi_lstm =saving_dir+model_bi_lstm_save_name\n",
        "saving_path_bi_lstm"
      ]
    },
    {
      "cell_type": "code",
      "execution_count": null,
      "metadata": {
        "id": "76WHUszGAGLa"
      },
      "outputs": [],
      "source": [
        "model_bi_directional_lstm.save(saving_path_bi_lstm)"
      ]
    },
    {
      "cell_type": "markdown",
      "metadata": {
        "id": "rlT7oUisRnll"
      },
      "source": [
        "## LSTM model\n"
      ]
    },
    {
      "cell_type": "code",
      "execution_count": null,
      "metadata": {
        "id": "mgd2PTnaQRLi"
      },
      "outputs": [],
      "source": [
        "# lr_schedule = tf.keras.optimizers.schedules.ExponentialDecay(\n",
        "#     initial_learning_rate=1e-2,\n",
        "#     decay_steps=epochs,\n",
        "#     decay_rate=0.9)\n"
      ]
    },
    {
      "cell_type": "code",
      "execution_count": null,
      "metadata": {
        "colab": {
          "base_uri": "https://localhost:8080/"
        },
        "id": "pMJwSqn83H5f",
        "outputId": "13078a0a-0804-43a7-f5be-5a32ff1cad76"
      },
      "outputs": [
        {
          "name": "stdout",
          "output_type": "stream",
          "text": [
            "Model: \"lstm\"\n",
            "_________________________________________________________________\n",
            " Layer (type)                Output Shape              Param #   \n",
            "=================================================================\n",
            " embedding (Embedding)       (None, 300, 8)            13017472  \n",
            "                                                                 \n",
            " lstm (LSTM)                 (None, 300, 128)          70144     \n",
            "                                                                 \n",
            " lstm_1 (LSTM)               (None, 128)               131584    \n",
            "                                                                 \n",
            " dense (Dense)               (None, 8)                 1032      \n",
            "                                                                 \n",
            "=================================================================\n",
            "Total params: 13,220,232\n",
            "Trainable params: 13,220,232\n",
            "Non-trainable params: 0\n",
            "_________________________________________________________________\n"
          ]
        }
      ],
      "source": [
        "model_lstm = Sequential(name = \"lstm\")\n",
        "model_lstm.add(Embedding(\n",
        "    input_dim = vocab_size,\n",
        "    output_dim = embedding_dim, \n",
        "    input_length= maxlen\n",
        "))\n",
        "\n",
        "model_lstm.add(LSTM(128, return_sequences = True))\n",
        "model_lstm.add(LSTM(128))\n",
        "model_lstm.add(Dense(8,activation = 'softmax'))\n",
        "model_lstm.compile(optimizer = 'adam', #tf.keras.optimizers.Adam(learning_rate=lr_schedule),\n",
        "              loss = \"categorical_crossentropy\",\n",
        "              metrics = ['accuracy'])\n",
        "model_lstm.summary()\n"
      ]
    },
    {
      "cell_type": "code",
      "execution_count": null,
      "metadata": {
        "colab": {
          "base_uri": "https://localhost:8080/"
        },
        "id": "s5hLwnbiMlQ8",
        "outputId": "635c1a92-3659-4511-abca-b14f705f46c5"
      },
      "outputs": [
        {
          "data": {
            "text/plain": [
              "True"
            ]
          },
          "execution_count": 50,
          "metadata": {},
          "output_type": "execute_result"
        }
      ],
      "source": [
        " 8* vocab_size ==    13017472 "
      ]
    },
    {
      "cell_type": "code",
      "execution_count": null,
      "metadata": {
        "colab": {
          "base_uri": "https://localhost:8080/"
        },
        "id": "ZdgUgulUWEw2",
        "outputId": "d5dcd576-a445-48a5-fb63-692d4ccfb06a"
      },
      "outputs": [
        {
          "data": {
            "text/plain": [
              "((123176, 8), (123176, 300))"
            ]
          },
          "execution_count": 51,
          "metadata": {},
          "output_type": "execute_result"
        }
      ],
      "source": [
        "y_train.shape , X_train.shape\n"
      ]
    },
    {
      "cell_type": "code",
      "execution_count": null,
      "metadata": {
        "id": "W78Eh7ObaTWB"
      },
      "outputs": [],
      "source": [
        "import datetime\n",
        "SAVE_DIR = \"drive/MyDrive/DL_models/bangla-news-rnn/model_logs\"\n",
        "def create_tensorboard_callback(dir_name, experiment_name):\n",
        "  \n",
        "  log_dir = dir_name + \"/\" + experiment_name + \"/tensorboard/\" + datetime.datetime.now().strftime(\"%Y%m%d-%H%M%S\")\n",
        "  tensorboard_callback = tf.keras.callbacks.TensorBoard(\n",
        "      log_dir=log_dir\n",
        "  )\n",
        "  print(f\"Saving TensorBoard log files to: {log_dir}\")\n",
        "  return tensorboard_callback\n",
        "\n",
        "\n",
        "\n"
      ]
    },
    {
      "cell_type": "code",
      "execution_count": null,
      "metadata": {
        "id": "wS9Kz_uxzuQ4"
      },
      "outputs": [],
      "source": [
        "import tensorflow as tf\n",
        "lstm_backup_callback = tf.keras.callbacks.BackupAndRestore(\n",
        "backup_dir=\"drive/MyDrive/DL_models/bangla-news-rnn/model_logs/LSTM_MODEL/backup\")"
      ]
    },
    {
      "cell_type": "code",
      "execution_count": null,
      "metadata": {
        "colab": {
          "base_uri": "https://localhost:8080/",
          "height": 363
        },
        "id": "jNLNZbnhSPfi",
        "outputId": "48b8a57b-82a8-41c7-e125-9d5d6e506d49"
      },
      "outputs": [
        {
          "name": "stdout",
          "output_type": "stream",
          "text": [
            "Saving TensorBoard log files to: drive/MyDrive/DL_models/bangla-news-rnn/model_logs/LSTM_MODEL/tensorboard/20220411-095131\n"
          ]
        },
        {
          "ename": "OpError",
          "evalue": "ignored",
          "output_type": "error",
          "traceback": [
            "\u001b[0;31m---------------------------------------------------------------------------\u001b[0m",
            "\u001b[0;31mOpError\u001b[0m                                   Traceback (most recent call last)",
            "\u001b[0;32m<ipython-input-75-1ce3568ae1b2>\u001b[0m in \u001b[0;36m<module>\u001b[0;34m()\u001b[0m\n\u001b[1;32m      5\u001b[0m                     \u001b[0mbatch_size\u001b[0m\u001b[0;34m=\u001b[0m\u001b[0mbatch_size\u001b[0m \u001b[0;34m,\u001b[0m\u001b[0;34m\u001b[0m\u001b[0;34m\u001b[0m\u001b[0m\n\u001b[1;32m      6\u001b[0m                     callbacks = [create_tensorboard_callback(SAVE_DIR,\"LSTM_MODEL\"),\n\u001b[0;32m----> 7\u001b[0;31m                                  lstm_backup_callback])\n\u001b[0m",
            "\u001b[0;32m/usr/local/lib/python3.7/dist-packages/keras/utils/traceback_utils.py\u001b[0m in \u001b[0;36merror_handler\u001b[0;34m(*args, **kwargs)\u001b[0m\n\u001b[1;32m     65\u001b[0m     \u001b[0;32mexcept\u001b[0m \u001b[0mException\u001b[0m \u001b[0;32mas\u001b[0m \u001b[0me\u001b[0m\u001b[0;34m:\u001b[0m  \u001b[0;31m# pylint: disable=broad-except\u001b[0m\u001b[0;34m\u001b[0m\u001b[0;34m\u001b[0m\u001b[0m\n\u001b[1;32m     66\u001b[0m       \u001b[0mfiltered_tb\u001b[0m \u001b[0;34m=\u001b[0m \u001b[0m_process_traceback_frames\u001b[0m\u001b[0;34m(\u001b[0m\u001b[0me\u001b[0m\u001b[0;34m.\u001b[0m\u001b[0m__traceback__\u001b[0m\u001b[0;34m)\u001b[0m\u001b[0;34m\u001b[0m\u001b[0;34m\u001b[0m\u001b[0m\n\u001b[0;32m---> 67\u001b[0;31m       \u001b[0;32mraise\u001b[0m \u001b[0me\u001b[0m\u001b[0;34m.\u001b[0m\u001b[0mwith_traceback\u001b[0m\u001b[0;34m(\u001b[0m\u001b[0mfiltered_tb\u001b[0m\u001b[0;34m)\u001b[0m \u001b[0;32mfrom\u001b[0m \u001b[0;32mNone\u001b[0m\u001b[0;34m\u001b[0m\u001b[0;34m\u001b[0m\u001b[0m\n\u001b[0m\u001b[1;32m     68\u001b[0m     \u001b[0;32mfinally\u001b[0m\u001b[0;34m:\u001b[0m\u001b[0;34m\u001b[0m\u001b[0;34m\u001b[0m\u001b[0m\n\u001b[1;32m     69\u001b[0m       \u001b[0;32mdel\u001b[0m \u001b[0mfiltered_tb\u001b[0m\u001b[0;34m\u001b[0m\u001b[0;34m\u001b[0m\u001b[0m\n",
            "\u001b[0;32m/usr/local/lib/python3.7/dist-packages/tensorflow/python/training/py_checkpoint_reader.py\u001b[0m in \u001b[0;36merror_translator\u001b[0;34m(e)\u001b[0m\n\u001b[1;32m     43\u001b[0m     \u001b[0;32mraise\u001b[0m \u001b[0merrors_impl\u001b[0m\u001b[0;34m.\u001b[0m\u001b[0mInternalError\u001b[0m\u001b[0;34m(\u001b[0m\u001b[0;32mNone\u001b[0m\u001b[0;34m,\u001b[0m \u001b[0;32mNone\u001b[0m\u001b[0;34m,\u001b[0m \u001b[0merror_message\u001b[0m\u001b[0;34m)\u001b[0m\u001b[0;34m\u001b[0m\u001b[0;34m\u001b[0m\u001b[0m\n\u001b[1;32m     44\u001b[0m   \u001b[0;32melse\u001b[0m\u001b[0;34m:\u001b[0m\u001b[0;34m\u001b[0m\u001b[0;34m\u001b[0m\u001b[0m\n\u001b[0;32m---> 45\u001b[0;31m     \u001b[0;32mraise\u001b[0m \u001b[0merrors_impl\u001b[0m\u001b[0;34m.\u001b[0m\u001b[0mOpError\u001b[0m\u001b[0;34m(\u001b[0m\u001b[0;32mNone\u001b[0m\u001b[0;34m,\u001b[0m \u001b[0;32mNone\u001b[0m\u001b[0;34m,\u001b[0m \u001b[0merror_message\u001b[0m\u001b[0;34m,\u001b[0m \u001b[0merrors_impl\u001b[0m\u001b[0;34m.\u001b[0m\u001b[0mUNKNOWN\u001b[0m\u001b[0;34m)\u001b[0m\u001b[0;34m\u001b[0m\u001b[0;34m\u001b[0m\u001b[0m\n\u001b[0m\u001b[1;32m     46\u001b[0m \u001b[0;34m\u001b[0m\u001b[0m\n\u001b[1;32m     47\u001b[0m \u001b[0;34m\u001b[0m\u001b[0m\n",
            "\u001b[0;31mOpError\u001b[0m: drive/MyDrive/DL_models/bangla-news-rnn/model_logs/LSTM_MODEL/backup/chief/ckpt-92.data-00000-of-00001; No such file or directory"
          ]
        }
      ],
      "source": [
        "lstm_history = model_lstm.fit(X_train, y_train,\n",
        "                    epochs=epochs,\n",
        "                    verbose=1,\n",
        "                    validation_split=0.2,\n",
        "                    batch_size=batch_size ,\n",
        "                    callbacks = [create_tensorboard_callback(SAVE_DIR,\"LSTM_MODEL\"),\n",
        "                                 lstm_backup_callback])"
      ]
    },
    {
      "cell_type": "code",
      "execution_count": null,
      "metadata": {
        "colab": {
          "base_uri": "https://localhost:8080/"
        },
        "id": "Zc9nMNrAYCNd",
        "outputId": "23843b2c-b648-499a-c6c2-5c4e5ea2b61b"
      },
      "outputs": [
        {
          "name": "stdout",
          "output_type": "stream",
          "text": [
            "2022-04-10 17:49:03.998556: E tensorflow/stream_executor/cuda/cuda_driver.cc:271] failed call to cuInit: CUDA_ERROR_NO_DEVICE: no CUDA-capable device is detected\n",
            "\n",
            "NOTE: Using experimental fast data loading logic. To disable, pass\n",
            "    \"--load_fast=false\" and report issues on GitHub. More details:\n",
            "    https://github.com/tensorflow/tensorboard/issues/4784\n",
            "\n",
            "Serving TensorBoard on localhost; to expose to the network, use a proxy or pass --bind_all\n",
            "TensorBoard 2.8.0 at http://localhost:6006/ (Press CTRL+C to quit)\n"
          ]
        }
      ],
      "source": [
        "\n",
        "!tensorboard --logdir ./drive/MyDrive/DL_models/bangla-news-rnn/model_logs/LSTM_MODEL\n",
        "\n"
      ]
    },
    {
      "cell_type": "code",
      "execution_count": null,
      "metadata": {
        "id": "-6qn-f-W5jAn"
      },
      "outputs": [],
      "source": [
        "lstm_history.params"
      ]
    },
    {
      "cell_type": "code",
      "execution_count": null,
      "metadata": {
        "id": "gWJAh8uZ5tO2"
      },
      "outputs": [],
      "source": [
        "lstm_history.history.keys()"
      ]
    },
    {
      "cell_type": "markdown",
      "metadata": {
        "id": "bW-kZOWklvlS"
      },
      "source": [
        "### Plotting losses and accuracies"
      ]
    },
    {
      "cell_type": "code",
      "execution_count": null,
      "metadata": {
        "id": "5gTUYkd9SyFQ"
      },
      "outputs": [],
      "source": [
        "import matplotlib.pyplot as plt\n",
        "\n",
        "plt.plot(lstm_history.history['accuracy'])\n",
        "plt.plot(lstm_history.history['val_accuracy'])\n",
        "plt.legend(['train', 'valid'])\n",
        "plt.show()\n"
      ]
    },
    {
      "cell_type": "code",
      "execution_count": null,
      "metadata": {
        "id": "jIKmw3NpS1oO"
      },
      "outputs": [],
      "source": [
        "plt.plot(lstm_history.history['loss'])\n",
        "plt.plot(lstm_history.history['val_loss'])\n",
        "plt.legend(['train', 'valid'])\n",
        "plt.show()"
      ]
    },
    {
      "cell_type": "markdown",
      "metadata": {
        "id": "hOtHqLcOQnE6"
      },
      "source": [
        "### saving the model"
      ]
    },
    {
      "cell_type": "code",
      "execution_count": null,
      "metadata": {
        "id": "IA_7NbtW8mtq"
      },
      "outputs": [],
      "source": [
        "# define gloabl saving dir\n",
        "saving_dir = \"drive/MyDrive/DL_models/bangla-news-rnn/\""
      ]
    },
    {
      "cell_type": "code",
      "execution_count": null,
      "metadata": {
        "id": "xMHfbIDBS9_m"
      },
      "outputs": [],
      "source": [
        "model_lstm_save_name = \"lstm-model.h5\"\n",
        "\n",
        "saving_path_lstm =saving_dir+model_lstm_save_name\n",
        "saving_path_lstm"
      ]
    },
    {
      "cell_type": "code",
      "execution_count": null,
      "metadata": {
        "id": "yM-MphcRTfQO"
      },
      "outputs": [],
      "source": [
        "model_lstm.save(saving_path_lstm)"
      ]
    },
    {
      "cell_type": "markdown",
      "metadata": {
        "id": "bh0hHZ1LkNrG"
      },
      "source": [
        "## GRU model\n"
      ]
    },
    {
      "cell_type": "code",
      "execution_count": null,
      "metadata": {
        "id": "9iVAcnNnQc5p"
      },
      "outputs": [],
      "source": [
        "from tensorflow.keras.layers import GRU\n",
        "\n",
        "model_gru = Sequential(name = \"gru\")\n",
        "model_gru.add(Embedding(\n",
        "    input_dim = vocab_size,\n",
        "    output_dim = embedding_dim, \n",
        "    input_length= maxlen\n",
        "))\n",
        "\n",
        "model_gru.add(GRU(128, return_sequences = True))\n",
        "model_gru.add(GRU(128))\n",
        "model_gru.add(Dense(10,activation = 'softmax'))\n",
        "model_gru.compile(optimizer = \"adam\",\n",
        "              loss = \"categorical_crossentropy\",\n",
        "              metrics = ['accuracy'])\n",
        "model_gru.summary()"
      ]
    },
    {
      "cell_type": "code",
      "execution_count": null,
      "metadata": {
        "id": "-QFF8IsWkrpP"
      },
      "outputs": [],
      "source": [
        "gru_history = model_gru.fit(X_train, y_train,\n",
        "                    epochs=epochs,\n",
        "                    verbose=1,\n",
        "                    validation_split=0.2,\n",
        "                    batch_size=batch_size\n",
        "                   )"
      ]
    },
    {
      "cell_type": "markdown",
      "metadata": {
        "id": "j4PkFzwyuv7Q"
      },
      "source": [
        "### plotting results"
      ]
    },
    {
      "cell_type": "code",
      "execution_count": null,
      "metadata": {
        "id": "V0-8NPGKpG-C"
      },
      "outputs": [],
      "source": [
        "import matplotlib.pyplot as plt\n",
        "\n",
        "plt.plot(gru_history.history['accuracy'])\n",
        "plt.plot(gru_history.history['val_accuracy'])\n",
        "plt.legend(['train', 'valid'])\n",
        "plt.show()"
      ]
    },
    {
      "cell_type": "code",
      "execution_count": null,
      "metadata": {
        "id": "t-c2PNrgpR04"
      },
      "outputs": [],
      "source": [
        "import matplotlib.pyplot as plt\n",
        "\n",
        "plt.plot(gru_history.history['loss'])\n",
        "plt.plot(gru_history.history['val_loss'])\n",
        "plt.legend(['train', 'valid'])\n",
        "plt.show()"
      ]
    },
    {
      "cell_type": "code",
      "execution_count": null,
      "metadata": {
        "id": "i0VSXzzJ_UXy"
      },
      "outputs": [],
      "source": [
        "model_gru_save_name = \"gru-model.h5\"\n",
        "\n",
        "saving_path_gru =saving_dir+model_gru_save_name\n",
        "saving_path_gru"
      ]
    },
    {
      "cell_type": "code",
      "execution_count": null,
      "metadata": {
        "id": "mPWr8E-Y_c_q"
      },
      "outputs": [],
      "source": [
        "model_gru.save(saving_path_gru)"
      ]
    },
    {
      "cell_type": "markdown",
      "metadata": {
        "id": "KYz3ZEKOymr0"
      },
      "source": [
        "## Plotting all data "
      ]
    },
    {
      "cell_type": "code",
      "execution_count": null,
      "metadata": {
        "id": "LCS_gIrqran1"
      },
      "outputs": [],
      "source": [
        "fig,(lstm,gru, bi_lstm)  = plt.subplots(nrows = 3,\n",
        "                                        ncols = 1,\n",
        "                                        figsize = (15,15))\n",
        "\n",
        "\n",
        "# lstm\n",
        "lstm.plot(lstm_history.history['accuracy'])\n",
        "lstm.plot(lstm_history.history['val_accuracy'])\n",
        "lstm.legend(['train', 'valid'])\n",
        "lstm.set_title(\"LSTM accuracies\")\n",
        "\n",
        "# gru\n",
        "\n",
        "gru.plot(gru_history.history['accuracy'])\n",
        "gru.plot(gru_history.history['val_accuracy'])\n",
        "gru.legend(['train', 'valid'])\n",
        "gru.set_title(\"GRU accuracies\")\n",
        "\n",
        "# bi -lstm\n",
        "\n",
        "bi_lstm.plot(bi_lstm_history.history['accuracy'])\n",
        "bi_lstm.plot(bi_lstm_history.history['val_accuracy'])\n",
        "bi_lstm.legend(['train', 'valid'])\n",
        "bi_lstm.set_title(\"Bi-directional accuracies\")\n",
        "\n",
        "fig.suptitle(\"Training and validation accuracies with epochs\")\n",
        "\n",
        "fig.show()\n"
      ]
    },
    {
      "cell_type": "code",
      "execution_count": null,
      "metadata": {
        "id": "lRG758mSukRd"
      },
      "outputs": [],
      "source": [
        "# loss\n",
        "fig,(lstm,gru, bi_lstm)  = plt.subplots(nrows = 3,\n",
        "                                        ncols = 1,\n",
        "                                        figsize = (15,15))\n",
        "\n",
        "\n",
        "# lstm\n",
        "lstm.plot(lstm_history.history['loss'])\n",
        "lstm.plot(lstm_history.history['val_loss'])\n",
        "lstm.legend(['train', 'valid'])\n",
        "lstm.set_title(\"LSTM losses\")\n",
        "\n",
        "# gru\n",
        "\n",
        "gru.plot(gru_history.history['loss'])\n",
        "gru.plot(gru_history.history['val_loss'])\n",
        "gru.legend(['train', 'valid'])\n",
        "gru.set_title(\"GRU losses\")\n",
        "\n",
        "# bi -lstm\n",
        "\n",
        "bi_lstm.plot(bi_lstm_history.history['loss'])\n",
        "bi_lstm.plot(bi_lstm_history.history['val_loss'])\n",
        "bi_lstm.legend(['train', 'valid'])\n",
        "bi_lstm.set_title(\"Bi-directional losses\")\n",
        "\n",
        "fig.suptitle(\"Training and validation losses with epochs\")\n",
        "\n",
        "fig.show()\n"
      ]
    },
    {
      "cell_type": "code",
      "execution_count": null,
      "metadata": {
        "id": "sS80YDmUyrbM"
      },
      "outputs": [],
      "source": []
    }
  ],
  "metadata": {
    "accelerator": "GPU",
    "colab": {
      "collapsed_sections": [],
      "name": "bangla_news_classification.ipynb",
      "provenance": []
    },
    "kernelspec": {
      "display_name": "Python 3",
      "name": "python3"
    },
    "language_info": {
      "name": "python"
    },
    "widgets": {
      "application/vnd.jupyter.widget-state+json": {
        "31c1d15549524b0db2995551ddffb9c6": {
          "model_module": "@jupyter-widgets/controls",
          "model_module_version": "1.5.0",
          "model_name": "ProgressStyleModel",
          "state": {
            "_model_module": "@jupyter-widgets/controls",
            "_model_module_version": "1.5.0",
            "_model_name": "ProgressStyleModel",
            "_view_count": null,
            "_view_module": "@jupyter-widgets/base",
            "_view_module_version": "1.2.0",
            "_view_name": "StyleView",
            "bar_color": null,
            "description_width": ""
          }
        },
        "4639e626c37e48edb924bbf0b3941290": {
          "model_module": "@jupyter-widgets/controls",
          "model_module_version": "1.5.0",
          "model_name": "HBoxModel",
          "state": {
            "_dom_classes": [],
            "_model_module": "@jupyter-widgets/controls",
            "_model_module_version": "1.5.0",
            "_model_name": "HBoxModel",
            "_view_count": null,
            "_view_module": "@jupyter-widgets/controls",
            "_view_module_version": "1.5.0",
            "_view_name": "HBoxView",
            "box_style": "",
            "children": [
              "IPY_MODEL_f997ec7a5e5d479bb09a0e1fc850a36e",
              "IPY_MODEL_59080ecf7ba0488a9ac2587081611099",
              "IPY_MODEL_a27e38b821b643f7a643238c9b9fa8d9"
            ],
            "layout": "IPY_MODEL_55d32f0ce7d74ade8a47c5638f280aae"
          }
        },
        "4ff8b4df881a4a4aa8c5b1ac2dcf62ed": {
          "model_module": "@jupyter-widgets/controls",
          "model_module_version": "1.5.0",
          "model_name": "DescriptionStyleModel",
          "state": {
            "_model_module": "@jupyter-widgets/controls",
            "_model_module_version": "1.5.0",
            "_model_name": "DescriptionStyleModel",
            "_view_count": null,
            "_view_module": "@jupyter-widgets/base",
            "_view_module_version": "1.2.0",
            "_view_name": "StyleView",
            "description_width": ""
          }
        },
        "55d32f0ce7d74ade8a47c5638f280aae": {
          "model_module": "@jupyter-widgets/base",
          "model_module_version": "1.2.0",
          "model_name": "LayoutModel",
          "state": {
            "_model_module": "@jupyter-widgets/base",
            "_model_module_version": "1.2.0",
            "_model_name": "LayoutModel",
            "_view_count": null,
            "_view_module": "@jupyter-widgets/base",
            "_view_module_version": "1.2.0",
            "_view_name": "LayoutView",
            "align_content": null,
            "align_items": null,
            "align_self": null,
            "border": null,
            "bottom": null,
            "display": null,
            "flex": null,
            "flex_flow": null,
            "grid_area": null,
            "grid_auto_columns": null,
            "grid_auto_flow": null,
            "grid_auto_rows": null,
            "grid_column": null,
            "grid_gap": null,
            "grid_row": null,
            "grid_template_areas": null,
            "grid_template_columns": null,
            "grid_template_rows": null,
            "height": null,
            "justify_content": null,
            "justify_items": null,
            "left": null,
            "margin": null,
            "max_height": null,
            "max_width": null,
            "min_height": null,
            "min_width": null,
            "object_fit": null,
            "object_position": null,
            "order": null,
            "overflow": null,
            "overflow_x": null,
            "overflow_y": null,
            "padding": null,
            "right": null,
            "top": null,
            "visibility": null,
            "width": null
          }
        },
        "59080ecf7ba0488a9ac2587081611099": {
          "model_module": "@jupyter-widgets/controls",
          "model_module_version": "1.5.0",
          "model_name": "FloatProgressModel",
          "state": {
            "_dom_classes": [],
            "_model_module": "@jupyter-widgets/controls",
            "_model_module_version": "1.5.0",
            "_model_name": "FloatProgressModel",
            "_view_count": null,
            "_view_module": "@jupyter-widgets/controls",
            "_view_module_version": "1.5.0",
            "_view_name": "ProgressView",
            "bar_style": "success",
            "description": "",
            "description_tooltip": null,
            "layout": "IPY_MODEL_fa72f79d067049eaa83e2c687d41de7b",
            "max": 175967,
            "min": 0,
            "orientation": "horizontal",
            "style": "IPY_MODEL_31c1d15549524b0db2995551ddffb9c6",
            "value": 175967
          }
        },
        "73beee8c514f468eadff8f45f4f5330e": {
          "model_module": "@jupyter-widgets/controls",
          "model_module_version": "1.5.0",
          "model_name": "DescriptionStyleModel",
          "state": {
            "_model_module": "@jupyter-widgets/controls",
            "_model_module_version": "1.5.0",
            "_model_name": "DescriptionStyleModel",
            "_view_count": null,
            "_view_module": "@jupyter-widgets/base",
            "_view_module_version": "1.2.0",
            "_view_name": "StyleView",
            "description_width": ""
          }
        },
        "a27e38b821b643f7a643238c9b9fa8d9": {
          "model_module": "@jupyter-widgets/controls",
          "model_module_version": "1.5.0",
          "model_name": "HTMLModel",
          "state": {
            "_dom_classes": [],
            "_model_module": "@jupyter-widgets/controls",
            "_model_module_version": "1.5.0",
            "_model_name": "HTMLModel",
            "_view_count": null,
            "_view_module": "@jupyter-widgets/controls",
            "_view_module_version": "1.5.0",
            "_view_name": "HTMLView",
            "description": "",
            "description_tooltip": null,
            "layout": "IPY_MODEL_d6094b9a6c7c4fd4bf38d8c66781f1b6",
            "placeholder": "​",
            "style": "IPY_MODEL_73beee8c514f468eadff8f45f4f5330e",
            "value": " 175967/175967 [00:09&lt;00:00, 15430.48it/s]"
          }
        },
        "b7c210e8d03842e28bb75588d5547f8d": {
          "model_module": "@jupyter-widgets/base",
          "model_module_version": "1.2.0",
          "model_name": "LayoutModel",
          "state": {
            "_model_module": "@jupyter-widgets/base",
            "_model_module_version": "1.2.0",
            "_model_name": "LayoutModel",
            "_view_count": null,
            "_view_module": "@jupyter-widgets/base",
            "_view_module_version": "1.2.0",
            "_view_name": "LayoutView",
            "align_content": null,
            "align_items": null,
            "align_self": null,
            "border": null,
            "bottom": null,
            "display": null,
            "flex": null,
            "flex_flow": null,
            "grid_area": null,
            "grid_auto_columns": null,
            "grid_auto_flow": null,
            "grid_auto_rows": null,
            "grid_column": null,
            "grid_gap": null,
            "grid_row": null,
            "grid_template_areas": null,
            "grid_template_columns": null,
            "grid_template_rows": null,
            "height": null,
            "justify_content": null,
            "justify_items": null,
            "left": null,
            "margin": null,
            "max_height": null,
            "max_width": null,
            "min_height": null,
            "min_width": null,
            "object_fit": null,
            "object_position": null,
            "order": null,
            "overflow": null,
            "overflow_x": null,
            "overflow_y": null,
            "padding": null,
            "right": null,
            "top": null,
            "visibility": null,
            "width": null
          }
        },
        "d6094b9a6c7c4fd4bf38d8c66781f1b6": {
          "model_module": "@jupyter-widgets/base",
          "model_module_version": "1.2.0",
          "model_name": "LayoutModel",
          "state": {
            "_model_module": "@jupyter-widgets/base",
            "_model_module_version": "1.2.0",
            "_model_name": "LayoutModel",
            "_view_count": null,
            "_view_module": "@jupyter-widgets/base",
            "_view_module_version": "1.2.0",
            "_view_name": "LayoutView",
            "align_content": null,
            "align_items": null,
            "align_self": null,
            "border": null,
            "bottom": null,
            "display": null,
            "flex": null,
            "flex_flow": null,
            "grid_area": null,
            "grid_auto_columns": null,
            "grid_auto_flow": null,
            "grid_auto_rows": null,
            "grid_column": null,
            "grid_gap": null,
            "grid_row": null,
            "grid_template_areas": null,
            "grid_template_columns": null,
            "grid_template_rows": null,
            "height": null,
            "justify_content": null,
            "justify_items": null,
            "left": null,
            "margin": null,
            "max_height": null,
            "max_width": null,
            "min_height": null,
            "min_width": null,
            "object_fit": null,
            "object_position": null,
            "order": null,
            "overflow": null,
            "overflow_x": null,
            "overflow_y": null,
            "padding": null,
            "right": null,
            "top": null,
            "visibility": null,
            "width": null
          }
        },
        "f997ec7a5e5d479bb09a0e1fc850a36e": {
          "model_module": "@jupyter-widgets/controls",
          "model_module_version": "1.5.0",
          "model_name": "HTMLModel",
          "state": {
            "_dom_classes": [],
            "_model_module": "@jupyter-widgets/controls",
            "_model_module_version": "1.5.0",
            "_model_name": "HTMLModel",
            "_view_count": null,
            "_view_module": "@jupyter-widgets/controls",
            "_view_module_version": "1.5.0",
            "_view_name": "HTMLView",
            "description": "",
            "description_tooltip": null,
            "layout": "IPY_MODEL_b7c210e8d03842e28bb75588d5547f8d",
            "placeholder": "​",
            "style": "IPY_MODEL_4ff8b4df881a4a4aa8c5b1ac2dcf62ed",
            "value": "100%"
          }
        },
        "fa72f79d067049eaa83e2c687d41de7b": {
          "model_module": "@jupyter-widgets/base",
          "model_module_version": "1.2.0",
          "model_name": "LayoutModel",
          "state": {
            "_model_module": "@jupyter-widgets/base",
            "_model_module_version": "1.2.0",
            "_model_name": "LayoutModel",
            "_view_count": null,
            "_view_module": "@jupyter-widgets/base",
            "_view_module_version": "1.2.0",
            "_view_name": "LayoutView",
            "align_content": null,
            "align_items": null,
            "align_self": null,
            "border": null,
            "bottom": null,
            "display": null,
            "flex": null,
            "flex_flow": null,
            "grid_area": null,
            "grid_auto_columns": null,
            "grid_auto_flow": null,
            "grid_auto_rows": null,
            "grid_column": null,
            "grid_gap": null,
            "grid_row": null,
            "grid_template_areas": null,
            "grid_template_columns": null,
            "grid_template_rows": null,
            "height": null,
            "justify_content": null,
            "justify_items": null,
            "left": null,
            "margin": null,
            "max_height": null,
            "max_width": null,
            "min_height": null,
            "min_width": null,
            "object_fit": null,
            "object_position": null,
            "order": null,
            "overflow": null,
            "overflow_x": null,
            "overflow_y": null,
            "padding": null,
            "right": null,
            "top": null,
            "visibility": null,
            "width": null
          }
        }
      }
    }
  },
  "nbformat": 4,
  "nbformat_minor": 0
}
